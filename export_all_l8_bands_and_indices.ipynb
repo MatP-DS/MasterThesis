{
  "nbformat": 4,
  "nbformat_minor": 0,
  "metadata": {
    "colab": {
      "provenance": [],
      "authorship_tag": "ABX9TyMQSXVvJQ7srceVExu+e92Z",
      "include_colab_link": true
    },
    "kernelspec": {
      "name": "python3",
      "display_name": "Python 3"
    },
    "language_info": {
      "name": "python"
    }
  },
  "cells": [
    {
      "cell_type": "markdown",
      "metadata": {
        "id": "view-in-github",
        "colab_type": "text"
      },
      "source": [
        "<a href=\"https://colab.research.google.com/github/MatP-DS/MasterThesis/blob/main/export_all_l8_bands_and_indices.ipynb\" target=\"_parent\"><img src=\"https://colab.research.google.com/assets/colab-badge.svg\" alt=\"Open In Colab\"/></a>"
      ]
    },
    {
      "cell_type": "code",
      "execution_count": null,
      "metadata": {
        "colab": {
          "base_uri": "https://localhost:8080/"
        },
        "id": "0S9jdSxtOVE0",
        "outputId": "13cf3147-1749-4cb2-b212-137336e51f76"
      },
      "outputs": [
        {
          "output_type": "stream",
          "name": "stdout",
          "text": [
            "Mounted at /content/drive\n"
          ]
        }
      ],
      "source": [
        "import ee\n",
        "import os\n",
        "from google.colab import drive\n",
        "\n",
        "# ------------------------------\n",
        "# STEP 1: Setup\n",
        "# ------------------------------\n",
        "ee.Authenticate()\n",
        "ee.Initialize(project='ee-masterthesisdeforestation')\n",
        "\n",
        "if not os.path.ismount('/content/drive'):\n",
        "    drive.mount('/content/drive')\n",
        "\n",
        "aoi = ee.Geometry.Rectangle([-56.2, -11.8, -56.0, -11.6])\n"
      ]
    },
    {
      "cell_type": "code",
      "source": [
        "# ------------------------------\n",
        "# STEP 2: Cloud masking for Landsat 8 SR\n",
        "# ------------------------------\n",
        "def maskL8sr(image):\n",
        "    cloudShadowBitMask = 1 << 3\n",
        "    cloudsBitMask = 1 << 5\n",
        "    qa = image.select('QA_PIXEL')\n",
        "    mask = qa.bitwiseAnd(cloudShadowBitMask).eq(0).And(\n",
        "           qa.bitwiseAnd(cloudsBitMask).eq(0))\n",
        "    return image.updateMask(mask).copyProperties(image, [\"system:time_start\"])\n"
      ],
      "metadata": {
        "id": "pmWJldlKOduF"
      },
      "execution_count": null,
      "outputs": []
    },
    {
      "cell_type": "code",
      "source": [
        "# ------------------------------\n",
        "# STEP 3: Add spectral indices\n",
        "# ------------------------------\n",
        "def add_all_indices(img):\n",
        "    ndvi = img.normalizedDifference(['SR_B5', 'SR_B4']).rename('NDVI')\n",
        "    evi = img.expression(\n",
        "        '2.5 * ((NIR - RED) / (NIR + 6 * RED - 7.5 * BLUE + 1))',\n",
        "        {'NIR': img.select('SR_B5'), 'RED': img.select('SR_B4'), 'BLUE': img.select('SR_B2')}\n",
        "    ).rename('EVI')\n",
        "    ndwi = img.normalizedDifference(['SR_B3', 'SR_B5']).rename('NDWI')\n",
        "    nbr = img.normalizedDifference(['SR_B5', 'SR_B7']).rename('NBR')\n",
        "    savi = img.expression(\n",
        "        '((NIR - RED) / (NIR + RED + 0.5)) * 1.5',\n",
        "        {'NIR': img.select('SR_B5'), 'RED': img.select('SR_B4')}\n",
        "    ).rename('SAVI')\n",
        "\n",
        "    return img.addBands([ndvi, evi, ndwi, nbr, savi])\n"
      ],
      "metadata": {
        "id": "0U1_LgYUOfCB"
      },
      "execution_count": null,
      "outputs": []
    },
    {
      "cell_type": "code",
      "source": [
        "# ------------------------------\n",
        "# STEP 4: Monthly export loop\n",
        "# ------------------------------\n",
        "output_folder = '02_landsat8/full_feature_stack'\n",
        "local_check_dir = '/content/drive/MyDrive/MasterThesis/01_raw_data/' + output_folder\n",
        "os.makedirs(local_check_dir, exist_ok=True)\n",
        "\n",
        "years = [2020, 2021, 2022, 2023]\n",
        "\n",
        "for year in years:\n",
        "    for month in range(1, 13):\n",
        "        start = ee.Date.fromYMD(year, month, 1)\n",
        "        end = start.advance(1, 'month')\n",
        "        filename = f'L8_full_{year}_{month:02d}.tif'\n",
        "        local_path = os.path.join(local_check_dir, filename)\n",
        "\n",
        "        if os.path.exists(local_path):\n",
        "            print(f\"⏭️ Skipping existing: {filename}\")\n",
        "            continue\n",
        "\n",
        "        collection = (\n",
        "            ee.ImageCollection('LANDSAT/LC08/C02/T1_L2')\n",
        "            .filterDate(start, end)\n",
        "            .filterBounds(aoi)\n",
        "            .map(maskL8sr)\n",
        "            .map(lambda img: img.multiply(0.0000275).add(-0.2).copyProperties(img, [\"system:time_start\"]))  # Scaling for SR bands\n",
        "            .map(add_all_indices)\n",
        "            .select([\n",
        "                'SR_B2', 'SR_B3', 'SR_B4', 'SR_B5', 'SR_B6', 'SR_B7',\n",
        "                'NDVI', 'EVI', 'NDWI', 'NBR', 'SAVI'\n",
        "            ])\n",
        "        )\n",
        "\n",
        "        composite = collection.mean().clip(aoi)\n",
        "\n",
        "        if composite.bandNames().size().getInfo() == 0:\n",
        "            print(f\"⚠️ No data in {year}-{month:02d}\")\n",
        "            continue\n",
        "\n",
        "        task = ee.batch.Export.image.toDrive(\n",
        "            image=composite.toFloat(),\n",
        "            description=f'Export_L8_full_{year}_{month:02d}',\n",
        "            folder=output_folder.split(\"/\")[-1],\n",
        "            fileNamePrefix=f'L8_full_{year}_{month:02d}',\n",
        "            region=aoi,\n",
        "            scale=30,  # Landsat 8 native resolution\n",
        "            fileFormat='GeoTIFF',\n",
        "            maxPixels=1e13\n",
        "        )\n",
        "        task.start()\n",
        "        print(f\"🚀 Export started: {filename}\")\n"
      ],
      "metadata": {
        "colab": {
          "base_uri": "https://localhost:8080/"
        },
        "id": "WNZKLKq2Of_7",
        "outputId": "f1f3b0b3-7606-463d-b91c-b0261b8d5122"
      },
      "execution_count": null,
      "outputs": [
        {
          "output_type": "stream",
          "name": "stdout",
          "text": [
            "⚠️ No data in 2020-01\n",
            "🚀 Export started: L8_full_2020_02.tif\n",
            "⚠️ No data in 2020-03\n",
            "🚀 Export started: L8_full_2020_04.tif\n",
            "🚀 Export started: L8_full_2020_05.tif\n",
            "🚀 Export started: L8_full_2020_06.tif\n",
            "🚀 Export started: L8_full_2020_07.tif\n",
            "🚀 Export started: L8_full_2020_08.tif\n",
            "🚀 Export started: L8_full_2020_09.tif\n",
            "🚀 Export started: L8_full_2020_10.tif\n",
            "🚀 Export started: L8_full_2020_11.tif\n",
            "🚀 Export started: L8_full_2020_12.tif\n",
            "🚀 Export started: L8_full_2021_01.tif\n",
            "🚀 Export started: L8_full_2021_02.tif\n",
            "🚀 Export started: L8_full_2021_03.tif\n",
            "🚀 Export started: L8_full_2021_04.tif\n",
            "🚀 Export started: L8_full_2021_05.tif\n",
            "🚀 Export started: L8_full_2021_06.tif\n",
            "🚀 Export started: L8_full_2021_07.tif\n",
            "🚀 Export started: L8_full_2021_08.tif\n",
            "🚀 Export started: L8_full_2021_09.tif\n",
            "🚀 Export started: L8_full_2021_10.tif\n",
            "🚀 Export started: L8_full_2021_11.tif\n",
            "🚀 Export started: L8_full_2021_12.tif\n",
            "🚀 Export started: L8_full_2022_01.tif\n",
            "🚀 Export started: L8_full_2022_02.tif\n",
            "🚀 Export started: L8_full_2022_03.tif\n",
            "🚀 Export started: L8_full_2022_04.tif\n",
            "🚀 Export started: L8_full_2022_05.tif\n",
            "🚀 Export started: L8_full_2022_06.tif\n",
            "🚀 Export started: L8_full_2022_07.tif\n",
            "🚀 Export started: L8_full_2022_08.tif\n",
            "🚀 Export started: L8_full_2022_09.tif\n",
            "🚀 Export started: L8_full_2022_10.tif\n",
            "🚀 Export started: L8_full_2022_11.tif\n",
            "🚀 Export started: L8_full_2022_12.tif\n",
            "🚀 Export started: L8_full_2023_01.tif\n",
            "🚀 Export started: L8_full_2023_02.tif\n",
            "🚀 Export started: L8_full_2023_03.tif\n",
            "🚀 Export started: L8_full_2023_04.tif\n",
            "🚀 Export started: L8_full_2023_05.tif\n",
            "🚀 Export started: L8_full_2023_06.tif\n",
            "🚀 Export started: L8_full_2023_07.tif\n",
            "🚀 Export started: L8_full_2023_08.tif\n",
            "🚀 Export started: L8_full_2023_09.tif\n",
            "🚀 Export started: L8_full_2023_10.tif\n",
            "🚀 Export started: L8_full_2023_11.tif\n",
            "🚀 Export started: L8_full_2023_12.tif\n"
          ]
        }
      ]
    }
  ]
}