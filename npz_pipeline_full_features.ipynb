{
  "nbformat": 4,
  "nbformat_minor": 0,
  "metadata": {
    "colab": {
      "provenance": [],
      "authorship_tag": "ABX9TyMVtkcgLeUVL6eXauo2YrcW",
      "include_colab_link": true
    },
    "kernelspec": {
      "name": "python3",
      "display_name": "Python 3"
    },
    "language_info": {
      "name": "python"
    }
  },
  "cells": [
    {
      "cell_type": "markdown",
      "metadata": {
        "id": "view-in-github",
        "colab_type": "text"
      },
      "source": [
        "<a href=\"https://colab.research.google.com/github/MatP-DS/MasterThesis/blob/main/npz_pipeline_full_features.ipynb\" target=\"_parent\"><img src=\"https://colab.research.google.com/assets/colab-badge.svg\" alt=\"Open In Colab\"/></a>"
      ]
    },
    {
      "cell_type": "code",
      "execution_count": null,
      "metadata": {
        "id": "zrubfbDys9sl",
        "colab": {
          "base_uri": "https://localhost:8080/"
        },
        "outputId": "fe6b5ac1-c6ca-41e6-c98e-f2bdcf3b190b"
      },
      "outputs": [
        {
          "output_type": "stream",
          "name": "stdout",
          "text": [
            "Collecting rasterio\n",
            "  Downloading rasterio-1.4.3-cp311-cp311-manylinux_2_17_x86_64.manylinux2014_x86_64.whl.metadata (9.1 kB)\n",
            "Requirement already satisfied: numpy in /usr/local/lib/python3.11/dist-packages (2.0.2)\n",
            "Collecting affine (from rasterio)\n",
            "  Downloading affine-2.4.0-py3-none-any.whl.metadata (4.0 kB)\n",
            "Requirement already satisfied: attrs in /usr/local/lib/python3.11/dist-packages (from rasterio) (25.3.0)\n",
            "Requirement already satisfied: certifi in /usr/local/lib/python3.11/dist-packages (from rasterio) (2025.6.15)\n",
            "Requirement already satisfied: click>=4.0 in /usr/local/lib/python3.11/dist-packages (from rasterio) (8.2.1)\n",
            "Collecting cligj>=0.5 (from rasterio)\n",
            "  Downloading cligj-0.7.2-py3-none-any.whl.metadata (5.0 kB)\n",
            "Collecting click-plugins (from rasterio)\n",
            "  Downloading click_plugins-1.1.1.2-py2.py3-none-any.whl.metadata (6.5 kB)\n",
            "Requirement already satisfied: pyparsing in /usr/local/lib/python3.11/dist-packages (from rasterio) (3.2.3)\n",
            "Downloading rasterio-1.4.3-cp311-cp311-manylinux_2_17_x86_64.manylinux2014_x86_64.whl (22.2 MB)\n",
            "\u001b[2K   \u001b[90m━━━━━━━━━━━━━━━━━━━━━━━━━━━━━━━━━━━━━━━━\u001b[0m \u001b[32m22.2/22.2 MB\u001b[0m \u001b[31m46.5 MB/s\u001b[0m eta \u001b[36m0:00:00\u001b[0m\n",
            "\u001b[?25hDownloading cligj-0.7.2-py3-none-any.whl (7.1 kB)\n",
            "Downloading affine-2.4.0-py3-none-any.whl (15 kB)\n",
            "Downloading click_plugins-1.1.1.2-py2.py3-none-any.whl (11 kB)\n",
            "Installing collected packages: cligj, click-plugins, affine, rasterio\n",
            "Successfully installed affine-2.4.0 click-plugins-1.1.1.2 cligj-0.7.2 rasterio-1.4.3\n"
          ]
        }
      ],
      "source": [
        "!pip install rasterio numpy\n",
        "\n",
        "import os\n",
        "import numpy as np\n",
        "import rasterio\n",
        "from tqdm import tqdm"
      ]
    },
    {
      "cell_type": "code",
      "source": [
        "# Safely mount Google Drive only if not mounted\n",
        "import os\n",
        "from google.colab import drive\n",
        "\n",
        "if not os.path.ismount('/content/drive'):\n",
        "    drive.mount('/content/drive')\n"
      ],
      "metadata": {
        "colab": {
          "base_uri": "https://localhost:8080/"
        },
        "id": "LntpQODaunWT",
        "outputId": "8ba89497-0c0c-45c3-8d73-0c6aef880885"
      },
      "execution_count": null,
      "outputs": [
        {
          "output_type": "stream",
          "name": "stdout",
          "text": [
            "Mounted at /content/drive\n"
          ]
        }
      ]
    },
    {
      "cell_type": "code",
      "source": [
        "# -----------------------------\n",
        "# STEP 2: Configuration\n",
        "# -----------------------------\n",
        "input_folder = \"/content/drive/MyDrive/MasterThesis/01_raw_data/01_sentinel2/full_feature_stack\"\n",
        "output_folder = \"/content/drive/MyDrive/MasterThesis/02_preprocessed_data\"\n",
        "n_bands = 11  # B2, B3, B4, B8, B11, B12, EVI, NDWI, NBR, SAVI, NDVI\n",
        "\n",
        "os.makedirs(output_folder, exist_ok=True)\n",
        "tif_files = sorted([f for f in os.listdir(input_folder) if f.endswith(\".tif\")])\n",
        "\n",
        "# -----------------------------\n",
        "# STEP 3: Load and stack monthly images\n",
        "# -----------------------------\n",
        "monthly_arrays = []\n",
        "valid_mask = None\n",
        "\n",
        "for tif_file in tqdm(tif_files, desc=\"Loading GeoTIFFs\"):\n",
        "    path = os.path.join(input_folder, tif_file)\n",
        "    with rasterio.open(path) as src:\n",
        "        img = src.read().astype(np.float32)  # shape: (bands, rows, cols)\n",
        "\n",
        "        if valid_mask is None:\n",
        "            valid_mask = np.all(~np.isnan(img), axis=0) & (np.sum(img, axis=0) != 0)\n",
        "            rows, cols = valid_mask.shape\n",
        "\n",
        "        img_masked = img[:, valid_mask]  # shape: (bands, n_valid)\n",
        "        monthly_arrays.append(np.transpose(img_masked, (1, 0)))  # shape: (n_valid, bands)\n"
      ],
      "metadata": {
        "colab": {
          "base_uri": "https://localhost:8080/"
        },
        "id": "s0AkDk1Bu-2L",
        "outputId": "bcfc66f2-b762-4303-ba24-e920620984b6"
      },
      "execution_count": null,
      "outputs": [
        {
          "output_type": "stream",
          "name": "stderr",
          "text": [
            "Loading GeoTIFFs: 100%|██████████| 46/46 [00:55<00:00,  1.22s/it]\n"
          ]
        }
      ]
    },
    {
      "cell_type": "code",
      "source": [
        "# -----------------------------\n",
        "# STEP 4: Reshape and Save\n",
        "# -----------------------------\n",
        "X_time = np.stack(monthly_arrays, axis=1)  # shape: (n_valid, time, bands)\n",
        "X_flat = X_time.reshape(-1, n_bands)       # shape: (n_valid * time, bands)\n",
        "\n",
        "np.savez_compressed(os.path.join(output_folder, \"X_time_series_full.npz\"), X=X_time)\n",
        "np.savez_compressed(os.path.join(output_folder, \"X_flattened_full.npz\"), X=X_flat)\n",
        "\n",
        "\n",
        "print(\"Export completed:\")\n",
        "print(f\" - X_time_series_full.npz: {X_time.shape}\")\n",
        "print(f\" - X_flattened_full.npz:   {X_flat.shape}\")"
      ],
      "metadata": {
        "colab": {
          "base_uri": "https://localhost:8080/"
        },
        "id": "xp6GMFaH_Eil",
        "outputId": "9e4514c0-3b3c-4bb6-8957-18e9384489d0"
      },
      "execution_count": null,
      "outputs": [
        {
          "output_type": "stream",
          "name": "stdout",
          "text": [
            "Export completed:\n",
            " - X_time_series_full.npz: (466708, 46, 11)\n",
            " - X_flattened_full.npz:   (21468568, 11)\n"
          ]
        }
      ]
    }
  ]
}