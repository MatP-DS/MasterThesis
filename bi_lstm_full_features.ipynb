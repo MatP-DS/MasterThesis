{
  "nbformat": 4,
  "nbformat_minor": 0,
  "metadata": {
    "colab": {
      "provenance": [],
      "machine_shape": "hm",
      "gpuType": "L4",
      "authorship_tag": "ABX9TyNHb+RErusODQ7MerK009KA",
      "include_colab_link": true
    },
    "kernelspec": {
      "name": "python3",
      "display_name": "Python 3"
    },
    "language_info": {
      "name": "python"
    },
    "accelerator": "GPU"
  },
  "cells": [
    {
      "cell_type": "markdown",
      "metadata": {
        "id": "view-in-github",
        "colab_type": "text"
      },
      "source": [
        "<a href=\"https://colab.research.google.com/github/MatP-DS/MasterThesis/blob/main/bi_lstm_full_features.ipynb\" target=\"_parent\"><img src=\"https://colab.research.google.com/assets/colab-badge.svg\" alt=\"Open In Colab\"/></a>"
      ]
    },
    {
      "cell_type": "code",
      "execution_count": null,
      "metadata": {
        "id": "Qq-ARi-tQKYQ",
        "colab": {
          "base_uri": "https://localhost:8080/"
        },
        "outputId": "07958a7c-88f3-46d8-98d2-2ff875c7eb3e"
      },
      "outputs": [
        {
          "output_type": "stream",
          "name": "stdout",
          "text": [
            "\u001b[?25l   \u001b[90m━━━━━━━━━━━━━━━━━━━━━━━━━━━━━━━━━━━━━━━━\u001b[0m \u001b[32m0.0/611.8 kB\u001b[0m \u001b[31m?\u001b[0m eta \u001b[36m-:--:--\u001b[0m\r\u001b[2K   \u001b[90m━━━━━━━━━━━━━━━━━━━━━━━━━━━━━━━━━━━━━━━━\u001b[0m \u001b[32m611.8/611.8 kB\u001b[0m \u001b[31m30.3 MB/s\u001b[0m eta \u001b[36m0:00:00\u001b[0m\n",
            "\u001b[?25h\u001b[31mERROR: pip's dependency resolver does not currently take into account all the packages that are installed. This behaviour is the source of the following dependency conflicts.\n",
            "inflect 7.5.0 requires typeguard>=4.0.1, but you have typeguard 2.13.3 which is incompatible.\u001b[0m\u001b[31m\n",
            "\u001b[0m"
          ]
        }
      ],
      "source": [
        "!pip install tensorflow tensorflow-addons --quiet"
      ]
    },
    {
      "cell_type": "code",
      "source": [
        "# Build and train a simple LSTM model for time-series deforestation classification\n",
        "import numpy as np\n",
        "import tensorflow as tf\n",
        "from tensorflow.keras.models import Sequential\n",
        "from tensorflow.keras.layers import Input, LSTM, Dense, Dropout\n",
        "from tensorflow.keras.callbacks import EarlyStopping\n",
        "from sklearn.metrics import accuracy_score, f1_score, recall_score, precision_score, confusion_matrix\n",
        "from sklearn.model_selection import train_test_split\n",
        "from sklearn.utils.class_weight import compute_class_weight\n",
        "from sklearn.preprocessing import StandardScaler\n",
        "import pandas as pd\n",
        "import time"
      ],
      "metadata": {
        "id": "fPyIiwEVRIas"
      },
      "execution_count": null,
      "outputs": []
    },
    {
      "cell_type": "code",
      "source": [
        "from google.colab import drive\n",
        "drive.mount('/content/drive')"
      ],
      "metadata": {
        "id": "UxC6wqhGRUH_",
        "colab": {
          "base_uri": "https://localhost:8080/"
        },
        "outputId": "afa0d17a-d98e-49ea-9e43-43c32dee6f5c"
      },
      "execution_count": null,
      "outputs": [
        {
          "output_type": "stream",
          "name": "stdout",
          "text": [
            "Mounted at /content/drive\n"
          ]
        }
      ]
    },
    {
      "cell_type": "code",
      "source": [
        "# Load dataset from Drive\n",
        "X = np.load(\"/content/drive/MyDrive/MasterThesis/02_preprocessed_data/X_time_series_full.npz\")[\"X\"]  # shape: (n, 48, 11)\n",
        "y = np.load(\"/content/drive/MyDrive/MasterThesis/02_preprocessed_data/y_labels_2023_fromstack.npz\")[\"y\"]       # shape: (n,)\n"
      ],
      "metadata": {
        "id": "XUEK8yegHyft"
      },
      "execution_count": null,
      "outputs": []
    },
    {
      "cell_type": "code",
      "source": [
        "# Only keep samples where ground truth is either 0 (no loss) or 1 (loss)\n",
        "valid_mask = (y == 0) | (y == 1)\n",
        "X = X[valid_mask]\n",
        "y = y[valid_mask]\n",
        "\n",
        "# Replace missing values (NaNs) in feature array with 0.\n",
        "# This is a simple, neutral fill strategy\n",
        "X = np.nan_to_num(X)\n",
        "\n",
        "# Time-series and feature dimension extraction\n",
        "n_timesteps, n_features = X.shape[1], X.shape[2]\n",
        "\n",
        "# Flatten time dimension to scale all feature values across all time steps\n",
        "# Shape changes from (n_samples, time, features) → (n_samples × time, features)\n",
        "X_reshaped = X.reshape(-1, n_features)\n",
        "\n",
        "\n",
        "# StandardScaler: transforms each band/index to mean=0, std=1\n",
        "scaler = StandardScaler()\n",
        "# Reshape back to original time-series structure (n_samples, time, features)\n",
        "X_scaled = scaler.fit_transform(X_reshaped).reshape(-1, n_timesteps, n_features)\n",
        "\n",
        "# Train/test split\n",
        "X_train, X_test, y_train, y_test = train_test_split(X_scaled, y, test_size=0.2, stratify=y, random_state=42)\n",
        "\n",
        "# Automatically compute class weights to penalize the model for class imbalance\n",
        "# does not work well\n",
        "class_weights_array = compute_class_weight(class_weight='balanced', classes=np.unique(y_train), y=y_train)\n",
        "class_weights = dict(enumerate(class_weights_array))\n"
      ],
      "metadata": {
        "id": "ZDpK0QpjR20I"
      },
      "execution_count": null,
      "outputs": []
    },
    {
      "cell_type": "code",
      "source": [
        "from tensorflow.keras.models import Sequential\n",
        "from tensorflow.keras.layers import Input, Dropout, Dense, LSTM, Bidirectional\n",
        "\n",
        "# Sequential model: inputs → Bi-LSTM → dropout → Dense (32 units) → dropout → Dense (1 output)\n",
        "\n",
        "model = Sequential([\n",
        "    Input(shape=(n_timesteps, n_features)),\n",
        "    Bidirectional(LSTM(64, return_sequences=False)),\n",
        "    Dropout(0.3),\n",
        "    Dense(32, activation='relu'),\n",
        "    Dropout(0.3),\n",
        "    Dense(1, activation='sigmoid')\n",
        "])\n",
        "\n",
        "# Compile model with binary cross-entropy loss (used for binary classification)\n",
        "model.compile(optimizer='adam', loss='binary_crossentropy', metrics=['accuracy'])"
      ],
      "metadata": {
        "id": "-6PhsD0oWDDH"
      },
      "execution_count": null,
      "outputs": []
    },
    {
      "cell_type": "code",
      "source": [
        "# Train model\n",
        "# Timer\n",
        "start = time.time()\n",
        "\n",
        "history = model.fit(\n",
        "    X_train, y_train,\n",
        "    validation_split=0.2, # Use 20% of training data for validation (not test set!)\n",
        "    epochs=30,\n",
        "    batch_size=256,\n",
        "    callbacks=[EarlyStopping(monitor='val_loss', patience=3, restore_best_weights=True)],\n",
        "    verbose=1\n",
        ")\n",
        "train_time = time.time() - start"
      ],
      "metadata": {
        "colab": {
          "base_uri": "https://localhost:8080/"
        },
        "id": "jobfvjVxWJge",
        "outputId": "ce8765f5-9c49-4796-cdac-0d11a7ae92c7"
      },
      "execution_count": null,
      "outputs": [
        {
          "output_type": "stream",
          "name": "stdout",
          "text": [
            "Epoch 1/30\n",
            "\u001b[1m1167/1167\u001b[0m \u001b[32m━━━━━━━━━━━━━━━━━━━━\u001b[0m\u001b[37m\u001b[0m \u001b[1m14s\u001b[0m 11ms/step - accuracy: 0.9987 - loss: 0.0086 - val_accuracy: 0.9996 - val_loss: 0.0018\n",
            "Epoch 2/30\n",
            "\u001b[1m1167/1167\u001b[0m \u001b[32m━━━━━━━━━━━━━━━━━━━━\u001b[0m\u001b[37m\u001b[0m \u001b[1m12s\u001b[0m 10ms/step - accuracy: 0.9995 - loss: 0.0025 - val_accuracy: 0.9996 - val_loss: 0.0017\n",
            "Epoch 3/30\n",
            "\u001b[1m1167/1167\u001b[0m \u001b[32m━━━━━━━━━━━━━━━━━━━━\u001b[0m\u001b[37m\u001b[0m \u001b[1m12s\u001b[0m 10ms/step - accuracy: 0.9995 - loss: 0.0019 - val_accuracy: 0.9996 - val_loss: 0.0015\n",
            "Epoch 4/30\n",
            "\u001b[1m1167/1167\u001b[0m \u001b[32m━━━━━━━━━━━━━━━━━━━━\u001b[0m\u001b[37m\u001b[0m \u001b[1m12s\u001b[0m 10ms/step - accuracy: 0.9996 - loss: 0.0019 - val_accuracy: 0.9996 - val_loss: 0.0014\n",
            "Epoch 5/30\n",
            "\u001b[1m1167/1167\u001b[0m \u001b[32m━━━━━━━━━━━━━━━━━━━━\u001b[0m\u001b[37m\u001b[0m \u001b[1m12s\u001b[0m 10ms/step - accuracy: 0.9995 - loss: 0.0019 - val_accuracy: 0.9996 - val_loss: 0.0014\n",
            "Epoch 6/30\n",
            "\u001b[1m1167/1167\u001b[0m \u001b[32m━━━━━━━━━━━━━━━━━━━━\u001b[0m\u001b[37m\u001b[0m \u001b[1m12s\u001b[0m 10ms/step - accuracy: 0.9995 - loss: 0.0016 - val_accuracy: 0.9996 - val_loss: 0.0013\n",
            "Epoch 7/30\n",
            "\u001b[1m1167/1167\u001b[0m \u001b[32m━━━━━━━━━━━━━━━━━━━━\u001b[0m\u001b[37m\u001b[0m \u001b[1m12s\u001b[0m 10ms/step - accuracy: 0.9996 - loss: 0.0017 - val_accuracy: 0.9996 - val_loss: 0.0015\n",
            "Epoch 8/30\n",
            "\u001b[1m1167/1167\u001b[0m \u001b[32m━━━━━━━━━━━━━━━━━━━━\u001b[0m\u001b[37m\u001b[0m \u001b[1m12s\u001b[0m 10ms/step - accuracy: 0.9996 - loss: 0.0016 - val_accuracy: 0.9996 - val_loss: 0.0013\n",
            "Epoch 9/30\n",
            "\u001b[1m1167/1167\u001b[0m \u001b[32m━━━━━━━━━━━━━━━━━━━━\u001b[0m\u001b[37m\u001b[0m \u001b[1m12s\u001b[0m 11ms/step - accuracy: 0.9996 - loss: 0.0016 - val_accuracy: 0.9997 - val_loss: 0.0012\n",
            "Epoch 10/30\n",
            "\u001b[1m1167/1167\u001b[0m \u001b[32m━━━━━━━━━━━━━━━━━━━━\u001b[0m\u001b[37m\u001b[0m \u001b[1m12s\u001b[0m 10ms/step - accuracy: 0.9996 - loss: 0.0015 - val_accuracy: 0.9996 - val_loss: 0.0012\n",
            "Epoch 11/30\n",
            "\u001b[1m1167/1167\u001b[0m \u001b[32m━━━━━━━━━━━━━━━━━━━━\u001b[0m\u001b[37m\u001b[0m \u001b[1m12s\u001b[0m 10ms/step - accuracy: 0.9995 - loss: 0.0016 - val_accuracy: 0.9996 - val_loss: 0.0011\n",
            "Epoch 12/30\n",
            "\u001b[1m1167/1167\u001b[0m \u001b[32m━━━━━━━━━━━━━━━━━━━━\u001b[0m\u001b[37m\u001b[0m \u001b[1m12s\u001b[0m 10ms/step - accuracy: 0.9996 - loss: 0.0014 - val_accuracy: 0.9996 - val_loss: 0.0014\n",
            "Epoch 13/30\n",
            "\u001b[1m1167/1167\u001b[0m \u001b[32m━━━━━━━━━━━━━━━━━━━━\u001b[0m\u001b[37m\u001b[0m \u001b[1m12s\u001b[0m 10ms/step - accuracy: 0.9996 - loss: 0.0016 - val_accuracy: 0.9997 - val_loss: 0.0012\n",
            "Epoch 14/30\n",
            "\u001b[1m1167/1167\u001b[0m \u001b[32m━━━━━━━━━━━━━━━━━━━━\u001b[0m\u001b[37m\u001b[0m \u001b[1m12s\u001b[0m 10ms/step - accuracy: 0.9996 - loss: 0.0012 - val_accuracy: 0.9996 - val_loss: 0.0015\n"
          ]
        }
      ]
    },
    {
      "cell_type": "code",
      "source": [
        "# Predict probabilities on unseen test data\n",
        "y_pred_prob = model.predict(X_test)\n",
        "\n",
        "# Apply a threshold (default = 0.3) to convert probabilities to binary predictions\n",
        "y_pred = (y_pred_prob > 0.3).astype(int)\n"
      ],
      "metadata": {
        "colab": {
          "base_uri": "https://localhost:8080/"
        },
        "id": "yOo8UkOdQme3",
        "outputId": "10f45513-b7c8-4b95-e9a5-845e530149a1"
      },
      "execution_count": null,
      "outputs": [
        {
          "output_type": "stream",
          "name": "stdout",
          "text": [
            "\u001b[1m2917/2917\u001b[0m \u001b[32m━━━━━━━━━━━━━━━━━━━━\u001b[0m\u001b[37m\u001b[0m \u001b[1m9s\u001b[0m 3ms/step\n"
          ]
        }
      ]
    },
    {
      "cell_type": "code",
      "source": [
        "print(f\"Min prob: {y_pred_prob.min():.4f}, Max prob: {y_pred_prob.max():.4f}\")"
      ],
      "metadata": {
        "colab": {
          "base_uri": "https://localhost:8080/"
        },
        "id": "IFnCSWRbZ6ii",
        "outputId": "ccc6e898-b3ea-4724-cc93-39e0cbabbf81"
      },
      "execution_count": null,
      "outputs": [
        {
          "output_type": "stream",
          "name": "stdout",
          "text": [
            "Min prob: 0.0000, Max prob: 0.9968\n"
          ]
        }
      ]
    },
    {
      "cell_type": "code",
      "source": [
        "from sklearn.metrics import roc_curve, auc, f1_score\n",
        "import matplotlib.pyplot as plt\n",
        "import numpy as np\n",
        "\n",
        "# ROC Curve and AUC\n",
        "fpr, tpr, thresholds_roc = roc_curve(y_test, y_pred_prob)\n",
        "roc_auc = auc(fpr, tpr)\n",
        "\n",
        "plt.figure(figsize=(6, 5))\n",
        "plt.plot(fpr, tpr, color='darkorange', lw=2, label=f'ROC curve (AUC = {roc_auc:.4f})')\n",
        "plt.plot([0, 1], [0, 1], color='gray', lw=1, linestyle='--')\n",
        "plt.xlabel('False Positive Rate')\n",
        "plt.ylabel('True Positive Rate')\n",
        "plt.title('ROC Curve')\n",
        "plt.legend()\n",
        "plt.grid(True)\n",
        "plt.tight_layout()\n",
        "plt.show()\n",
        "\n",
        "# Threshold optimization for F1-score\n",
        "thresholds = np.arange(0.3, 0.91, 0.05)\n",
        "f1_scores = [f1_score(y_test, y_pred_prob > t) for t in thresholds]\n",
        "\n",
        "best_threshold = thresholds[np.argmax(f1_scores)]\n",
        "best_f1 = max(f1_scores)\n",
        "\n",
        "print(f\"🔎 Best threshold: {best_threshold:.2f} — F1-score: {best_f1:.4f}\")"
      ],
      "metadata": {
        "colab": {
          "base_uri": "https://localhost:8080/",
          "height": 525
        },
        "id": "qx72gFpLPsDw",
        "outputId": "5123108a-1201-478e-d728-90e5985b98fc"
      },
      "execution_count": null,
      "outputs": [
        {
          "output_type": "display_data",
          "data": {
            "text/plain": [
              "<Figure size 600x500 with 1 Axes>"
            ],
            "image/png": "[encoded data removed]"
          },
          "metadata": {}
        },
        {
          "output_type": "stream",
          "name": "stdout",
          "text": [
            "🔎 Best threshold: 0.55 — F1-score: 0.8908\n"
          ]
        }
      ]
    },
    {
      "cell_type": "code",
      "source": [
        "metrics = {\n",
        "    \"Accuracy\": accuracy_score(y_test, y_pred),\n",
        "    \"F1 (loss)\": f1_score(y_test, y_pred),\n",
        "    \"Recall (loss)\": recall_score(y_test, y_pred),\n",
        "    \"Precision (loss)\": precision_score(y_test, y_pred),\n",
        "    \"Training Time (s)\": train_time\n",
        "}\n",
        "cm = confusion_matrix(y_test, y_pred)\n",
        "metrics_df = pd.DataFrame([metrics])\n",
        "cm_df = pd.DataFrame(cm, index=[\"No Loss (0)\", \"Loss (1)\"], columns=[\"Predicted 0\", \"Predicted 1\"])\n",
        "\n",
        "metrics_df, cm_df"
      ],
      "metadata": {
        "colab": {
          "base_uri": "https://localhost:8080/"
        },
        "id": "V911_iVYWNIP",
        "outputId": "85d9337c-249b-4f96-9a8e-d6e62787629f"
      },
      "execution_count": null,
      "outputs": [
        {
          "output_type": "execute_result",
          "data": {
            "text/plain": [
              "(   Accuracy  F1 (loss)  Recall (loss)  Precision (loss)  Training Time (s)\n",
              " 0  0.999539   0.881543       0.941176          0.829016         171.897316,\n",
              "              Predicted 0  Predicted 1\n",
              " No Loss (0)        93139           33\n",
              " Loss (1)              10          160)"
            ]
          },
          "metadata": {},
          "execution_count": 22
        }
      ]
    },
    {
      "cell_type": "code",
      "source": [
        "def save_model_results_extended(model_name, model, metrics_df, cm_df=None, folder=\"/content/drive/MyDrive/MasterThesis/04_results/metrics\"):\n",
        "    \"\"\"\n",
        "    Save model evaluation results including metrics, hyperparameters, and confusion matrix.\n",
        "\n",
        "    Parameters:\n",
        "    - model_name: str, name of the model (e.g., \"xgboost\", \"random_forest\")\n",
        "    - model: trained model object with `.get_params()` or `.__dict__`\n",
        "    - metrics_df: pd.DataFrame with one row of evaluation metrics\n",
        "    - cm_df: pd.DataFrame with confusion matrix (optional)\n",
        "    - folder: target folder path\n",
        "    \"\"\"\n",
        "    import os\n",
        "    import json\n",
        "    from datetime import datetime\n",
        "\n",
        "    os.makedirs(folder, exist_ok=True)\n",
        "\n",
        "    # Timestamp for versioned output\n",
        "    timestamp = datetime.now().strftime(\"%Y%m%d_%H%M%S\")\n",
        "    base_filename = f\"{model_name}_metrics_{timestamp}\"\n",
        "\n",
        "    # Save metrics CSV and JSON\n",
        "    metrics_path_csv = os.path.join(folder, f\"{base_filename}.csv\")\n",
        "    metrics_df.to_csv(metrics_path_csv, index=False)\n",
        "\n",
        "    # Extract model parameters\n",
        "    try:\n",
        "        params = model.get_params()\n",
        "    except AttributeError:\n",
        "        # fallback for native lightgbm or xgboost booster objects\n",
        "        params = model.__dict__\n",
        "\n",
        "    # Combine everything into one JSON log\n",
        "    log_dict = {\n",
        "        \"model_name\": model_name,\n",
        "        \"timestamp\": timestamp,\n",
        "        \"metrics\": metrics_df.to_dict(orient=\"records\")[0],\n",
        "        \"hyperparameters\": {k: str(v) for k, v in params.items()}\n",
        "    }\n",
        "\n",
        "    # Save full metadata log as JSON\n",
        "    metrics_path_json = os.path.join(folder, f\"{base_filename}.json\")\n",
        "    with open(metrics_path_json, 'w') as f:\n",
        "        json.dump(log_dict, f, indent=4)\n",
        "\n",
        "    # Save confusion matrix separately if given\n",
        "    cm_path_csv = None\n",
        "    if cm_df is not None:\n",
        "        cm_path_csv = os.path.join(folder, f\"{base_filename}_confusion_matrix.csv\")\n",
        "        cm_df.to_csv(cm_path_csv)\n",
        "\n",
        "    return {\n",
        "        \"csv\": metrics_path_csv,\n",
        "        \"json\": metrics_path_json,\n",
        "        \"confusion_matrix\": cm_path_csv\n",
        "    }"
      ],
      "metadata": {
        "id": "4lvGQyI1XehL"
      },
      "execution_count": null,
      "outputs": []
    },
    {
      "cell_type": "code",
      "source": [
        "# Example usage:\n",
        "save_model_results_extended(\"bi-lstm_full-features_thresh30\", model, metrics_df, cm_df)"
      ],
      "metadata": {
        "colab": {
          "base_uri": "https://localhost:8080/"
        },
        "id": "fhFJjb-MYGM9",
        "outputId": "c74634f3-16a6-45ab-d1cf-38a671662fb2"
      },
      "execution_count": null,
      "outputs": [
        {
          "output_type": "execute_result",
          "data": {
            "text/plain": [
              "{'csv': '/content/drive/MyDrive/MasterThesis/04_results/metrics/bi-lstm_full-features_thresh30_metrics_20250521_053109.csv',\n",
              " 'json': '/content/drive/MyDrive/MasterThesis/04_results/metrics/bi-lstm_full-features_thresh30_metrics_20250521_053109.json',\n",
              " 'confusion_matrix': '/content/drive/MyDrive/MasterThesis/04_results/metrics/bi-lstm_full-features_thresh30_metrics_20250521_053109_confusion_matrix.csv'}"
            ]
          },
          "metadata": {},
          "execution_count": 51
        }
      ]
    }
  ]
}