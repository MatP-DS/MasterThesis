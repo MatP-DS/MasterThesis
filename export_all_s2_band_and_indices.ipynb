{
  "nbformat": 4,
  "nbformat_minor": 0,
  "metadata": {
    "colab": {
      "provenance": [],
      "authorship_tag": "ABX9TyNqY3CTQ2sYnWO0kArpFpGr",
      "include_colab_link": true
    },
    "kernelspec": {
      "name": "python3",
      "display_name": "Python 3"
    },
    "language_info": {
      "name": "python"
    }
  },
  "cells": [
    {
      "cell_type": "markdown",
      "metadata": {
        "id": "view-in-github",
        "colab_type": "text"
      },
      "source": [
        "<a href=\"https://colab.research.google.com/github/MatP-DS/MasterThesis/blob/main/export_all_s2_band_and_indices.ipynb\" target=\"_parent\"><img src=\"https://colab.research.google.com/assets/colab-badge.svg\" alt=\"Open In Colab\"/></a>"
      ]
    },
    {
      "cell_type": "code",
      "execution_count": null,
      "metadata": {
        "id": "Gsy2O3KP3bx1"
      },
      "outputs": [],
      "source": [
        "import ee\n",
        "import os\n",
        "from datetime import datetime\n",
        "import os\n",
        "from google.colab import drive\n"
      ]
    },
    {
      "cell_type": "code",
      "source": [
        "# ------------------------------\n",
        "# STEP 1: Setup\n",
        "# ------------------------------\n",
        "ee.Authenticate()\n",
        "ee.Initialize(project='ee-masterthesisdeforestation')\n",
        "\n",
        "# Safely mount Google Drive only if not mounted\n",
        "if not os.path.ismount('/content/drive'):\n",
        "    drive.mount('/content/drive')"
      ],
      "metadata": {
        "colab": {
          "base_uri": "https://localhost:8080/"
        },
        "id": "IuTOh05K326R",
        "outputId": "62ea7b0e-b571-4b0c-881c-4e7d164962c4"
      },
      "execution_count": null,
      "outputs": [
        {
          "output_type": "stream",
          "name": "stdout",
          "text": [
            "Mounted at /content/drive\n"
          ]
        }
      ]
    },
    {
      "cell_type": "code",
      "source": [
        "# AOI\n",
        "aoi = ee.Geometry.Rectangle([-56.2, -11.8, -56.0, -11.6])\n",
        "\n",
        "# ------------------------------\n",
        "# STEP 2: Define cloud masking\n",
        "# ------------------------------\n",
        "def maskS2sr(img):\n",
        "    scl = img.select('SCL')\n",
        "    mask = scl.neq(3).And(scl.neq(8)).And(scl.neq(9))\n",
        "    return img.updateMask(mask).copyProperties(img, [\"system:time_start\"])\n",
        "\n",
        "# ------------------------------\n",
        "# STEP 3: Compute all indices\n",
        "# ------------------------------\n",
        "def add_all_indices(img):\n",
        "    ndvi = img.normalizedDifference(['B8', 'B4']).rename('NDVI')\n",
        "    evi = img.expression(\n",
        "        '2.5 * ((NIR - RED) / (NIR + 6 * RED - 7.5 * BLUE + 1))', {\n",
        "            'NIR': img.select('B8'),\n",
        "            'RED': img.select('B4'),\n",
        "            'BLUE': img.select('B2')\n",
        "        }).rename('EVI')\n",
        "    ndwi = img.normalizedDifference(['B3', 'B8']).rename('NDWI')\n",
        "    nbr = img.normalizedDifference(['B8', 'B12']).rename('NBR')\n",
        "    savi = img.expression(\n",
        "        '((NIR - RED) / (NIR + RED + 0.5)) * 1.5', {\n",
        "            'NIR': img.select('B8'),\n",
        "            'RED': img.select('B4')\n",
        "        }).rename('SAVI')\n",
        "    return img.addBands([ndvi, evi, ndwi, nbr, savi])\n"
      ],
      "metadata": {
        "id": "K1VvAN8C38n0"
      },
      "execution_count": null,
      "outputs": []
    },
    {
      "cell_type": "code",
      "source": [
        "# ------------------------------\n",
        "# STEP 4: Monthly export loop\n",
        "# ------------------------------\n",
        "output_folder = '01_sentinel2/full_feature_stack'\n",
        "local_check_dir = '/content/drive/MyDrive/MasterThesis/01_raw_data/' + output_folder\n",
        "os.makedirs(local_check_dir, exist_ok=True)\n",
        "\n",
        "years = [2020, 2021, 2022, 2023]\n",
        "\n",
        "for year in years:\n",
        "    for month in range(1, 13):\n",
        "        start = ee.Date.fromYMD(year, month, 1)\n",
        "        end = start.advance(1, 'month')\n",
        "        filename = f'S2_full_{year}_{month:02d}.tif'\n",
        "        local_path = os.path.join(local_check_dir, filename)\n",
        "\n",
        "        # Skip if already exists\n",
        "        if os.path.exists(local_path):\n",
        "            print(f\"⏭️ Skipping existing: {filename}\")\n",
        "            continue\n",
        "\n",
        "        # Load collection\n",
        "        collection = (ee.ImageCollection('COPERNICUS/S2_SR_HARMONIZED')\n",
        "                      .filterDate(start, end)\n",
        "                      .filterBounds(aoi)\n",
        "                      .filter(ee.Filter.lt('CLOUDY_PIXEL_PERCENTAGE', 40))\n",
        "                      .map(maskS2sr)\n",
        "                      .map(add_all_indices)\n",
        "                      .select(['B2', 'B3', 'B4', 'B8', 'B11', 'B12',\n",
        "                               'NDVI', 'EVI', 'NDWI', 'NBR', 'SAVI']))\n",
        "\n",
        "        composite = collection.mean().clip(aoi)\n",
        "\n",
        "        # Skip if empty\n",
        "        if composite.bandNames().size().getInfo() == 0:\n",
        "            print(f\"No data in {year}-{month:02d}\")\n",
        "            continue\n",
        "\n",
        "        # Export task\n",
        "        task = ee.batch.Export.image.toDrive(\n",
        "            image=composite.toFloat(),\n",
        "            description=f'Export_S2_full_{year}_{month:02d}',\n",
        "            folder=output_folder.split(\"/\")[-1],\n",
        "            fileNamePrefix=f'S2_full_{year}_{month:02d}',\n",
        "            region=aoi,\n",
        "            scale=30,\n",
        "            fileFormat='GeoTIFF',\n",
        "            maxPixels=1e13\n",
        "        )\n",
        "        task.start()\n",
        "        print(f\"Export started: {filename}\")"
      ],
      "metadata": {
        "colab": {
          "base_uri": "https://localhost:8080/"
        },
        "id": "Rfgjh-pc3_j3",
        "outputId": "46a2ec2f-e997-48e6-d8ab-363a1d74af54"
      },
      "execution_count": null,
      "outputs": [
        {
          "output_type": "stream",
          "name": "stdout",
          "text": [
            "No data in 2020-01\n",
            "Export started: S2_full_2020_02.tif\n",
            "Export started: S2_full_2020_03.tif\n",
            "Export started: S2_full_2020_04.tif\n",
            "Export started: S2_full_2020_05.tif\n",
            "Export started: S2_full_2020_06.tif\n",
            "Export started: S2_full_2020_07.tif\n",
            "Export started: S2_full_2020_08.tif\n",
            "Export started: S2_full_2020_09.tif\n",
            "Export started: S2_full_2020_10.tif\n",
            "Export started: S2_full_2020_11.tif\n",
            "Export started: S2_full_2020_12.tif\n",
            "Export started: S2_full_2021_01.tif\n",
            "No data in 2021-02\n",
            "Export started: S2_full_2021_03.tif\n",
            "Export started: S2_full_2021_04.tif\n",
            "Export started: S2_full_2021_05.tif\n",
            "Export started: S2_full_2021_06.tif\n",
            "Export started: S2_full_2021_07.tif\n",
            "Export started: S2_full_2021_08.tif\n",
            "Export started: S2_full_2021_09.tif\n",
            "Export started: S2_full_2021_10.tif\n",
            "Export started: S2_full_2021_11.tif\n",
            "Export started: S2_full_2021_12.tif\n",
            "Export started: S2_full_2022_01.tif\n",
            "Export started: S2_full_2022_02.tif\n",
            "Export started: S2_full_2022_03.tif\n",
            "Export started: S2_full_2022_04.tif\n",
            "Export started: S2_full_2022_05.tif\n",
            "Export started: S2_full_2022_06.tif\n",
            "Export started: S2_full_2022_07.tif\n",
            "Export started: S2_full_2022_08.tif\n",
            "Export started: S2_full_2022_09.tif\n",
            "Export started: S2_full_2022_10.tif\n",
            "Export started: S2_full_2022_11.tif\n",
            "Export started: S2_full_2022_12.tif\n",
            "Export started: S2_full_2023_01.tif\n",
            "Export started: S2_full_2023_02.tif\n",
            "Export started: S2_full_2023_03.tif\n",
            "Export started: S2_full_2023_04.tif\n",
            "Export started: S2_full_2023_05.tif\n",
            "Export started: S2_full_2023_06.tif\n",
            "Export started: S2_full_2023_07.tif\n",
            "Export started: S2_full_2023_08.tif\n",
            "Export started: S2_full_2023_09.tif\n",
            "Export started: S2_full_2023_10.tif\n",
            "Export started: S2_full_2023_11.tif\n",
            "Export started: S2_full_2023_12.tif\n"
          ]
        }
      ]
    }
  ]
}