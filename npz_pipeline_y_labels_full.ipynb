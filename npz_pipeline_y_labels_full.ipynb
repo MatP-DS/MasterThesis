{
  "nbformat": 4,
  "nbformat_minor": 0,
  "metadata": {
    "colab": {
      "provenance": [],
      "authorship_tag": "ABX9TyNJErmkF1z55qwc4VcSPN4D",
      "include_colab_link": true
    },
    "kernelspec": {
      "name": "python3",
      "display_name": "Python 3"
    },
    "language_info": {
      "name": "python"
    }
  },
  "cells": [
    {
      "cell_type": "markdown",
      "metadata": {
        "id": "view-in-github",
        "colab_type": "text"
      },
      "source": [
        "<a href=\"https://colab.research.google.com/github/MatP-DS/MasterThesis/blob/main/npz_pipeline_y_labels_full.ipynb\" target=\"_parent\"><img src=\"https://colab.research.google.com/assets/colab-badge.svg\" alt=\"Open In Colab\"/></a>"
      ]
    },
    {
      "cell_type": "code",
      "execution_count": null,
      "metadata": {
        "id": "JVzwjwSkDLlS"
      },
      "outputs": [],
      "source": [
        "!pip install rasterio\n",
        "\n",
        "import numpy as np\n",
        "import rasterio\n",
        "# Safely mount Google Drive only if not mounted\n",
        "import os\n",
        "from google.colab import drive\n",
        "\n",
        "if not os.path.ismount('/content/drive'):\n",
        "    drive.mount('/content/drive')"
      ]
    },
    {
      "cell_type": "code",
      "source": [
        "from rasterio.warp import reproject, Resampling\n",
        "\n",
        "# -------------------------\n",
        "# Step 1: Paths\n",
        "# -------------------------\n",
        "label_raster_path = \"/content/drive/MyDrive/MasterThesis/01_raw_data/03_groundtruth_hansen/gfc_loss_clean_2023.tif\"\n",
        "ref_image_path = \"/content/drive/MyDrive/MasterThesis/01_raw_data/01_sentinel2/full_feature_stack/S2_full_2020_02.tif\"\n",
        "output_path = \"/content/drive/MyDrive/MasterThesis/02_preprocessed_data/y_labels_2023_fromstack.npz\"\n",
        "\n",
        "# -------------------------\n",
        "# Step 2: Load reference image for valid mask and target shape\n",
        "# -------------------------\n",
        "with rasterio.open(ref_image_path) as ref:\n",
        "    ref_img = ref.read().astype(np.float32)  # shape: (bands, rows, cols)\n",
        "    ref_meta = ref.meta\n",
        "    target_shape = (ref_meta[\"height\"], ref_meta[\"width\"])\n",
        "    target_transform = ref_meta[\"transform\"]\n",
        "    valid_mask = np.all(~np.isnan(ref_img), axis=0) & (np.sum(ref_img, axis=0) != 0)\n",
        "\n",
        "# -------------------------\n",
        "# Step 3: Load and resample loss raster to match reference\n",
        "# -------------------------\n",
        "with rasterio.open(label_raster_path) as src:\n",
        "    loss_raw = src.read(1).astype(np.uint8)\n",
        "    loss_resampled = np.zeros(target_shape, dtype=np.uint8)\n",
        "\n",
        "    reproject(\n",
        "        source=loss_raw,\n",
        "        destination=loss_resampled,\n",
        "        src_transform=src.transform,\n",
        "        src_crs=src.crs,\n",
        "        dst_transform=target_transform,\n",
        "        dst_crs=ref_meta[\"crs\"],\n",
        "        resampling=Resampling.nearest\n",
        "    )\n",
        "\n",
        "# -------------------------\n",
        "# Step 4: Extract labels using valid pixel mask\n",
        "# -------------------------\n",
        "y_labels = loss_resampled[valid_mask]\n",
        "y_labels = np.where(y_labels == 1, 1, 0).astype(np.uint8)\n",
        "\n",
        "# -------------------------\n",
        "# Step 5: Save\n",
        "# -------------------------\n",
        "np.savez_compressed(output_path, y=y_labels)\n",
        "print(f\"✅ Saved: {y_labels.shape} labels to {output_path}\")"
      ],
      "metadata": {
        "colab": {
          "base_uri": "https://localhost:8080/"
        },
        "id": "2Nmd0F9CDTzs",
        "outputId": "a2adc8a2-49fd-441d-a7c9-2397371f9eb5"
      },
      "execution_count": null,
      "outputs": [
        {
          "output_type": "stream",
          "name": "stdout",
          "text": [
            "✅ Saved: (466708,) labels to /content/drive/MyDrive/MasterThesis/02_preprocessed_data/y_labels_2023_fromstack.npz\n"
          ]
        }
      ]
    }
  ]
}