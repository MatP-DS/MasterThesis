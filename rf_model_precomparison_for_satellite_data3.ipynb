{
  "nbformat": 4,
  "nbformat_minor": 0,
  "metadata": {
    "colab": {
      "provenance": [],
      "authorship_tag": "ABX9TyNvqXkqePMV1mQLFbcMpo/e",
      "include_colab_link": true
    },
    "kernelspec": {
      "name": "python3",
      "display_name": "Python 3"
    },
    "language_info": {
      "name": "python"
    }
  },
  "cells": [
    {
      "cell_type": "markdown",
      "metadata": {
        "id": "view-in-github",
        "colab_type": "text"
      },
      "source": [
        "<a href=\"https://colab.research.google.com/github/MatP-DS/MasterThesis/blob/main/rf_model_precomparison_for_satellite_data3.ipynb\" target=\"_parent\"><img src=\"https://colab.research.google.com/assets/colab-badge.svg\" alt=\"Open In Colab\"/></a>"
      ]
    },
    {
      "cell_type": "code",
      "execution_count": null,
      "metadata": {
        "colab": {
          "base_uri": "https://localhost:8080/"
        },
        "id": "t2oD_-KqFpo_",
        "outputId": "fbf08ec3-cd7b-4392-a2d9-c5c445ad6aeb"
      },
      "outputs": [
        {
          "output_type": "stream",
          "name": "stdout",
          "text": [
            "Mounted at /content/drive\n"
          ]
        }
      ],
      "source": [
        "from sklearn.ensemble import RandomForestClassifier\n",
        "from sklearn.model_selection import train_test_split\n",
        "from sklearn.metrics import classification_report\n",
        "import numpy as np\n",
        "import pandas as pd\n",
        "import shutil\n",
        "import os\n",
        "import time\n",
        "from google.colab import drive\n",
        "drive.mount('/content/drive')\n",
        "\n",
        "# Paths to source data in Google Drive\n",
        "drive_base = '/content/drive/MyDrive/MasterThesis/02_preprocessed_data'\n",
        "local_base = '/content'\n"
      ]
    },
    {
      "cell_type": "code",
      "source": [
        "# Copy files to Colab local environment for faster access\n",
        "shutil.copy(f\"{drive_base}/training_data-full_S2_2023_07.npz\", f\"{local_base}/s2.npz\")\n",
        "shutil.copy(f\"{drive_base}/training_data-full_L8_2023_07.npz\", f\"{local_base}/l8.npz\")\n"
      ],
      "metadata": {
        "colab": {
          "base_uri": "https://localhost:8080/",
          "height": 35
        },
        "id": "JPsRL6JeNEue",
        "outputId": "37ca40f9-8458-4f6e-a28c-039d61b0c780"
      },
      "execution_count": null,
      "outputs": [
        {
          "output_type": "execute_result",
          "data": {
            "text/plain": [
              "'/content/l8.npz'"
            ],
            "application/vnd.google.colaboratory.intrinsic+json": {
              "type": "string"
            }
          },
          "metadata": {},
          "execution_count": 2
        }
      ]
    },
    {
      "cell_type": "code",
      "source": [
        "# Load data from local files\n",
        "s2 = np.load(f\"{local_base}/s2.npz\")\n",
        "l8 = np.load(f\"{local_base}/l8.npz\")\n",
        "\n",
        "X_s2, y_s2 = s2['X'], s2['y']\n",
        "X_l8, y_l8 = l8['X'], l8['y']\n"
      ],
      "metadata": {
        "id": "0DNfHIcfNG1n"
      },
      "execution_count": null,
      "outputs": []
    },
    {
      "cell_type": "code",
      "source": [
        "\n",
        "# Split into train and test sets\n",
        "X_s2_train, X_s2_test, y_s2_train, y_s2_test = train_test_split(\n",
        "    X_s2, y_s2, test_size=0.2, stratify=y_s2, random_state=42)\n",
        "\n",
        "X_l8_train, X_l8_test, y_l8_train, y_l8_test = train_test_split(\n",
        "    X_l8, y_l8, test_size=0.2, stratify=y_l8, random_state=42)\n",
        "\n",
        "results = {}\n"
      ],
      "metadata": {
        "id": "0Hublq3ENIoA"
      },
      "execution_count": null,
      "outputs": []
    },
    {
      "cell_type": "code",
      "source": [
        "# Sentinel-2 model training and evaluation\n",
        "start_s2 = time.time()\n",
        "rf_s2 = RandomForestClassifier(n_estimators=100, random_state=42)\n",
        "rf_s2.fit(X_s2_train, y_s2_train)\n",
        "s2_preds_train = rf_s2.predict(X_s2_train)\n",
        "s2_preds_test = rf_s2.predict(X_s2_test)\n",
        "train_report_s2 = classification_report(y_s2_train, s2_preds_train, output_dict=True)\n",
        "test_report_s2 = classification_report(y_s2_test, s2_preds_test, output_dict=True)\n",
        "\n",
        "results[\"Sentinel-2 (Train)\"] = {\n",
        "    \"Accuracy\": (s2_preds_train == y_s2_train).mean(),\n",
        "    \"F1 (loss)\": train_report_s2['1']['f1-score'],\n",
        "    \"Recall (loss)\": train_report_s2['1']['recall'],\n",
        "    \"Precision (loss)\": train_report_s2['1']['precision'],\n",
        "    \"Training Time (s)\": round(time.time() - start_s2, 2)\n",
        "}\n",
        "\n",
        "results[\"Sentinel-2 (Test)\"] = {\n",
        "    \"Accuracy\": (s2_preds_test == y_s2_test).mean(),\n",
        "    \"F1 (loss)\": test_report_s2['1']['f1-score'],\n",
        "    \"Recall (loss)\": test_report_s2['1']['recall'],\n",
        "    \"Precision (loss)\": test_report_s2['1']['precision'],\n",
        "    \"Training Time (s)\": None  # Only counted in training row\n",
        "}\n",
        "\n",
        "# Landsat 8 model training and evaluation\n",
        "start_l8 = time.time()\n",
        "rf_l8 = RandomForestClassifier(n_estimators=100, random_state=42)\n",
        "rf_l8.fit(X_l8_train, y_l8_train)\n",
        "l8_preds_train = rf_l8.predict(X_l8_train)\n",
        "l8_preds_test = rf_l8.predict(X_l8_test)\n",
        "train_report_l8 = classification_report(y_l8_train, l8_preds_train, output_dict=True)\n",
        "test_report_l8 = classification_report(y_l8_test, l8_preds_test, output_dict=True)\n",
        "\n",
        "results[\"Landsat 8 (Train)\"] = {\n",
        "    \"Accuracy\": (l8_preds_train == y_l8_train).mean(),\n",
        "    \"F1 (loss)\": train_report_l8['1']['f1-score'],\n",
        "    \"Recall (loss)\": train_report_l8['1']['recall'],\n",
        "    \"Precision (loss)\": train_report_l8['1']['precision'],\n",
        "    \"Training Time (s)\": round(time.time() - start_l8, 2)\n",
        "}\n",
        "\n",
        "results[\"Landsat 8 (Test)\"] = {\n",
        "    \"Accuracy\": (l8_preds_test == y_l8_test).mean(),\n",
        "    \"F1 (loss)\": test_report_l8['1']['f1-score'],\n",
        "    \"Recall (loss)\": test_report_l8['1']['recall'],\n",
        "    \"Precision (loss)\": test_report_l8['1']['precision'],\n",
        "    \"Training Time (s)\": None\n",
        "}\n",
        "\n",
        "comparison_df = pd.DataFrame(results)\n"
      ],
      "metadata": {
        "id": "m1Q9LJiwNJdu"
      },
      "execution_count": null,
      "outputs": []
    },
    {
      "cell_type": "code",
      "source": [
        "print(comparison_df)"
      ],
      "metadata": {
        "colab": {
          "base_uri": "https://localhost:8080/"
        },
        "id": "XfJDE-NJhnGt",
        "outputId": "a9aace80-c3ba-466f-c7b3-6adeee9c75ce"
      },
      "execution_count": null,
      "outputs": [
        {
          "output_type": "stream",
          "name": "stdout",
          "text": [
            "                   Sentinel-2 (Train)  Sentinel-2 (Test)  Landsat 8 (Train)  \\\n",
            "Accuracy                     0.999995           0.998958           0.999995   \n",
            "F1 (loss)                    0.998538           0.514768           0.998540   \n",
            "Recall (loss)                0.997080           0.356725           0.998540   \n",
            "Precision (loss)             1.000000           0.924242           0.998540   \n",
            "Training Time (s)          144.010000                NaN         118.440000   \n",
            "\n",
            "                   Landsat 8 (Test)  \n",
            "Accuracy                   0.999094  \n",
            "F1 (loss)                  0.606299  \n",
            "Recall (loss)              0.450292  \n",
            "Precision (loss)           0.927711  \n",
            "Training Time (s)               NaN  \n"
          ]
        }
      ]
    },
    {
      "cell_type": "code",
      "source": [
        "from sklearn.metrics import confusion_matrix\n",
        "import matplotlib.pyplot as plt\n",
        "import seaborn as sns\n",
        "\n",
        "# Compute confusion matrices\n",
        "cm_s2 = confusion_matrix(y_s2_test, s2_preds_test)\n",
        "cm_l8 = confusion_matrix(y_l8_test, l8_preds_test)\n",
        "\n",
        "# Create subplot with two confusion matrices\n",
        "fig, axes = plt.subplots(1, 2, figsize=(12, 5))\n",
        "\n",
        "# Sentinel-2\n",
        "sns.heatmap(cm_s2, annot=True, fmt='d', cmap='Blues', ax=axes[0])\n",
        "axes[0].set_title(\"Confusion Matrix - Sentinel-2 (Test Set)\")\n",
        "axes[0].set_xlabel(\"Predicted Label\")\n",
        "axes[0].set_ylabel(\"True Label\")\n",
        "\n",
        "# Landsat 8\n",
        "sns.heatmap(cm_l8, annot=True, fmt='d', cmap='Greens', ax=axes[1])\n",
        "axes[1].set_title(\"Confusion Matrix - Landsat 8 (Test Set)\")\n",
        "axes[1].set_xlabel(\"Predicted Label\")\n",
        "axes[1].set_ylabel(\"True Label\")\n",
        "\n",
        "plt.tight_layout()\n",
        "plt.show()"
      ],
      "metadata": {
        "id": "hPfsRWs0LZdQ",
        "outputId": "34e9a249-1aba-4e4d-cbd5-7211e9a7320b",
        "colab": {
          "base_uri": "https://localhost:8080/",
          "height": 507
        }
      },
      "execution_count": null,
      "outputs": [
        {
          "output_type": "display_data",
          "data": {
            "text/plain": [
              "<Figure size 1200x500 with 4 Axes>"
            ],
            "image/png": "[encoded data removed]"
          },
          "metadata": {}
        }
      ]
    }
  ]
}