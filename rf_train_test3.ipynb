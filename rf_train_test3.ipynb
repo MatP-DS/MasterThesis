{
  "nbformat": 4,
  "nbformat_minor": 0,
  "metadata": {
    "colab": {
      "provenance": [],
      "authorship_tag": "ABX9TyOZ2AnuHOtDZXw50XBo4Cot",
      "include_colab_link": true
    },
    "kernelspec": {
      "name": "python3",
      "display_name": "Python 3"
    },
    "language_info": {
      "name": "python"
    }
  },
  "cells": [
    {
      "cell_type": "markdown",
      "metadata": {
        "id": "view-in-github",
        "colab_type": "text"
      },
      "source": [
        "<a href=\"https://colab.research.google.com/github/MatP-DS/MasterThesis/blob/main/rf_train_test3.ipynb\" target=\"_parent\"><img src=\"https://colab.research.google.com/assets/colab-badge.svg\" alt=\"Open In Colab\"/></a>"
      ]
    },
    {
      "cell_type": "code",
      "execution_count": null,
      "metadata": {
        "colab": {
          "base_uri": "https://localhost:8080/"
        },
        "id": "PZbufZ9Gykc_",
        "outputId": "589318eb-5fd1-4654-c32f-e011a79d9374"
      },
      "outputs": [
        {
          "output_type": "stream",
          "name": "stdout",
          "text": [
            "Mounted at /content/drive\n"
          ]
        }
      ],
      "source": [
        "from sklearn.ensemble import RandomForestClassifier\n",
        "from sklearn.metrics import accuracy_score, f1_score, precision_score, recall_score, confusion_matrix\n",
        "from sklearn.model_selection import train_test_split\n",
        "import numpy as np\n",
        "import pandas as pd\n",
        "import matplotlib.pyplot as plt\n",
        "import seaborn as sns\n",
        "import time\n",
        "\n",
        "from google.colab import drive\n",
        "drive.mount('/content/drive')\n"
      ]
    },
    {
      "cell_type": "code",
      "source": [
        "\n",
        "# Load flattened data\n",
        "flat_data = np.load(\"/content/drive/MyDrive/MasterThesis/02_preprocessed_data/X_flattened_final.npz\")[\"X\"].copy()\n",
        "labels = np.load(\"/content/drive/MyDrive/MasterThesis/02_preprocessed_data/y_labels_final.npz\")[\"y\"].copy()\n",
        "\n",
        "# Train/test split with stratification\n",
        "X_train, X_test, y_train, y_test = train_test_split(\n",
        "    flat_data, labels, test_size=0.2, stratify=labels, random_state=42\n",
        ")\n"
      ],
      "metadata": {
        "id": "eYkhwfO2ysgg"
      },
      "execution_count": null,
      "outputs": []
    },
    {
      "cell_type": "code",
      "source": [
        "# Model training (with timing)\n",
        "start_time = time.time()\n",
        "rf_model = RandomForestClassifier(n_estimators=100, n_jobs=-1, random_state=42, class_weight=\"balanced\")\n",
        "rf_model.fit(X_train, y_train)\n",
        "train_duration = time.time() - start_time\n",
        "\n",
        "# Predict\n",
        "y_pred = rf_model.predict(X_test)\n"
      ],
      "metadata": {
        "id": "1PUwMhMly8C5"
      },
      "execution_count": null,
      "outputs": []
    },
    {
      "cell_type": "code",
      "source": [
        "# Metrics\n",
        "metrics = {\n",
        "    \"Accuracy\": accuracy_score(y_test, y_pred),\n",
        "    \"F1 (loss)\": f1_score(y_test, y_pred, pos_label=1),\n",
        "    \"Recall (loss)\": recall_score(y_test, y_pred, pos_label=1),\n",
        "    \"Precision (loss)\": precision_score(y_test, y_pred, pos_label=1),\n",
        "    \"Training Time (s)\": train_duration\n",
        "}\n",
        "\n",
        "# Confusion Matrix\n",
        "cm = confusion_matrix(y_test, y_pred)\n",
        "cm_df = pd.DataFrame(cm, index=[\"No Loss (0)\", \"Loss (1)\"], columns=[\"Predicted 0\", \"Predicted 1\"])\n",
        "\n",
        "metrics_df = pd.DataFrame([metrics])\n",
        "metrics_df, cm_df\n"
      ],
      "metadata": {
        "id": "ZvBdVUwty9QH",
        "colab": {
          "base_uri": "https://localhost:8080/"
        },
        "outputId": "f9b9d6bd-5e37-4b5e-a662-6ca0725e761d"
      },
      "execution_count": null,
      "outputs": [
        {
          "output_type": "execute_result",
          "data": {
            "text/plain": [
              "(   Accuracy  F1 (loss)  Recall (loss)  Precision (loss)  Training Time (s)\n",
              " 0   0.99962   0.869565       0.818713          0.927152         666.894618,\n",
              "              Predicted 0  Predicted 1\n",
              " No Loss (0)       110228           11\n",
              " Loss (1)              31          140)"
            ]
          },
          "metadata": {},
          "execution_count": 4
        }
      ]
    },
    {
      "cell_type": "code",
      "source": [
        "import psutil\n",
        "print(f\"Memory used: {psutil.virtual_memory().used / 1e9:.2f} GB\")"
      ],
      "metadata": {
        "id": "KSTOGI434pRn",
        "colab": {
          "base_uri": "https://localhost:8080/"
        },
        "outputId": "1c8408c5-2d80-48d4-cafb-bdf8de5cb70f"
      },
      "execution_count": null,
      "outputs": [
        {
          "output_type": "stream",
          "name": "stdout",
          "text": [
            "Memory used: 3.43 GB\n"
          ]
        }
      ]
    },
    {
      "cell_type": "code",
      "source": [
        "def save_model_results_extended(model_name, model, metrics_df, cm_df=None, folder=\"/content/drive/MyDrive/MasterThesis/04_results/metrics\"):\n",
        "    \"\"\"\n",
        "    Save model evaluation results including metrics, hyperparameters, and confusion matrix.\n",
        "\n",
        "    Parameters:\n",
        "    - model_name: str, name of the model (e.g., \"random_forest\")\n",
        "    - model: trained model object with `.get_params()` or `.__dict__`\n",
        "    - metrics_df: pd.DataFrame with one row of evaluation metrics\n",
        "    - cm_df: pd.DataFrame with confusion matrix (optional)\n",
        "    - folder: target folder path\n",
        "    \"\"\"\n",
        "    import os\n",
        "    import json\n",
        "    from datetime import datetime\n",
        "\n",
        "    os.makedirs(folder, exist_ok=True)\n",
        "\n",
        "    # Timestamp for versioned output\n",
        "    timestamp = datetime.now().strftime(\"%Y%m%d_%H%M%S\")\n",
        "    base_filename = f\"{model_name}_metrics_{timestamp}\"\n",
        "\n",
        "    # Save metrics CSV and JSON\n",
        "    metrics_path_csv = os.path.join(folder, f\"{base_filename}.csv\")\n",
        "    metrics_df.to_csv(metrics_path_csv, index=False)\n",
        "\n",
        "    # Extract model parameters\n",
        "    try:\n",
        "        params = model.get_params()\n",
        "    except AttributeError:\n",
        "        params = model.__dict__\n",
        "\n",
        "    # Combine everything into one JSON log\n",
        "    log_dict = {\n",
        "        \"model_name\": model_name,\n",
        "        \"timestamp\": timestamp,\n",
        "        \"metrics\": metrics_df.to_dict(orient=\"records\")[0],\n",
        "        \"hyperparameters\": {k: str(v) for k, v in params.items()}\n",
        "    }\n",
        "\n",
        "    metrics_path_json = os.path.join(folder, f\"{base_filename}.json\")\n",
        "    with open(metrics_path_json, 'w') as f:\n",
        "        json.dump(log_dict, f, indent=4)\n",
        "\n",
        "    # Save confusion matrix if provided\n",
        "    cm_path_csv = None\n",
        "    if cm_df is not None:\n",
        "        cm_path_csv = os.path.join(folder, f\"{base_filename}_confusion_matrix.csv\")\n",
        "        cm_df.to_csv(cm_path_csv)\n",
        "\n",
        "    return {\n",
        "        \"csv\": metrics_path_csv,\n",
        "        \"json\": metrics_path_json,\n",
        "        \"confusion_matrix\": cm_path_csv\n",
        "    }\n",
        "\n",
        "# Example usage:\n",
        "save_model_results_extended(\"random_forest\", rf_model, metrics_df, cm_df)\n"
      ],
      "metadata": {
        "id": "zcrVobIxM-PW",
        "outputId": "349b5e7c-e92e-4ec0-a115-5544aef77a62",
        "colab": {
          "base_uri": "https://localhost:8080/"
        }
      },
      "execution_count": null,
      "outputs": [
        {
          "output_type": "execute_result",
          "data": {
            "text/plain": [
              "{'csv': '/content/drive/MyDrive/MasterThesis/04_results/metrics/random_forest_metrics_20250623_235129.csv',\n",
              " 'json': '/content/drive/MyDrive/MasterThesis/04_results/metrics/random_forest_metrics_20250623_235129.json',\n",
              " 'confusion_matrix': '/content/drive/MyDrive/MasterThesis/04_results/metrics/random_forest_metrics_20250623_235129_confusion_matrix.csv'}"
            ]
          },
          "metadata": {},
          "execution_count": 6
        }
      ]
    }
  ]
}