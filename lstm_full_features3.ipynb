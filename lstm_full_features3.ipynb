{
  "nbformat": 4,
  "nbformat_minor": 0,
  "metadata": {
    "colab": {
      "provenance": [],
      "machine_shape": "hm",
      "gpuType": "L4",
      "authorship_tag": "ABX9TyOznNQcYkAGv70LfhFibzze",
      "include_colab_link": true
    },
    "kernelspec": {
      "name": "python3",
      "display_name": "Python 3"
    },
    "language_info": {
      "name": "python"
    },
    "accelerator": "GPU"
  },
  "cells": [
    {
      "cell_type": "markdown",
      "metadata": {
        "id": "view-in-github",
        "colab_type": "text"
      },
      "source": [
        "<a href=\"https://colab.research.google.com/github/MatP-DS/MasterThesis/blob/main/lstm_full_features3.ipynb\" target=\"_parent\"><img src=\"https://colab.research.google.com/assets/colab-badge.svg\" alt=\"Open In Colab\"/></a>"
      ]
    },
    {
      "cell_type": "code",
      "source": [
        "# Install dependencies\n",
        "!pip install tensorflow tensorflow-addons psutil memory_profiler --quiet\n"
      ],
      "metadata": {
        "id": "0wnKwQGXcDMY"
      },
      "execution_count": null,
      "outputs": []
    },
    {
      "cell_type": "code",
      "source": [
        "# Imports\n",
        "import numpy as np\n",
        "import tensorflow as tf\n",
        "from tensorflow.keras.models import Sequential\n",
        "from tensorflow.keras.layers import LSTM, Dense, Dropout\n",
        "from tensorflow.keras.callbacks import EarlyStopping\n",
        "from tensorflow.keras.optimizers import Adam\n",
        "from sklearn.metrics import (accuracy_score, f1_score, recall_score,\n",
        "                           precision_score, confusion_matrix,\n",
        "                           precision_recall_curve, auc, classification_report,\n",
        "                           roc_curve, RocCurveDisplay)\n",
        "from sklearn.model_selection import train_test_split\n",
        "from sklearn.preprocessing import StandardScaler\n",
        "import pandas as pd\n",
        "import os\n",
        "import json\n",
        "from datetime import datetime\n",
        "import time\n",
        "import psutil\n",
        "import matplotlib.pyplot as plt\n",
        "import seaborn as sns\n",
        "from IPython.display import display, Markdown\n",
        "\n",
        "# Mount Google Drive\n",
        "from google.colab import drive\n",
        "drive.mount('/content/drive')\n",
        "\n",
        "# Initialize performance tracking\n",
        "class PerformanceTracker:\n",
        "    def __init__(self):\n",
        "        self.start_time = None\n",
        "        self.peak_ram = 0\n",
        "        self.cpu_usage = []\n",
        "\n",
        "    def start(self):\n",
        "        self.start_time = time.time()\n",
        "        self.peak_ram = psutil.virtual_memory().used / (1024**3)  # GB\n",
        "        self.cpu_usage.append(psutil.cpu_percent())\n",
        "\n",
        "    def update(self):\n",
        "        current_ram = psutil.virtual_memory().used / (1024**3)\n",
        "        if current_ram > self.peak_ram:\n",
        "            self.peak_ram = current_ram\n",
        "        self.cpu_usage.append(psutil.cpu_percent())\n",
        "\n",
        "    def get_stats(self):\n",
        "        return {\n",
        "            'training_time': time.time() - self.start_time,\n",
        "            'peak_ram_gb': self.peak_ram,\n",
        "            'avg_cpu_usage': np.mean(self.cpu_usage),\n",
        "            'max_cpu_usage': np.max(self.cpu_usage)\n",
        "        }\n",
        "\n",
        "# Load and preprocess data\n",
        "def load_and_preprocess():\n",
        "    tracker.update()\n",
        "    X = np.load(\"/content/drive/MyDrive/MasterThesis/02_preprocessed_data/X_time_series_final.npz\")[\"X\"]\n",
        "    y = np.load(\"/content/drive/MyDrive/MasterThesis/02_preprocessed_data/y_labels_final.npz\")[\"y\"]\n",
        "\n",
        "    valid_mask = (y == 0) | (y == 1)\n",
        "    X = X[valid_mask]\n",
        "    y = y[valid_mask]\n",
        "    X = np.nan_to_num(X)\n",
        "\n",
        "    n_timesteps, n_features = X.shape[1], X.shape[2]\n",
        "    scaler = StandardScaler()\n",
        "    X_scaled = scaler.fit_transform(X.reshape(-1, n_features)).reshape(-1, n_timesteps, n_features)\n",
        "\n",
        "    return train_test_split(X_scaled, y, test_size=0.2, stratify=y, random_state=42)\n",
        "\n",
        "# Add temporal features\n",
        "def add_temporal_features(X):\n",
        "    n_samples, n_timesteps, n_features = X.shape\n",
        "    X_new = np.zeros((n_samples, n_timesteps, n_features + 2))\n",
        "\n",
        "    X_new[:, :, :n_features] = X\n",
        "\n",
        "    # Rolling average\n",
        "    for i in range(n_samples):\n",
        "        rolling_avg = np.convolve(X[i, :, :].mean(axis=1), np.ones(3)/3, mode='same')\n",
        "        X_new[i, :, n_features] = rolling_avg\n",
        "\n",
        "    # Slope\n",
        "    for i in range(n_samples):\n",
        "        x = np.arange(n_timesteps)\n",
        "        slope = np.polyfit(x, X[i, :, :].mean(axis=1), 1)[0]\n",
        "        X_new[i, :, -1] = slope\n",
        "\n",
        "    return X_new\n",
        "\n",
        "# Build model\n",
        "def build_model(input_shape):\n",
        "    model = Sequential([\n",
        "        LSTM(32, input_shape=input_shape),\n",
        "        Dropout(0.5),\n",
        "        Dense(1, activation='sigmoid')\n",
        "    ])\n",
        "\n",
        "    model.compile(\n",
        "        optimizer=Adam(learning_rate=0.001),\n",
        "        loss='binary_crossentropy',\n",
        "        metrics=['Precision', 'Recall'])\n",
        "    return model\n",
        "\n",
        "# Evaluate model with plots\n",
        "def evaluate_model_with_plots(model, X_test, y_test):\n",
        "    start_time = time.time()\n",
        "    y_pred_prob = model.predict(X_test).flatten()\n",
        "    inference_speed = (time.time() - start_time) / len(X_test) * 1000  # ms/sample\n",
        "\n",
        "    # Precision-Recall Curve\n",
        "    precision, recall, thresholds = precision_recall_curve(y_test, y_pred_prob)\n",
        "    pr_auc = auc(recall, precision)\n",
        "\n",
        "    # ROC Curve\n",
        "    fpr, tpr, _ = roc_curve(y_test, y_pred_prob)\n",
        "    roc_auc = auc(fpr, tpr)\n",
        "\n",
        "    # Find optimal threshold\n",
        "    f1_scores = 2 * (precision * recall) / (precision + recall + 1e-6)\n",
        "    best_idx = np.argmax(f1_scores)\n",
        "    best_threshold = thresholds[best_idx]\n",
        "    y_pred = (y_pred_prob > best_threshold).astype(int)\n",
        "\n",
        "    # Confusion matrix\n",
        "    cm = confusion_matrix(y_test, y_pred)\n",
        "\n",
        "    # Create plots\n",
        "    plt.figure(figsize=(15, 5))\n",
        "\n",
        "    # PR Curve\n",
        "    plt.subplot(1, 2, 1)\n",
        "    plt.plot(recall, precision, label=f'PR Curve (AUC = {pr_auc:.4f})')\n",
        "    plt.xlabel('Recall')\n",
        "    plt.ylabel('Precision')\n",
        "    plt.title('Precision-Recall Curve')\n",
        "    plt.legend()\n",
        "\n",
        "    # ROC Curve\n",
        "    plt.subplot(1, 2, 2)\n",
        "    RocCurveDisplay.from_predictions(y_test, y_pred_prob)\n",
        "    plt.title(f'ROC Curve (AUC = {roc_auc:.4f})')\n",
        "\n",
        "    plt.tight_layout()\n",
        "    plt.show()\n",
        "\n",
        "    # Print metrics\n",
        "    display(Markdown(\"## Deforestation Detection Model Performance\"))\n",
        "    print(\"========================================\")\n",
        "    print(f\"Training Time: {perf_stats['training_time']:.2f} seconds\")\n",
        "    print(f\"Peak RAM Usage: {perf_stats['peak_ram_gb']:.2f} GB\")\n",
        "    print(f\"CPU Usage: {perf_stats['avg_cpu_usage']:.1f}% (avg), {perf_stats['max_cpu_usage']:.1f}% (max)\")\n",
        "    print(f\"\\nPR-AUC: {pr_auc:.4f} (Critical for Imbalance)\")\n",
        "    print(f\"Inference Speed: {inference_speed:.4f} ms/sample\")\n",
        "    print(\"\\nClassification Report:\")\n",
        "    print(classification_report(y_test, y_pred, target_names=['No Deforestation', 'Deforestation']))\n",
        "\n",
        "    return {\n",
        "        'accuracy': float(accuracy_score(y_test, y_pred)),\n",
        "        'precision': float(precision_score(y_test, y_pred)),\n",
        "        'recall': float(recall_score(y_test, y_pred)),\n",
        "        'f1': float(f1_score(y_test, y_pred)),\n",
        "        'best_threshold': float(best_threshold),\n",
        "        'confusion_matrix': cm.tolist(),\n",
        "        'pr_auc': float(pr_auc),\n",
        "        'roc_auc': float(roc_auc),\n",
        "        'inference_speed': float(inference_speed)\n",
        "    }\n",
        "\n",
        "# Main execution\n",
        "if __name__ == \"__main__\":\n",
        "    # Initialize performance tracker\n",
        "    tracker = PerformanceTracker()\n",
        "    tracker.start()\n",
        "\n",
        "    # Load and preprocess data\n",
        "    X_train, X_test, y_train, y_test = load_and_preprocess()\n",
        "    tracker.update()\n",
        "\n",
        "    # Add temporal features\n",
        "    X_train = add_temporal_features(X_train)\n",
        "    X_test = add_temporal_features(X_test)\n",
        "    tracker.update()\n",
        "\n",
        "    # Build and train model\n",
        "    model = build_model((X_train.shape[1], X_train.shape[2]))\n",
        "\n",
        "    early_stopping = EarlyStopping(\n",
        "        monitor='val_precision',\n",
        "        patience=5,\n",
        "        mode='max',\n",
        "        restore_best_weights=True\n",
        "    )\n",
        "\n",
        "    history = model.fit(\n",
        "        X_train, y_train,\n",
        "        validation_split=0.2,\n",
        "        epochs=50,\n",
        "        batch_size=512,\n",
        "        class_weight={0: 1, 1: 10},\n",
        "        callbacks=[early_stopping],\n",
        "        verbose=1\n",
        "    )\n",
        "\n",
        "    # Get performance stats\n",
        "    perf_stats = tracker.get_stats()\n",
        "\n",
        "    # Evaluate model\n",
        "    metrics = evaluate_model_with_plots(model, X_test, y_test)\n",
        "\n",
        "    # Save results\n",
        "    def save_results(model, metrics, folder=\"/content/drive/MyDrive/MasterThesis/04_results\"):\n",
        "        os.makedirs(folder, exist_ok=True)\n",
        "        timestamp = datetime.now().strftime(\"%Y%m%d_%H%M%S\")\n",
        "\n",
        "        # Save model\n",
        "        model_path = os.path.join(folder, f\"lstm_improved_{timestamp}.h5\")\n",
        "        model.save(model_path)\n",
        "\n",
        "        # Save metrics\n",
        "        metrics_path = os.path.join(folder, f\"lstm_improved_metrics_{timestamp}.json\")\n",
        "        with open(metrics_path, 'w') as f:\n",
        "            json.dump({**metrics, **perf_stats}, f, indent=2, default=lambda x: float(x) if isinstance(x, (np.float32, np.float64)) else x)\n",
        "\n",
        "        # Save plots\n",
        "        plot_path = os.path.join(folder, f\"lstm_improved_plots_{timestamp}.png\")\n",
        "        plt.savefig(plot_path)\n",
        "\n",
        "        return model_path, metrics_path, plot_path\n",
        "\n",
        "    model_path, metrics_path, plot_path = save_results(model, metrics)\n",
        "\n",
        "    print(\"\\nResults saved to:\")\n",
        "    print(f\"- Model: {model_path}\")\n",
        "    print(f\"- Metrics: {metrics_path}\")\n",
        "    print(f\"- Plots: {plot_path}\")"
      ],
      "metadata": {
        "colab": {
          "base_uri": "https://localhost:8080/",
          "height": 1000
        },
        "id": "SWKGTYWDxgSm",
        "outputId": "d4eb59e4-28ab-4d8b-f773-d3b4afa8bc86"
      },
      "execution_count": null,
      "outputs": [
        {
          "output_type": "stream",
          "name": "stdout",
          "text": [
            "Drive already mounted at /content/drive; to attempt to forcibly remount, call drive.mount(\"/content/drive\", force_remount=True).\n"
          ]
        },
        {
          "output_type": "stream",
          "name": "stderr",
          "text": [
            "/usr/local/lib/python3.11/dist-packages/keras/src/layers/rnn/rnn.py:200: UserWarning: Do not pass an `input_shape`/`input_dim` argument to a layer. When using Sequential models, prefer using an `Input(shape)` object as the first layer in the model instead.\n",
            "  super().__init__(**kwargs)\n"
          ]
        },
        {
          "output_type": "stream",
          "name": "stdout",
          "text": [
            "Epoch 1/50\n",
            "\u001b[1m691/691\u001b[0m \u001b[32m━━━━━━━━━━━━━━━━━━━━\u001b[0m\u001b[37m\u001b[0m \u001b[1m8s\u001b[0m 8ms/step - Precision: 0.0661 - Recall: 0.2347 - loss: 0.1217 - val_Precision: 0.6610 - val_Recall: 0.8417 - val_loss: 0.0036\n",
            "Epoch 2/50\n",
            "\u001b[1m 19/691\u001b[0m \u001b[37m━━━━━━━━━━━━━━━━━━━━\u001b[0m \u001b[1m4s\u001b[0m 6ms/step - Precision: 0.7622 - Recall: 0.7135 - loss: 0.0459"
          ]
        },
        {
          "output_type": "stream",
          "name": "stderr",
          "text": [
            "/usr/local/lib/python3.11/dist-packages/keras/src/callbacks/early_stopping.py:153: UserWarning: Early stopping conditioned on metric `val_precision` which is not available. Available metrics are: Precision,Recall,loss,val_Precision,val_Recall,val_loss\n",
            "  current = self.get_monitor_value(logs)\n"
          ]
        },
        {
          "output_type": "stream",
          "name": "stdout",
          "text": [
            "\u001b[1m691/691\u001b[0m \u001b[32m━━━━━━━━━━━━━━━━━━━━\u001b[0m\u001b[37m\u001b[0m \u001b[1m5s\u001b[0m 7ms/step - Precision: 0.6982 - Recall: 0.8457 - loss: 0.0143 - val_Precision: 0.2888 - val_Recall: 0.8705 - val_loss: 0.0094\n",
            "Epoch 3/50\n",
            "\u001b[1m 18/691\u001b[0m \u001b[37m━━━━━━━━━━━━━━━━━━━━\u001b[0m \u001b[1m4s\u001b[0m 6ms/step - Precision: 0.4327 - Recall: 1.0000 - loss: 0.0094"
          ]
        },
        {
          "output_type": "stream",
          "name": "stderr",
          "text": [
            "/usr/local/lib/python3.11/dist-packages/keras/src/callbacks/early_stopping.py:153: UserWarning: Early stopping conditioned on metric `val_precision` which is not available. Available metrics are: Precision,Recall,loss,val_Precision,val_Recall,val_loss\n",
            "  current = self.get_monitor_value(logs)\n"
          ]
        },
        {
          "output_type": "stream",
          "name": "stdout",
          "text": [
            "\u001b[1m691/691\u001b[0m \u001b[32m━━━━━━━━━━━━━━━━━━━━\u001b[0m\u001b[37m\u001b[0m \u001b[1m5s\u001b[0m 7ms/step - Precision: 0.6493 - Recall: 0.8974 - loss: 0.0105 - val_Precision: 0.7134 - val_Recall: 0.8417 - val_loss: 0.0028\n",
            "Epoch 4/50\n",
            "\u001b[1m 19/691\u001b[0m \u001b[37m━━━━━━━━━━━━━━━━━━━━\u001b[0m \u001b[1m4s\u001b[0m 6ms/step - Precision: 0.9345 - Recall: 0.8485 - loss: 0.0260"
          ]
        },
        {
          "output_type": "stream",
          "name": "stderr",
          "text": [
            "/usr/local/lib/python3.11/dist-packages/keras/src/callbacks/early_stopping.py:153: UserWarning: Early stopping conditioned on metric `val_precision` which is not available. Available metrics are: Precision,Recall,loss,val_Precision,val_Recall,val_loss\n",
            "  current = self.get_monitor_value(logs)\n"
          ]
        },
        {
          "output_type": "stream",
          "name": "stdout",
          "text": [
            "\u001b[1m691/691\u001b[0m \u001b[32m━━━━━━━━━━━━━━━━━━━━\u001b[0m\u001b[37m\u001b[0m \u001b[1m5s\u001b[0m 7ms/step - Precision: 0.7564 - Recall: 0.8740 - loss: 0.0117 - val_Precision: 0.6402 - val_Recall: 0.8705 - val_loss: 0.0037\n",
            "Epoch 5/50\n",
            "\u001b[1m 19/691\u001b[0m \u001b[37m━━━━━━━━━━━━━━━━━━━━\u001b[0m \u001b[1m3s\u001b[0m 6ms/step - Precision: 0.5083 - Recall: 0.8278 - loss: 0.0052"
          ]
        },
        {
          "output_type": "stream",
          "name": "stderr",
          "text": [
            "/usr/local/lib/python3.11/dist-packages/keras/src/callbacks/early_stopping.py:153: UserWarning: Early stopping conditioned on metric `val_precision` which is not available. Available metrics are: Precision,Recall,loss,val_Precision,val_Recall,val_loss\n",
            "  current = self.get_monitor_value(logs)\n"
          ]
        },
        {
          "output_type": "stream",
          "name": "stdout",
          "text": [
            "\u001b[1m691/691\u001b[0m \u001b[32m━━━━━━━━━━━━━━━━━━━━\u001b[0m\u001b[37m\u001b[0m \u001b[1m5s\u001b[0m 7ms/step - Precision: 0.7358 - Recall: 0.8971 - loss: 0.0092 - val_Precision: 0.6977 - val_Recall: 0.8633 - val_loss: 0.0030\n",
            "Epoch 6/50\n",
            "\u001b[1m 19/691\u001b[0m \u001b[37m━━━━━━━━━━━━━━━━━━━━\u001b[0m \u001b[1m3s\u001b[0m 6ms/step - Precision: 0.7355 - Recall: 0.9474 - loss: 0.0033"
          ]
        },
        {
          "output_type": "stream",
          "name": "stderr",
          "text": [
            "/usr/local/lib/python3.11/dist-packages/keras/src/callbacks/early_stopping.py:153: UserWarning: Early stopping conditioned on metric `val_precision` which is not available. Available metrics are: Precision,Recall,loss,val_Precision,val_Recall,val_loss\n",
            "  current = self.get_monitor_value(logs)\n"
          ]
        },
        {
          "output_type": "stream",
          "name": "stdout",
          "text": [
            "\u001b[1m691/691\u001b[0m \u001b[32m━━━━━━━━━━━━━━━━━━━━\u001b[0m\u001b[37m\u001b[0m \u001b[1m5s\u001b[0m 7ms/step - Precision: 0.7545 - Recall: 0.9091 - loss: 0.0089 - val_Precision: 0.7289 - val_Recall: 0.8705 - val_loss: 0.0030\n",
            "Epoch 7/50\n",
            "\u001b[1m 19/691\u001b[0m \u001b[37m━━━━━━━━━━━━━━━━━━━━\u001b[0m \u001b[1m4s\u001b[0m 6ms/step - Precision: 0.8862 - Recall: 0.9124 - loss: 0.0123"
          ]
        },
        {
          "output_type": "stream",
          "name": "stderr",
          "text": [
            "/usr/local/lib/python3.11/dist-packages/keras/src/callbacks/early_stopping.py:153: UserWarning: Early stopping conditioned on metric `val_precision` which is not available. Available metrics are: Precision,Recall,loss,val_Precision,val_Recall,val_loss\n",
            "  current = self.get_monitor_value(logs)\n"
          ]
        },
        {
          "output_type": "stream",
          "name": "stdout",
          "text": [
            "\u001b[1m691/691\u001b[0m \u001b[32m━━━━━━━━━━━━━━━━━━━━\u001b[0m\u001b[37m\u001b[0m \u001b[1m5s\u001b[0m 7ms/step - Precision: 0.7913 - Recall: 0.9160 - loss: 0.0088 - val_Precision: 0.7378 - val_Recall: 0.8705 - val_loss: 0.0027\n",
            "Epoch 8/50\n",
            "\u001b[1m 17/691\u001b[0m \u001b[37m━━━━━━━━━━━━━━━━━━━━\u001b[0m \u001b[1m4s\u001b[0m 6ms/step - Precision: 0.8965 - Recall: 0.9763 - loss: 0.0079"
          ]
        },
        {
          "output_type": "stream",
          "name": "stderr",
          "text": [
            "/usr/local/lib/python3.11/dist-packages/keras/src/callbacks/early_stopping.py:153: UserWarning: Early stopping conditioned on metric `val_precision` which is not available. Available metrics are: Precision,Recall,loss,val_Precision,val_Recall,val_loss\n",
            "  current = self.get_monitor_value(logs)\n"
          ]
        },
        {
          "output_type": "stream",
          "name": "stdout",
          "text": [
            "\u001b[1m691/691\u001b[0m \u001b[32m━━━━━━━━━━━━━━━━━━━━\u001b[0m\u001b[37m\u001b[0m \u001b[1m5s\u001b[0m 7ms/step - Precision: 0.7611 - Recall: 0.9106 - loss: 0.0087 - val_Precision: 0.7792 - val_Recall: 0.8633 - val_loss: 0.0025\n",
            "Epoch 9/50\n",
            "\u001b[1m 19/691\u001b[0m \u001b[37m━━━━━━━━━━━━━━━━━━━━\u001b[0m \u001b[1m3s\u001b[0m 6ms/step - Precision: 0.7423 - Recall: 1.0000 - loss: 0.0015"
          ]
        },
        {
          "output_type": "stream",
          "name": "stderr",
          "text": [
            "/usr/local/lib/python3.11/dist-packages/keras/src/callbacks/early_stopping.py:153: UserWarning: Early stopping conditioned on metric `val_precision` which is not available. Available metrics are: Precision,Recall,loss,val_Precision,val_Recall,val_loss\n",
            "  current = self.get_monitor_value(logs)\n"
          ]
        },
        {
          "output_type": "stream",
          "name": "stdout",
          "text": [
            "\u001b[1m691/691\u001b[0m \u001b[32m━━━━━━━━━━━━━━━━━━━━\u001b[0m\u001b[37m\u001b[0m \u001b[1m5s\u001b[0m 7ms/step - Precision: 0.7661 - Recall: 0.9199 - loss: 0.0078 - val_Precision: 0.6068 - val_Recall: 0.8993 - val_loss: 0.0042\n",
            "Epoch 10/50\n",
            "\u001b[1m 19/691\u001b[0m \u001b[37m━━━━━━━━━━━━━━━━━━━━\u001b[0m \u001b[1m4s\u001b[0m 6ms/step - Precision: 0.6623 - Recall: 0.9842 - loss: 0.0048"
          ]
        },
        {
          "output_type": "stream",
          "name": "stderr",
          "text": [
            "/usr/local/lib/python3.11/dist-packages/keras/src/callbacks/early_stopping.py:153: UserWarning: Early stopping conditioned on metric `val_precision` which is not available. Available metrics are: Precision,Recall,loss,val_Precision,val_Recall,val_loss\n",
            "  current = self.get_monitor_value(logs)\n"
          ]
        },
        {
          "output_type": "stream",
          "name": "stdout",
          "text": [
            "\u001b[1m691/691\u001b[0m \u001b[32m━━━━━━━━━━━━━━━━━━━━\u001b[0m\u001b[37m\u001b[0m \u001b[1m5s\u001b[0m 7ms/step - Precision: 0.6741 - Recall: 0.9161 - loss: 0.0087 - val_Precision: 0.7143 - val_Recall: 0.8633 - val_loss: 0.0030\n",
            "Epoch 11/50\n",
            "\u001b[1m 15/691\u001b[0m \u001b[37m━━━━━━━━━━━━━━━━━━━━\u001b[0m \u001b[1m4s\u001b[0m 7ms/step - Precision: 0.7556 - Recall: 0.7289 - loss: 0.0020"
          ]
        },
        {
          "output_type": "stream",
          "name": "stderr",
          "text": [
            "/usr/local/lib/python3.11/dist-packages/keras/src/callbacks/early_stopping.py:153: UserWarning: Early stopping conditioned on metric `val_precision` which is not available. Available metrics are: Precision,Recall,loss,val_Precision,val_Recall,val_loss\n",
            "  current = self.get_monitor_value(logs)\n"
          ]
        },
        {
          "output_type": "stream",
          "name": "stdout",
          "text": [
            "\u001b[1m691/691\u001b[0m \u001b[32m━━━━━━━━━━━━━━━━━━━━\u001b[0m\u001b[37m\u001b[0m \u001b[1m5s\u001b[0m 7ms/step - Precision: 0.7529 - Recall: 0.9222 - loss: 0.0073 - val_Precision: 0.6935 - val_Recall: 0.9281 - val_loss: 0.0032\n",
            "Epoch 12/50\n",
            "\u001b[1m 19/691\u001b[0m \u001b[37m━━━━━━━━━━━━━━━━━━━━\u001b[0m \u001b[1m4s\u001b[0m 6ms/step - Precision: 0.6504 - Recall: 0.7548 - loss: 0.0174"
          ]
        },
        {
          "output_type": "stream",
          "name": "stderr",
          "text": [
            "/usr/local/lib/python3.11/dist-packages/keras/src/callbacks/early_stopping.py:153: UserWarning: Early stopping conditioned on metric `val_precision` which is not available. Available metrics are: Precision,Recall,loss,val_Precision,val_Recall,val_loss\n",
            "  current = self.get_monitor_value(logs)\n"
          ]
        },
        {
          "output_type": "stream",
          "name": "stdout",
          "text": [
            "\u001b[1m691/691\u001b[0m \u001b[32m━━━━━━━━━━━━━━━━━━━━\u001b[0m\u001b[37m\u001b[0m \u001b[1m5s\u001b[0m 7ms/step - Precision: 0.7293 - Recall: 0.9041 - loss: 0.0091 - val_Precision: 0.7785 - val_Recall: 0.8849 - val_loss: 0.0022\n",
            "Epoch 13/50\n",
            "\u001b[1m 18/691\u001b[0m \u001b[37m━━━━━━━━━━━━━━━━━━━━\u001b[0m \u001b[1m4s\u001b[0m 6ms/step - Precision: 0.8600 - Recall: 0.8963 - loss: 0.0059"
          ]
        },
        {
          "output_type": "stream",
          "name": "stderr",
          "text": [
            "/usr/local/lib/python3.11/dist-packages/keras/src/callbacks/early_stopping.py:153: UserWarning: Early stopping conditioned on metric `val_precision` which is not available. Available metrics are: Precision,Recall,loss,val_Precision,val_Recall,val_loss\n",
            "  current = self.get_monitor_value(logs)\n"
          ]
        },
        {
          "output_type": "stream",
          "name": "stdout",
          "text": [
            "\u001b[1m691/691\u001b[0m \u001b[32m━━━━━━━━━━━━━━━━━━━━\u001b[0m\u001b[37m\u001b[0m \u001b[1m5s\u001b[0m 7ms/step - Precision: 0.7868 - Recall: 0.9130 - loss: 0.0080 - val_Precision: 0.7857 - val_Recall: 0.8705 - val_loss: 0.0023\n",
            "Epoch 14/50\n",
            "\u001b[1m 19/691\u001b[0m \u001b[37m━━━━━━━━━━━━━━━━━━━━\u001b[0m \u001b[1m4s\u001b[0m 6ms/step - Precision: 0.7976 - Recall: 0.7125 - loss: 0.0099"
          ]
        },
        {
          "output_type": "stream",
          "name": "stderr",
          "text": [
            "/usr/local/lib/python3.11/dist-packages/keras/src/callbacks/early_stopping.py:153: UserWarning: Early stopping conditioned on metric `val_precision` which is not available. Available metrics are: Precision,Recall,loss,val_Precision,val_Recall,val_loss\n",
            "  current = self.get_monitor_value(logs)\n"
          ]
        },
        {
          "output_type": "stream",
          "name": "stdout",
          "text": [
            "\u001b[1m691/691\u001b[0m \u001b[32m━━━━━━━━━━━━━━━━━━━━\u001b[0m\u001b[37m\u001b[0m \u001b[1m5s\u001b[0m 7ms/step - Precision: 0.7542 - Recall: 0.9260 - loss: 0.0083 - val_Precision: 0.6632 - val_Recall: 0.9209 - val_loss: 0.0038\n",
            "Epoch 15/50\n",
            "\u001b[1m 18/691\u001b[0m \u001b[37m━━━━━━━━━━━━━━━━━━━━\u001b[0m \u001b[1m4s\u001b[0m 6ms/step - Precision: 0.6754 - Recall: 0.9180 - loss: 0.0081"
          ]
        },
        {
          "output_type": "stream",
          "name": "stderr",
          "text": [
            "/usr/local/lib/python3.11/dist-packages/keras/src/callbacks/early_stopping.py:153: UserWarning: Early stopping conditioned on metric `val_precision` which is not available. Available metrics are: Precision,Recall,loss,val_Precision,val_Recall,val_loss\n",
            "  current = self.get_monitor_value(logs)\n"
          ]
        },
        {
          "output_type": "stream",
          "name": "stdout",
          "text": [
            "\u001b[1m691/691\u001b[0m \u001b[32m━━━━━━━━━━━━━━━━━━━━\u001b[0m\u001b[37m\u001b[0m \u001b[1m5s\u001b[0m 7ms/step - Precision: 0.7597 - Recall: 0.9397 - loss: 0.0067 - val_Precision: 0.7310 - val_Recall: 0.8993 - val_loss: 0.0026\n",
            "Epoch 16/50\n",
            "\u001b[1m 19/691\u001b[0m \u001b[37m━━━━━━━━━━━━━━━━━━━━\u001b[0m \u001b[1m4s\u001b[0m 6ms/step - Precision: 0.6950 - Recall: 0.8947 - loss: 0.0022"
          ]
        },
        {
          "output_type": "stream",
          "name": "stderr",
          "text": [
            "/usr/local/lib/python3.11/dist-packages/keras/src/callbacks/early_stopping.py:153: UserWarning: Early stopping conditioned on metric `val_precision` which is not available. Available metrics are: Precision,Recall,loss,val_Precision,val_Recall,val_loss\n",
            "  current = self.get_monitor_value(logs)\n"
          ]
        },
        {
          "output_type": "stream",
          "name": "stdout",
          "text": [
            "\u001b[1m691/691\u001b[0m \u001b[32m━━━━━━━━━━━━━━━━━━━━\u001b[0m\u001b[37m\u001b[0m \u001b[1m5s\u001b[0m 7ms/step - Precision: 0.7801 - Recall: 0.9269 - loss: 0.0066 - val_Precision: 0.7545 - val_Recall: 0.9065 - val_loss: 0.0025\n",
            "Epoch 17/50\n",
            "\u001b[1m 19/691\u001b[0m \u001b[37m━━━━━━━━━━━━━━━━━━━━\u001b[0m \u001b[1m4s\u001b[0m 6ms/step - Precision: 0.7382 - Recall: 0.8775 - loss: 0.0068"
          ]
        },
        {
          "output_type": "stream",
          "name": "stderr",
          "text": [
            "/usr/local/lib/python3.11/dist-packages/keras/src/callbacks/early_stopping.py:153: UserWarning: Early stopping conditioned on metric `val_precision` which is not available. Available metrics are: Precision,Recall,loss,val_Precision,val_Recall,val_loss\n",
            "  current = self.get_monitor_value(logs)\n"
          ]
        },
        {
          "output_type": "stream",
          "name": "stdout",
          "text": [
            "\u001b[1m691/691\u001b[0m \u001b[32m━━━━━━━━━━━━━━━━━━━━\u001b[0m\u001b[37m\u001b[0m \u001b[1m5s\u001b[0m 7ms/step - Precision: 0.7760 - Recall: 0.9247 - loss: 0.0071 - val_Precision: 0.7576 - val_Recall: 0.8993 - val_loss: 0.0023\n",
            "Epoch 18/50\n",
            "\u001b[1m 18/691\u001b[0m \u001b[37m━━━━━━━━━━━━━━━━━━━━\u001b[0m \u001b[1m4s\u001b[0m 6ms/step - Precision: 0.8416 - Recall: 0.9210 - loss: 0.0101"
          ]
        },
        {
          "output_type": "stream",
          "name": "stderr",
          "text": [
            "/usr/local/lib/python3.11/dist-packages/keras/src/callbacks/early_stopping.py:153: UserWarning: Early stopping conditioned on metric `val_precision` which is not available. Available metrics are: Precision,Recall,loss,val_Precision,val_Recall,val_loss\n",
            "  current = self.get_monitor_value(logs)\n"
          ]
        },
        {
          "output_type": "stream",
          "name": "stdout",
          "text": [
            "\u001b[1m691/691\u001b[0m \u001b[32m━━━━━━━━━━━━━━━━━━━━\u001b[0m\u001b[37m\u001b[0m \u001b[1m5s\u001b[0m 7ms/step - Precision: 0.7728 - Recall: 0.9309 - loss: 0.0092 - val_Precision: 0.7911 - val_Recall: 0.8993 - val_loss: 0.0019\n",
            "Epoch 19/50\n",
            "\u001b[1m 19/691\u001b[0m \u001b[37m━━━━━━━━━━━━━━━━━━━━\u001b[0m \u001b[1m3s\u001b[0m 6ms/step - Precision: 0.6157 - Recall: 0.6995 - loss: 0.0156"
          ]
        },
        {
          "output_type": "stream",
          "name": "stderr",
          "text": [
            "/usr/local/lib/python3.11/dist-packages/keras/src/callbacks/early_stopping.py:153: UserWarning: Early stopping conditioned on metric `val_precision` which is not available. Available metrics are: Precision,Recall,loss,val_Precision,val_Recall,val_loss\n",
            "  current = self.get_monitor_value(logs)\n"
          ]
        },
        {
          "output_type": "stream",
          "name": "stdout",
          "text": [
            "\u001b[1m691/691\u001b[0m \u001b[32m━━━━━━━━━━━━━━━━━━━━\u001b[0m\u001b[37m\u001b[0m \u001b[1m5s\u001b[0m 7ms/step - Precision: 0.7868 - Recall: 0.9198 - loss: 0.0075 - val_Precision: 0.7442 - val_Recall: 0.9209 - val_loss: 0.0025\n",
            "Epoch 20/50\n",
            "\u001b[1m 15/691\u001b[0m \u001b[37m━━━━━━━━━━━━━━━━━━━━\u001b[0m \u001b[1m5s\u001b[0m 7ms/step - Precision: 0.7673 - Recall: 0.8944 - loss: 0.0037"
          ]
        },
        {
          "output_type": "stream",
          "name": "stderr",
          "text": [
            "/usr/local/lib/python3.11/dist-packages/keras/src/callbacks/early_stopping.py:153: UserWarning: Early stopping conditioned on metric `val_precision` which is not available. Available metrics are: Precision,Recall,loss,val_Precision,val_Recall,val_loss\n",
            "  current = self.get_monitor_value(logs)\n"
          ]
        },
        {
          "output_type": "stream",
          "name": "stdout",
          "text": [
            "\u001b[1m691/691\u001b[0m \u001b[32m━━━━━━━━━━━━━━━━━━━━\u001b[0m\u001b[37m\u001b[0m \u001b[1m5s\u001b[0m 7ms/step - Precision: 0.7583 - Recall: 0.9493 - loss: 0.0051 - val_Precision: 0.7805 - val_Recall: 0.9209 - val_loss: 0.0024\n",
            "Epoch 21/50\n",
            "\u001b[1m 19/691\u001b[0m \u001b[37m━━━━━━━━━━━━━━━━━━━━\u001b[0m \u001b[1m3s\u001b[0m 6ms/step - Precision: 0.7936 - Recall: 0.8656 - loss: 0.0147"
          ]
        },
        {
          "output_type": "stream",
          "name": "stderr",
          "text": [
            "/usr/local/lib/python3.11/dist-packages/keras/src/callbacks/early_stopping.py:153: UserWarning: Early stopping conditioned on metric `val_precision` which is not available. Available metrics are: Precision,Recall,loss,val_Precision,val_Recall,val_loss\n",
            "  current = self.get_monitor_value(logs)\n"
          ]
        },
        {
          "output_type": "stream",
          "name": "stdout",
          "text": [
            "\u001b[1m691/691\u001b[0m \u001b[32m━━━━━━━━━━━━━━━━━━━━\u001b[0m\u001b[37m\u001b[0m \u001b[1m5s\u001b[0m 7ms/step - Precision: 0.7698 - Recall: 0.9459 - loss: 0.0063 - val_Precision: 0.6717 - val_Recall: 0.9568 - val_loss: 0.0032\n",
            "Epoch 22/50\n",
            "\u001b[1m 17/691\u001b[0m \u001b[37m━━━━━━━━━━━━━━━━━━━━\u001b[0m \u001b[1m4s\u001b[0m 7ms/step - Precision: 0.8297 - Recall: 1.0000 - loss: 0.0025"
          ]
        },
        {
          "output_type": "stream",
          "name": "stderr",
          "text": [
            "/usr/local/lib/python3.11/dist-packages/keras/src/callbacks/early_stopping.py:153: UserWarning: Early stopping conditioned on metric `val_precision` which is not available. Available metrics are: Precision,Recall,loss,val_Precision,val_Recall,val_loss\n",
            "  current = self.get_monitor_value(logs)\n"
          ]
        },
        {
          "output_type": "stream",
          "name": "stdout",
          "text": [
            "\u001b[1m691/691\u001b[0m \u001b[32m━━━━━━━━━━━━━━━━━━━━\u001b[0m\u001b[37m\u001b[0m \u001b[1m5s\u001b[0m 7ms/step - Precision: 0.7335 - Recall: 0.9377 - loss: 0.0075 - val_Precision: 0.7414 - val_Recall: 0.9281 - val_loss: 0.0025\n",
            "Epoch 23/50\n",
            "\u001b[1m 18/691\u001b[0m \u001b[37m━━━━━━━━━━━━━━━━━━━━\u001b[0m \u001b[1m4s\u001b[0m 6ms/step - Precision: 0.8871 - Recall: 1.0000 - loss: 0.0024"
          ]
        },
        {
          "output_type": "stream",
          "name": "stderr",
          "text": [
            "/usr/local/lib/python3.11/dist-packages/keras/src/callbacks/early_stopping.py:153: UserWarning: Early stopping conditioned on metric `val_precision` which is not available. Available metrics are: Precision,Recall,loss,val_Precision,val_Recall,val_loss\n",
            "  current = self.get_monitor_value(logs)\n"
          ]
        },
        {
          "output_type": "stream",
          "name": "stdout",
          "text": [
            "\u001b[1m691/691\u001b[0m \u001b[32m━━━━━━━━━━━━━━━━━━━━\u001b[0m\u001b[37m\u001b[0m \u001b[1m5s\u001b[0m 7ms/step - Precision: 0.7678 - Recall: 0.9413 - loss: 0.0066 - val_Precision: 0.7158 - val_Recall: 0.9424 - val_loss: 0.0027\n",
            "Epoch 24/50\n",
            "\u001b[1m 19/691\u001b[0m \u001b[37m━━━━━━━━━━━━━━━━━━━━\u001b[0m \u001b[1m3s\u001b[0m 6ms/step - Precision: 0.4352 - Recall: 0.8946 - loss: 0.0080"
          ]
        },
        {
          "output_type": "stream",
          "name": "stderr",
          "text": [
            "/usr/local/lib/python3.11/dist-packages/keras/src/callbacks/early_stopping.py:153: UserWarning: Early stopping conditioned on metric `val_precision` which is not available. Available metrics are: Precision,Recall,loss,val_Precision,val_Recall,val_loss\n",
            "  current = self.get_monitor_value(logs)\n"
          ]
        },
        {
          "output_type": "stream",
          "name": "stdout",
          "text": [
            "\u001b[1m691/691\u001b[0m \u001b[32m━━━━━━━━━━━━━━━━━━━━\u001b[0m\u001b[37m\u001b[0m \u001b[1m5s\u001b[0m 7ms/step - Precision: 0.7410 - Recall: 0.9483 - loss: 0.0055 - val_Precision: 0.7386 - val_Recall: 0.9353 - val_loss: 0.0027\n",
            "Epoch 25/50\n",
            "\u001b[1m 18/691\u001b[0m \u001b[37m━━━━━━━━━━━━━━━━━━━━\u001b[0m \u001b[1m4s\u001b[0m 6ms/step - Precision: 0.7897 - Recall: 0.9820 - loss: 0.0033"
          ]
        },
        {
          "output_type": "stream",
          "name": "stderr",
          "text": [
            "/usr/local/lib/python3.11/dist-packages/keras/src/callbacks/early_stopping.py:153: UserWarning: Early stopping conditioned on metric `val_precision` which is not available. Available metrics are: Precision,Recall,loss,val_Precision,val_Recall,val_loss\n",
            "  current = self.get_monitor_value(logs)\n"
          ]
        },
        {
          "output_type": "stream",
          "name": "stdout",
          "text": [
            "\u001b[1m691/691\u001b[0m \u001b[32m━━━━━━━━━━━━━━━━━━━━\u001b[0m\u001b[37m\u001b[0m \u001b[1m5s\u001b[0m 7ms/step - Precision: 0.7838 - Recall: 0.9406 - loss: 0.0051 - val_Precision: 0.7318 - val_Recall: 0.9424 - val_loss: 0.0027\n",
            "Epoch 26/50\n",
            "\u001b[1m 19/691\u001b[0m \u001b[37m━━━━━━━━━━━━━━━━━━━━\u001b[0m \u001b[1m4s\u001b[0m 6ms/step - Precision: 0.8277 - Recall: 0.9907 - loss: 0.0015"
          ]
        },
        {
          "output_type": "stream",
          "name": "stderr",
          "text": [
            "/usr/local/lib/python3.11/dist-packages/keras/src/callbacks/early_stopping.py:153: UserWarning: Early stopping conditioned on metric `val_precision` which is not available. Available metrics are: Precision,Recall,loss,val_Precision,val_Recall,val_loss\n",
            "  current = self.get_monitor_value(logs)\n"
          ]
        },
        {
          "output_type": "stream",
          "name": "stdout",
          "text": [
            "\u001b[1m691/691\u001b[0m \u001b[32m━━━━━━━━━━━━━━━━━━━━\u001b[0m\u001b[37m\u001b[0m \u001b[1m5s\u001b[0m 7ms/step - Precision: 0.7487 - Recall: 0.9543 - loss: 0.0060 - val_Precision: 0.7560 - val_Recall: 0.9137 - val_loss: 0.0025\n",
            "Epoch 27/50\n",
            "\u001b[1m 19/691\u001b[0m \u001b[37m━━━━━━━━━━━━━━━━━━━━\u001b[0m \u001b[1m4s\u001b[0m 6ms/step - Precision: 0.7564 - Recall: 1.0000 - loss: 0.0018"
          ]
        },
        {
          "output_type": "stream",
          "name": "stderr",
          "text": [
            "/usr/local/lib/python3.11/dist-packages/keras/src/callbacks/early_stopping.py:153: UserWarning: Early stopping conditioned on metric `val_precision` which is not available. Available metrics are: Precision,Recall,loss,val_Precision,val_Recall,val_loss\n",
            "  current = self.get_monitor_value(logs)\n"
          ]
        },
        {
          "output_type": "stream",
          "name": "stdout",
          "text": [
            "\u001b[1m691/691\u001b[0m \u001b[32m━━━━━━━━━━━━━━━━━━━━\u001b[0m\u001b[37m\u001b[0m \u001b[1m5s\u001b[0m 7ms/step - Precision: 0.7579 - Recall: 0.9512 - loss: 0.0060 - val_Precision: 0.7127 - val_Recall: 0.9281 - val_loss: 0.0027\n",
            "Epoch 28/50\n",
            "\u001b[1m 18/691\u001b[0m \u001b[37m━━━━━━━━━━━━━━━━━━━━\u001b[0m \u001b[1m4s\u001b[0m 6ms/step - Precision: 0.7456 - Recall: 0.9090 - loss: 0.0030"
          ]
        },
        {
          "output_type": "stream",
          "name": "stderr",
          "text": [
            "/usr/local/lib/python3.11/dist-packages/keras/src/callbacks/early_stopping.py:153: UserWarning: Early stopping conditioned on metric `val_precision` which is not available. Available metrics are: Precision,Recall,loss,val_Precision,val_Recall,val_loss\n",
            "  current = self.get_monitor_value(logs)\n"
          ]
        },
        {
          "output_type": "stream",
          "name": "stdout",
          "text": [
            "\u001b[1m691/691\u001b[0m \u001b[32m━━━━━━━━━━━━━━━━━━━━\u001b[0m\u001b[37m\u001b[0m \u001b[1m5s\u001b[0m 7ms/step - Precision: 0.7776 - Recall: 0.9272 - loss: 0.0054 - val_Precision: 0.7318 - val_Recall: 0.9424 - val_loss: 0.0027\n",
            "Epoch 29/50\n",
            "\u001b[1m 17/691\u001b[0m \u001b[37m━━━━━━━━━━━━━━━━━━━━\u001b[0m \u001b[1m4s\u001b[0m 7ms/step - Precision: 0.3033 - Recall: 0.8235 - loss: 0.0025"
          ]
        },
        {
          "output_type": "stream",
          "name": "stderr",
          "text": [
            "/usr/local/lib/python3.11/dist-packages/keras/src/callbacks/early_stopping.py:153: UserWarning: Early stopping conditioned on metric `val_precision` which is not available. Available metrics are: Precision,Recall,loss,val_Precision,val_Recall,val_loss\n",
            "  current = self.get_monitor_value(logs)\n"
          ]
        },
        {
          "output_type": "stream",
          "name": "stdout",
          "text": [
            "\u001b[1m691/691\u001b[0m \u001b[32m━━━━━━━━━━━━━━━━━━━━\u001b[0m\u001b[37m\u001b[0m \u001b[1m5s\u001b[0m 7ms/step - Precision: 0.7811 - Recall: 0.9682 - loss: 0.0036 - val_Precision: 0.7975 - val_Recall: 0.9065 - val_loss: 0.0019\n",
            "Epoch 30/50\n",
            "\u001b[1m 19/691\u001b[0m \u001b[37m━━━━━━━━━━━━━━━━━━━━\u001b[0m \u001b[1m3s\u001b[0m 6ms/step - Precision: 0.6598 - Recall: 0.7682 - loss: 0.0056"
          ]
        },
        {
          "output_type": "stream",
          "name": "stderr",
          "text": [
            "/usr/local/lib/python3.11/dist-packages/keras/src/callbacks/early_stopping.py:153: UserWarning: Early stopping conditioned on metric `val_precision` which is not available. Available metrics are: Precision,Recall,loss,val_Precision,val_Recall,val_loss\n",
            "  current = self.get_monitor_value(logs)\n"
          ]
        },
        {
          "output_type": "stream",
          "name": "stdout",
          "text": [
            "\u001b[1m691/691\u001b[0m \u001b[32m━━━━━━━━━━━━━━━━━━━━\u001b[0m\u001b[37m\u001b[0m \u001b[1m5s\u001b[0m 7ms/step - Precision: 0.7826 - Recall: 0.9352 - loss: 0.0055 - val_Precision: 0.7360 - val_Recall: 0.9424 - val_loss: 0.0026\n",
            "Epoch 31/50\n",
            "\u001b[1m 19/691\u001b[0m \u001b[37m━━━━━━━━━━━━━━━━━━━━\u001b[0m \u001b[1m3s\u001b[0m 6ms/step - Precision: 0.8211 - Recall: 0.9024 - loss: 0.0119"
          ]
        },
        {
          "output_type": "stream",
          "name": "stderr",
          "text": [
            "/usr/local/lib/python3.11/dist-packages/keras/src/callbacks/early_stopping.py:153: UserWarning: Early stopping conditioned on metric `val_precision` which is not available. Available metrics are: Precision,Recall,loss,val_Precision,val_Recall,val_loss\n",
            "  current = self.get_monitor_value(logs)\n"
          ]
        },
        {
          "output_type": "stream",
          "name": "stdout",
          "text": [
            "\u001b[1m691/691\u001b[0m \u001b[32m━━━━━━━━━━━━━━━━━━━━\u001b[0m\u001b[37m\u001b[0m \u001b[1m5s\u001b[0m 7ms/step - Precision: 0.7678 - Recall: 0.9288 - loss: 0.0067 - val_Precision: 0.7805 - val_Recall: 0.9209 - val_loss: 0.0022\n",
            "Epoch 32/50\n",
            "\u001b[1m 16/691\u001b[0m \u001b[37m━━━━━━━━━━━━━━━━━━━━\u001b[0m \u001b[1m4s\u001b[0m 7ms/step - Precision: 0.5570 - Recall: 0.9375 - loss: 0.0018"
          ]
        },
        {
          "output_type": "stream",
          "name": "stderr",
          "text": [
            "/usr/local/lib/python3.11/dist-packages/keras/src/callbacks/early_stopping.py:153: UserWarning: Early stopping conditioned on metric `val_precision` which is not available. Available metrics are: Precision,Recall,loss,val_Precision,val_Recall,val_loss\n",
            "  current = self.get_monitor_value(logs)\n"
          ]
        },
        {
          "output_type": "stream",
          "name": "stdout",
          "text": [
            "\u001b[1m691/691\u001b[0m \u001b[32m━━━━━━━━━━━━━━━━━━━━\u001b[0m\u001b[37m\u001b[0m \u001b[1m5s\u001b[0m 7ms/step - Precision: 0.7899 - Recall: 0.9580 - loss: 0.0052 - val_Precision: 0.7500 - val_Recall: 0.9281 - val_loss: 0.0021\n",
            "Epoch 33/50\n",
            "\u001b[1m 18/691\u001b[0m \u001b[37m━━━━━━━━━━━━━━━━━━━━\u001b[0m \u001b[1m4s\u001b[0m 6ms/step - Precision: 0.6955 - Recall: 1.0000 - loss: 0.0017"
          ]
        },
        {
          "output_type": "stream",
          "name": "stderr",
          "text": [
            "/usr/local/lib/python3.11/dist-packages/keras/src/callbacks/early_stopping.py:153: UserWarning: Early stopping conditioned on metric `val_precision` which is not available. Available metrics are: Precision,Recall,loss,val_Precision,val_Recall,val_loss\n",
            "  current = self.get_monitor_value(logs)\n"
          ]
        },
        {
          "output_type": "stream",
          "name": "stdout",
          "text": [
            "\u001b[1m691/691\u001b[0m \u001b[32m━━━━━━━━━━━━━━━━━━━━\u001b[0m\u001b[37m\u001b[0m \u001b[1m5s\u001b[0m 7ms/step - Precision: 0.7686 - Recall: 0.9410 - loss: 0.0051 - val_Precision: 0.5801 - val_Recall: 0.9640 - val_loss: 0.0039\n",
            "Epoch 34/50\n",
            "\u001b[1m 19/691\u001b[0m \u001b[37m━━━━━━━━━━━━━━━━━━━━\u001b[0m \u001b[1m4s\u001b[0m 6ms/step - Precision: 0.6217 - Recall: 0.8947 - loss: 0.0049"
          ]
        },
        {
          "output_type": "stream",
          "name": "stderr",
          "text": [
            "/usr/local/lib/python3.11/dist-packages/keras/src/callbacks/early_stopping.py:153: UserWarning: Early stopping conditioned on metric `val_precision` which is not available. Available metrics are: Precision,Recall,loss,val_Precision,val_Recall,val_loss\n",
            "  current = self.get_monitor_value(logs)\n"
          ]
        },
        {
          "output_type": "stream",
          "name": "stdout",
          "text": [
            "\u001b[1m691/691\u001b[0m \u001b[32m━━━━━━━━━━━━━━━━━━━━\u001b[0m\u001b[37m\u001b[0m \u001b[1m5s\u001b[0m 7ms/step - Precision: 0.7563 - Recall: 0.9629 - loss: 0.0047 - val_Precision: 0.7371 - val_Recall: 0.9281 - val_loss: 0.0023\n",
            "Epoch 35/50\n",
            "\u001b[1m 19/691\u001b[0m \u001b[37m━━━━━━━━━━━━━━━━━━━━\u001b[0m \u001b[1m3s\u001b[0m 6ms/step - Precision: 0.9227 - Recall: 0.9765 - loss: 0.0016    "
          ]
        },
        {
          "output_type": "stream",
          "name": "stderr",
          "text": [
            "/usr/local/lib/python3.11/dist-packages/keras/src/callbacks/early_stopping.py:153: UserWarning: Early stopping conditioned on metric `val_precision` which is not available. Available metrics are: Precision,Recall,loss,val_Precision,val_Recall,val_loss\n",
            "  current = self.get_monitor_value(logs)\n"
          ]
        },
        {
          "output_type": "stream",
          "name": "stdout",
          "text": [
            "\u001b[1m691/691\u001b[0m \u001b[32m━━━━━━━━━━━━━━━━━━━━\u001b[0m\u001b[37m\u001b[0m \u001b[1m5s\u001b[0m 7ms/step - Precision: 0.7568 - Recall: 0.9346 - loss: 0.0066 - val_Precision: 0.7711 - val_Recall: 0.9209 - val_loss: 0.0020\n",
            "Epoch 36/50\n",
            "\u001b[1m 19/691\u001b[0m \u001b[37m━━━━━━━━━━━━━━━━━━━━\u001b[0m \u001b[1m3s\u001b[0m 6ms/step - Precision: 0.8722 - Recall: 0.9969 - loss: 0.0019"
          ]
        },
        {
          "output_type": "stream",
          "name": "stderr",
          "text": [
            "/usr/local/lib/python3.11/dist-packages/keras/src/callbacks/early_stopping.py:153: UserWarning: Early stopping conditioned on metric `val_precision` which is not available. Available metrics are: Precision,Recall,loss,val_Precision,val_Recall,val_loss\n",
            "  current = self.get_monitor_value(logs)\n"
          ]
        },
        {
          "output_type": "stream",
          "name": "stdout",
          "text": [
            "\u001b[1m691/691\u001b[0m \u001b[32m━━━━━━━━━━━━━━━━━━━━\u001b[0m\u001b[37m\u001b[0m \u001b[1m5s\u001b[0m 7ms/step - Precision: 0.7690 - Recall: 0.9468 - loss: 0.0057 - val_Precision: 0.7485 - val_Recall: 0.9209 - val_loss: 0.0022\n",
            "Epoch 37/50\n",
            "\u001b[1m 18/691\u001b[0m \u001b[37m━━━━━━━━━━━━━━━━━━━━\u001b[0m \u001b[1m4s\u001b[0m 6ms/step - Precision: 0.9971 - Recall: 1.0000 - loss: 0.0016"
          ]
        },
        {
          "output_type": "stream",
          "name": "stderr",
          "text": [
            "/usr/local/lib/python3.11/dist-packages/keras/src/callbacks/early_stopping.py:153: UserWarning: Early stopping conditioned on metric `val_precision` which is not available. Available metrics are: Precision,Recall,loss,val_Precision,val_Recall,val_loss\n",
            "  current = self.get_monitor_value(logs)\n"
          ]
        },
        {
          "output_type": "stream",
          "name": "stdout",
          "text": [
            "\u001b[1m691/691\u001b[0m \u001b[32m━━━━━━━━━━━━━━━━━━━━\u001b[0m\u001b[37m\u001b[0m \u001b[1m5s\u001b[0m 7ms/step - Precision: 0.7922 - Recall: 0.9558 - loss: 0.0059 - val_Precision: 0.6121 - val_Recall: 0.9424 - val_loss: 0.0038\n",
            "Epoch 38/50\n",
            "\u001b[1m 18/691\u001b[0m \u001b[37m━━━━━━━━━━━━━━━━━━━━\u001b[0m \u001b[1m4s\u001b[0m 6ms/step - Precision: 0.7177 - Recall: 0.9585 - loss: 0.0077"
          ]
        },
        {
          "output_type": "stream",
          "name": "stderr",
          "text": [
            "/usr/local/lib/python3.11/dist-packages/keras/src/callbacks/early_stopping.py:153: UserWarning: Early stopping conditioned on metric `val_precision` which is not available. Available metrics are: Precision,Recall,loss,val_Precision,val_Recall,val_loss\n",
            "  current = self.get_monitor_value(logs)\n"
          ]
        },
        {
          "output_type": "stream",
          "name": "stdout",
          "text": [
            "\u001b[1m691/691\u001b[0m \u001b[32m━━━━━━━━━━━━━━━━━━━━\u001b[0m\u001b[37m\u001b[0m \u001b[1m5s\u001b[0m 7ms/step - Precision: 0.7790 - Recall: 0.9581 - loss: 0.0045 - val_Precision: 0.7399 - val_Recall: 0.9209 - val_loss: 0.0024\n",
            "Epoch 39/50\n",
            "\u001b[1m 19/691\u001b[0m \u001b[37m━━━━━━━━━━━━━━━━━━━━\u001b[0m \u001b[1m4s\u001b[0m 6ms/step - Precision: 0.9474 - Recall: 0.9012 - loss: 0.0015    "
          ]
        },
        {
          "output_type": "stream",
          "name": "stderr",
          "text": [
            "/usr/local/lib/python3.11/dist-packages/keras/src/callbacks/early_stopping.py:153: UserWarning: Early stopping conditioned on metric `val_precision` which is not available. Available metrics are: Precision,Recall,loss,val_Precision,val_Recall,val_loss\n",
            "  current = self.get_monitor_value(logs)\n"
          ]
        },
        {
          "output_type": "stream",
          "name": "stdout",
          "text": [
            "\u001b[1m691/691\u001b[0m \u001b[32m━━━━━━━━━━━━━━━━━━━━\u001b[0m\u001b[37m\u001b[0m \u001b[1m5s\u001b[0m 7ms/step - Precision: 0.7944 - Recall: 0.9520 - loss: 0.0042 - val_Precision: 0.7515 - val_Recall: 0.9137 - val_loss: 0.0023\n",
            "Epoch 40/50\n",
            "\u001b[1m 19/691\u001b[0m \u001b[37m━━━━━━━━━━━━━━━━━━━━\u001b[0m \u001b[1m4s\u001b[0m 6ms/step - Precision: 0.8855 - Recall: 0.9084 - loss: 0.0048"
          ]
        },
        {
          "output_type": "stream",
          "name": "stderr",
          "text": [
            "/usr/local/lib/python3.11/dist-packages/keras/src/callbacks/early_stopping.py:153: UserWarning: Early stopping conditioned on metric `val_precision` which is not available. Available metrics are: Precision,Recall,loss,val_Precision,val_Recall,val_loss\n",
            "  current = self.get_monitor_value(logs)\n"
          ]
        },
        {
          "output_type": "stream",
          "name": "stdout",
          "text": [
            "\u001b[1m691/691\u001b[0m \u001b[32m━━━━━━━━━━━━━━━━━━━━\u001b[0m\u001b[37m\u001b[0m \u001b[1m5s\u001b[0m 7ms/step - Precision: 0.7731 - Recall: 0.9606 - loss: 0.0049 - val_Precision: 0.7222 - val_Recall: 0.9353 - val_loss: 0.0027\n",
            "Epoch 41/50\n",
            "\u001b[1m 19/691\u001b[0m \u001b[37m━━━━━━━━━━━━━━━━━━━━\u001b[0m \u001b[1m4s\u001b[0m 6ms/step - Precision: 0.8190 - Recall: 0.8540 - loss: 0.0058"
          ]
        },
        {
          "output_type": "stream",
          "name": "stderr",
          "text": [
            "/usr/local/lib/python3.11/dist-packages/keras/src/callbacks/early_stopping.py:153: UserWarning: Early stopping conditioned on metric `val_precision` which is not available. Available metrics are: Precision,Recall,loss,val_Precision,val_Recall,val_loss\n",
            "  current = self.get_monitor_value(logs)\n"
          ]
        },
        {
          "output_type": "stream",
          "name": "stdout",
          "text": [
            "\u001b[1m691/691\u001b[0m \u001b[32m━━━━━━━━━━━━━━━━━━━━\u001b[0m\u001b[37m\u001b[0m \u001b[1m5s\u001b[0m 7ms/step - Precision: 0.7415 - Recall: 0.9482 - loss: 0.0043 - val_Precision: 0.7840 - val_Recall: 0.9137 - val_loss: 0.0019\n",
            "Epoch 42/50\n",
            "\u001b[1m 19/691\u001b[0m \u001b[37m━━━━━━━━━━━━━━━━━━━━\u001b[0m \u001b[1m4s\u001b[0m 6ms/step - Precision: 0.9654 - Recall: 0.8550 - loss: 0.0069"
          ]
        },
        {
          "output_type": "stream",
          "name": "stderr",
          "text": [
            "/usr/local/lib/python3.11/dist-packages/keras/src/callbacks/early_stopping.py:153: UserWarning: Early stopping conditioned on metric `val_precision` which is not available. Available metrics are: Precision,Recall,loss,val_Precision,val_Recall,val_loss\n",
            "  current = self.get_monitor_value(logs)\n"
          ]
        },
        {
          "output_type": "stream",
          "name": "stdout",
          "text": [
            "\u001b[1m691/691\u001b[0m \u001b[32m━━━━━━━━━━━━━━━━━━━━\u001b[0m\u001b[37m\u001b[0m \u001b[1m5s\u001b[0m 7ms/step - Precision: 0.7805 - Recall: 0.9388 - loss: 0.0056 - val_Precision: 0.7457 - val_Recall: 0.9281 - val_loss: 0.0023\n",
            "Epoch 43/50\n",
            "\u001b[1m 18/691\u001b[0m \u001b[37m━━━━━━━━━━━━━━━━━━━━\u001b[0m \u001b[1m4s\u001b[0m 6ms/step - Precision: 0.5249 - Recall: 0.9444 - loss: 0.0051"
          ]
        },
        {
          "output_type": "stream",
          "name": "stderr",
          "text": [
            "/usr/local/lib/python3.11/dist-packages/keras/src/callbacks/early_stopping.py:153: UserWarning: Early stopping conditioned on metric `val_precision` which is not available. Available metrics are: Precision,Recall,loss,val_Precision,val_Recall,val_loss\n",
            "  current = self.get_monitor_value(logs)\n"
          ]
        },
        {
          "output_type": "stream",
          "name": "stdout",
          "text": [
            "\u001b[1m691/691\u001b[0m \u001b[32m━━━━━━━━━━━━━━━━━━━━\u001b[0m\u001b[37m\u001b[0m \u001b[1m5s\u001b[0m 7ms/step - Precision: 0.6412 - Recall: 0.9517 - loss: 0.0068 - val_Precision: 0.7485 - val_Recall: 0.9209 - val_loss: 0.0023\n",
            "Epoch 44/50\n",
            "\u001b[1m 19/691\u001b[0m \u001b[37m━━━━━━━━━━━━━━━━━━━━\u001b[0m \u001b[1m4s\u001b[0m 6ms/step - Precision: 0.4736 - Recall: 1.0000 - loss: 0.0039"
          ]
        },
        {
          "output_type": "stream",
          "name": "stderr",
          "text": [
            "/usr/local/lib/python3.11/dist-packages/keras/src/callbacks/early_stopping.py:153: UserWarning: Early stopping conditioned on metric `val_precision` which is not available. Available metrics are: Precision,Recall,loss,val_Precision,val_Recall,val_loss\n",
            "  current = self.get_monitor_value(logs)\n"
          ]
        },
        {
          "output_type": "stream",
          "name": "stdout",
          "text": [
            "\u001b[1m691/691\u001b[0m \u001b[32m━━━━━━━━━━━━━━━━━━━━\u001b[0m\u001b[37m\u001b[0m \u001b[1m5s\u001b[0m 7ms/step - Precision: 0.7767 - Recall: 0.9723 - loss: 0.0043 - val_Precision: 0.5714 - val_Recall: 0.9496 - val_loss: 0.0048\n",
            "Epoch 45/50\n",
            "\u001b[1m 19/691\u001b[0m \u001b[37m━━━━━━━━━━━━━━━━━━━━\u001b[0m \u001b[1m4s\u001b[0m 6ms/step - Precision: 0.6663 - Recall: 0.9318 - loss: 0.0046"
          ]
        },
        {
          "output_type": "stream",
          "name": "stderr",
          "text": [
            "/usr/local/lib/python3.11/dist-packages/keras/src/callbacks/early_stopping.py:153: UserWarning: Early stopping conditioned on metric `val_precision` which is not available. Available metrics are: Precision,Recall,loss,val_Precision,val_Recall,val_loss\n",
            "  current = self.get_monitor_value(logs)\n"
          ]
        },
        {
          "output_type": "stream",
          "name": "stdout",
          "text": [
            "\u001b[1m691/691\u001b[0m \u001b[32m━━━━━━━━━━━━━━━━━━━━\u001b[0m\u001b[37m\u001b[0m \u001b[1m5s\u001b[0m 7ms/step - Precision: 0.7759 - Recall: 0.9481 - loss: 0.0052 - val_Precision: 0.7330 - val_Recall: 0.9281 - val_loss: 0.0024\n",
            "Epoch 46/50\n",
            "\u001b[1m 19/691\u001b[0m \u001b[37m━━━━━━━━━━━━━━━━━━━━\u001b[0m \u001b[1m3s\u001b[0m 6ms/step - Precision: 0.8306 - Recall: 0.9525 - loss: 0.0028"
          ]
        },
        {
          "output_type": "stream",
          "name": "stderr",
          "text": [
            "/usr/local/lib/python3.11/dist-packages/keras/src/callbacks/early_stopping.py:153: UserWarning: Early stopping conditioned on metric `val_precision` which is not available. Available metrics are: Precision,Recall,loss,val_Precision,val_Recall,val_loss\n",
            "  current = self.get_monitor_value(logs)\n"
          ]
        },
        {
          "output_type": "stream",
          "name": "stdout",
          "text": [
            "\u001b[1m691/691\u001b[0m \u001b[32m━━━━━━━━━━━━━━━━━━━━\u001b[0m\u001b[37m\u001b[0m \u001b[1m5s\u001b[0m 7ms/step - Precision: 0.7850 - Recall: 0.9570 - loss: 0.0037 - val_Precision: 0.7314 - val_Recall: 0.9209 - val_loss: 0.0022\n",
            "Epoch 47/50\n",
            "\u001b[1m 19/691\u001b[0m \u001b[37m━━━━━━━━━━━━━━━━━━━━\u001b[0m \u001b[1m3s\u001b[0m 6ms/step - Precision: 0.8194 - Recall: 0.8947 - loss: 0.0013"
          ]
        },
        {
          "output_type": "stream",
          "name": "stderr",
          "text": [
            "/usr/local/lib/python3.11/dist-packages/keras/src/callbacks/early_stopping.py:153: UserWarning: Early stopping conditioned on metric `val_precision` which is not available. Available metrics are: Precision,Recall,loss,val_Precision,val_Recall,val_loss\n",
            "  current = self.get_monitor_value(logs)\n"
          ]
        },
        {
          "output_type": "stream",
          "name": "stdout",
          "text": [
            "\u001b[1m691/691\u001b[0m \u001b[32m━━━━━━━━━━━━━━━━━━━━\u001b[0m\u001b[37m\u001b[0m \u001b[1m5s\u001b[0m 7ms/step - Precision: 0.7904 - Recall: 0.9612 - loss: 0.0031 - val_Precision: 0.7529 - val_Recall: 0.9209 - val_loss: 0.0023\n",
            "Epoch 48/50\n",
            "\u001b[1m 17/691\u001b[0m \u001b[37m━━━━━━━━━━━━━━━━━━━━\u001b[0m \u001b[1m4s\u001b[0m 6ms/step - Precision: 0.2182 - Recall: 0.7647 - loss: 0.0029"
          ]
        },
        {
          "output_type": "stream",
          "name": "stderr",
          "text": [
            "/usr/local/lib/python3.11/dist-packages/keras/src/callbacks/early_stopping.py:153: UserWarning: Early stopping conditioned on metric `val_precision` which is not available. Available metrics are: Precision,Recall,loss,val_Precision,val_Recall,val_loss\n",
            "  current = self.get_monitor_value(logs)\n"
          ]
        },
        {
          "output_type": "stream",
          "name": "stdout",
          "text": [
            "\u001b[1m691/691\u001b[0m \u001b[32m━━━━━━━━━━━━━━━━━━━━\u001b[0m\u001b[37m\u001b[0m \u001b[1m5s\u001b[0m 7ms/step - Precision: 0.7252 - Recall: 0.9589 - loss: 0.0035 - val_Precision: 0.7151 - val_Recall: 0.9209 - val_loss: 0.0027\n",
            "Epoch 49/50\n",
            "\u001b[1m 19/691\u001b[0m \u001b[37m━━━━━━━━━━━━━━━━━━━━\u001b[0m \u001b[1m4s\u001b[0m 6ms/step - Precision: 0.9063 - Recall: 1.0000 - loss: 8.8099e-04"
          ]
        },
        {
          "output_type": "stream",
          "name": "stderr",
          "text": [
            "/usr/local/lib/python3.11/dist-packages/keras/src/callbacks/early_stopping.py:153: UserWarning: Early stopping conditioned on metric `val_precision` which is not available. Available metrics are: Precision,Recall,loss,val_Precision,val_Recall,val_loss\n",
            "  current = self.get_monitor_value(logs)\n"
          ]
        },
        {
          "output_type": "stream",
          "name": "stdout",
          "text": [
            "\u001b[1m691/691\u001b[0m \u001b[32m━━━━━━━━━━━━━━━━━━━━\u001b[0m\u001b[37m\u001b[0m \u001b[1m5s\u001b[0m 7ms/step - Precision: 0.7922 - Recall: 0.9730 - loss: 0.0034 - val_Precision: 0.7826 - val_Recall: 0.9065 - val_loss: 0.0020\n",
            "Epoch 50/50\n",
            "\u001b[1m 19/691\u001b[0m \u001b[37m━━━━━━━━━━━━━━━━━━━━\u001b[0m \u001b[1m4s\u001b[0m 6ms/step - Precision: 0.7925 - Recall: 0.8129 - loss: 0.0026"
          ]
        },
        {
          "output_type": "stream",
          "name": "stderr",
          "text": [
            "/usr/local/lib/python3.11/dist-packages/keras/src/callbacks/early_stopping.py:153: UserWarning: Early stopping conditioned on metric `val_precision` which is not available. Available metrics are: Precision,Recall,loss,val_Precision,val_Recall,val_loss\n",
            "  current = self.get_monitor_value(logs)\n"
          ]
        },
        {
          "output_type": "stream",
          "name": "stdout",
          "text": [
            "\u001b[1m691/691\u001b[0m \u001b[32m━━━━━━━━━━━━━━━━━━━━\u001b[0m\u001b[37m\u001b[0m \u001b[1m5s\u001b[0m 7ms/step - Precision: 0.7900 - Recall: 0.9441 - loss: 0.0041 - val_Precision: 0.7500 - val_Recall: 0.9281 - val_loss: 0.0025\n"
          ]
        },
        {
          "output_type": "stream",
          "name": "stderr",
          "text": [
            "/usr/local/lib/python3.11/dist-packages/keras/src/callbacks/early_stopping.py:153: UserWarning: Early stopping conditioned on metric `val_precision` which is not available. Available metrics are: Precision,Recall,loss,val_Precision,val_Recall,val_loss\n",
            "  current = self.get_monitor_value(logs)\n"
          ]
        },
        {
          "output_type": "stream",
          "name": "stdout",
          "text": [
            "\u001b[1m3451/3451\u001b[0m \u001b[32m━━━━━━━━━━━━━━━━━━━━\u001b[0m\u001b[37m\u001b[0m \u001b[1m7s\u001b[0m 2ms/step\n"
          ]
        },
        {
          "output_type": "display_data",
          "data": {
            "text/plain": [
              "<Figure size 1500x500 with 2 Axes>"
            ],
            "image/png": "[encoded data removed]"
          },
          "metadata": {}
        },
        {
          "output_type": "display_data",
          "data": {
            "text/plain": [
              "<Figure size 640x480 with 1 Axes>"
            ],
            "image/png": "[encoded data removed]"
          },
          "metadata": {}
        },
        {
          "output_type": "display_data",
          "data": {
            "text/plain": [
              "<IPython.core.display.Markdown object>"
            ],
            "text/markdown": "## Deforestation Detection Model Performance"
          },
          "metadata": {}
        },
        {
          "output_type": "stream",
          "name": "stderr",
          "text": [
            "WARNING:absl:You are saving your model as an HDF5 file via `model.save()` or `keras.saving.save_model(model)`. This file format is considered legacy. We recommend using instead the native Keras format, e.g. `model.save('my_model.keras')` or `keras.saving.save_model(model, 'my_model.keras')`. \n"
          ]
        },
        {
          "output_type": "stream",
          "name": "stdout",
          "text": [
            "========================================\n",
            "Training Time: 324.35 seconds\n",
            "Peak RAM Usage: 19.37 GB\n",
            "CPU Usage: 7.5% (avg), 12.1% (max)\n",
            "\n",
            "PR-AUC: 0.9255 (Critical for Imbalance)\n",
            "Inference Speed: 0.0784 ms/sample\n",
            "\n",
            "Classification Report:\n",
            "                  precision    recall  f1-score   support\n",
            "\n",
            "No Deforestation       1.00      1.00      1.00    110239\n",
            "   Deforestation       0.94      0.85      0.89       171\n",
            "\n",
            "        accuracy                           1.00    110410\n",
            "       macro avg       0.97      0.92      0.95    110410\n",
            "    weighted avg       1.00      1.00      1.00    110410\n",
            "\n",
            "\n",
            "Results saved to:\n",
            "- Model: /content/drive/MyDrive/MasterThesis/04_results/lstm_improved_20250626_012524.h5\n",
            "- Metrics: /content/drive/MyDrive/MasterThesis/04_results/lstm_improved_metrics_20250626_012524.json\n",
            "- Plots: /content/drive/MyDrive/MasterThesis/04_results/lstm_improved_plots_20250626_012524.png\n"
          ]
        },
        {
          "output_type": "display_data",
          "data": {
            "text/plain": [
              "<Figure size 640x480 with 0 Axes>"
            ]
          },
          "metadata": {}
        }
      ]
    },
    {
      "cell_type": "code",
      "source": [
        "# Imports\n",
        "import numpy as np\n",
        "import tensorflow as tf\n",
        "from tensorflow.keras.models import Sequential\n",
        "from tensorflow.keras.layers import Bidirectional\n",
        "from tensorflow.keras.layers import LSTM, Dense, Dropout\n",
        "from tensorflow.keras.callbacks import EarlyStopping\n",
        "from tensorflow.keras.optimizers import Adam\n",
        "from sklearn.metrics import (accuracy_score, f1_score, recall_score,\n",
        "                           precision_score, confusion_matrix,\n",
        "                           precision_recall_curve, auc, classification_report,\n",
        "                           roc_curve, RocCurveDisplay)\n",
        "from sklearn.model_selection import train_test_split\n",
        "from sklearn.preprocessing import StandardScaler\n",
        "import pandas as pd\n",
        "import os\n",
        "import json\n",
        "from datetime import datetime\n",
        "import time\n",
        "import psutil\n",
        "import matplotlib.pyplot as plt\n",
        "import seaborn as sns\n",
        "from IPython.display import display, Markdown\n",
        "\n",
        "# Mount Google Drive\n",
        "from google.colab import drive\n",
        "drive.mount('/content/drive')\n",
        "\n",
        "# Initialize performance tracking\n",
        "class PerformanceTracker:\n",
        "    def __init__(self):\n",
        "        self.start_time = None\n",
        "        self.peak_ram = 0\n",
        "        self.cpu_usage = []\n",
        "\n",
        "    def start(self):\n",
        "        self.start_time = time.time()\n",
        "        self.peak_ram = psutil.virtual_memory().used / (1024**3)  # GB\n",
        "        self.cpu_usage.append(psutil.cpu_percent())\n",
        "\n",
        "    def update(self):\n",
        "        current_ram = psutil.virtual_memory().used / (1024**3)\n",
        "        if current_ram > self.peak_ram:\n",
        "            self.peak_ram = current_ram\n",
        "        self.cpu_usage.append(psutil.cpu_percent())\n",
        "\n",
        "    def get_stats(self):\n",
        "        return {\n",
        "            'training_time': time.time() - self.start_time,\n",
        "            'peak_ram_gb': self.peak_ram,\n",
        "            'avg_cpu_usage': np.mean(self.cpu_usage),\n",
        "            'max_cpu_usage': np.max(self.cpu_usage)\n",
        "        }\n",
        "\n",
        "# Load and preprocess data\n",
        "def load_and_preprocess():\n",
        "    tracker.update()\n",
        "    X = np.load(\"/content/drive/MyDrive/MasterThesis/02_preprocessed_data/X_time_series_final.npz\")[\"X\"]\n",
        "    y = np.load(\"/content/drive/MyDrive/MasterThesis/02_preprocessed_data/y_labels_final.npz\")[\"y\"]\n",
        "\n",
        "    valid_mask = (y == 0) | (y == 1)\n",
        "    X = X[valid_mask]\n",
        "    y = y[valid_mask]\n",
        "    X = np.nan_to_num(X)\n",
        "\n",
        "    n_timesteps, n_features = X.shape[1], X.shape[2]\n",
        "    scaler = StandardScaler()\n",
        "    X_scaled = scaler.fit_transform(X.reshape(-1, n_features)).reshape(-1, n_timesteps, n_features)\n",
        "\n",
        "    return train_test_split(X_scaled, y, test_size=0.2, stratify=y, random_state=42)\n",
        "\n",
        "# Add temporal features\n",
        "def add_temporal_features(X):\n",
        "    n_samples, n_timesteps, n_features = X.shape\n",
        "    X_new = np.zeros((n_samples, n_timesteps, n_features + 2))\n",
        "\n",
        "    X_new[:, :, :n_features] = X\n",
        "\n",
        "    # Rolling average\n",
        "    for i in range(n_samples):\n",
        "        rolling_avg = np.convolve(X[i, :, :].mean(axis=1), np.ones(3)/3, mode='same')\n",
        "        X_new[i, :, n_features] = rolling_avg\n",
        "\n",
        "    # Slope\n",
        "    for i in range(n_samples):\n",
        "        x = np.arange(n_timesteps)\n",
        "        slope = np.polyfit(x, X[i, :, :].mean(axis=1), 1)[0]\n",
        "        X_new[i, :, -1] = slope\n",
        "\n",
        "    return X_new\n",
        "\n",
        "\n",
        "# Build model\n",
        "def build_model(input_shape):\n",
        "    model = Sequential([\n",
        "        Bidirectional(LSTM(32)),  # Added missing parenthesis here\n",
        "        Dropout(0.5),\n",
        "        Dense(1, activation='sigmoid')\n",
        "    ])\n",
        "\n",
        "    model.compile(\n",
        "        optimizer=Adam(learning_rate=0.001),\n",
        "        loss='binary_crossentropy',\n",
        "        metrics=['Precision', 'Recall', tf.keras.metrics.AUC(name='pr_auc', curve='PR')]\n",
        "    )\n",
        "    return model\n",
        "\n",
        "\n",
        "# Evaluate model with plots\n",
        "def evaluate_model_with_plots(model, X_test, y_test):\n",
        "    start_time = time.time()\n",
        "    y_pred_prob = model.predict(X_test).flatten()\n",
        "    inference_speed = (time.time() - start_time) / len(X_test) * 1000  # ms/sample\n",
        "\n",
        "    # Precision-Recall Curve\n",
        "    precision, recall, thresholds = precision_recall_curve(y_test, y_pred_prob)\n",
        "    pr_auc = auc(recall, precision)\n",
        "\n",
        "    # ROC Curve\n",
        "    fpr, tpr, _ = roc_curve(y_test, y_pred_prob)\n",
        "    roc_auc = auc(fpr, tpr)\n",
        "\n",
        "    # Find optimal threshold\n",
        "    f1_scores = 2 * (precision * recall) / (precision + recall + 1e-6)\n",
        "    best_idx = np.argmax(f1_scores)\n",
        "    best_threshold = thresholds[best_idx]\n",
        "    y_pred = (y_pred_prob > best_threshold).astype(int)\n",
        "\n",
        "    # Confusion matrix\n",
        "    cm = confusion_matrix(y_test, y_pred)\n",
        "\n",
        "    # Create plots\n",
        "    plt.figure(figsize=(15, 5))\n",
        "\n",
        "    # PR Curve\n",
        "    plt.subplot(1, 2, 1)\n",
        "    plt.plot(recall, precision, label=f'PR Curve (AUC = {pr_auc:.4f})')\n",
        "    plt.xlabel('Recall')\n",
        "    plt.ylabel('Precision')\n",
        "    plt.title('Precision-Recall Curve')\n",
        "    plt.legend()\n",
        "\n",
        "    # ROC Curve\n",
        "    plt.subplot(1, 2, 2)\n",
        "    RocCurveDisplay.from_predictions(y_test, y_pred_prob)\n",
        "    plt.title(f'ROC Curve (AUC = {roc_auc:.4f})')\n",
        "\n",
        "    plt.tight_layout()\n",
        "    plt.show()\n",
        "\n",
        "    # Print metrics\n",
        "    display(Markdown(\"## Deforestation Detection Model Performance\"))\n",
        "    print(\"========================================\")\n",
        "    print(f\"Training Time: {perf_stats['training_time']:.2f} seconds\")\n",
        "    print(f\"Peak RAM Usage: {perf_stats['peak_ram_gb']:.2f} GB\")\n",
        "    print(f\"CPU Usage: {perf_stats['avg_cpu_usage']:.1f}% (avg), {perf_stats['max_cpu_usage']:.1f}% (max)\")\n",
        "    print(f\"\\nPR-AUC: {pr_auc:.4f} (Critical for Imbalance)\")\n",
        "    print(f\"Inference Speed: {inference_speed:.4f} ms/sample\")\n",
        "    print(\"\\nClassification Report:\")\n",
        "    print(classification_report(y_test, y_pred, target_names=['No Deforestation', 'Deforestation']))\n",
        "\n",
        "    return {\n",
        "        'accuracy': float(accuracy_score(y_test, y_pred)),\n",
        "        'precision': float(precision_score(y_test, y_pred)),\n",
        "        'recall': float(recall_score(y_test, y_pred)),\n",
        "        'f1': float(f1_score(y_test, y_pred)),\n",
        "        'best_threshold': float(best_threshold),\n",
        "        'confusion_matrix': cm.tolist(),\n",
        "        'pr_auc': float(pr_auc),\n",
        "        'roc_auc': float(roc_auc),\n",
        "        'inference_speed': float(inference_speed)\n",
        "    }\n",
        "\n",
        "# Main execution\n",
        "if __name__ == \"__main__\":\n",
        "    # Initialize performance tracker\n",
        "    tracker = PerformanceTracker()\n",
        "    tracker.start()\n",
        "\n",
        "    # Load and preprocess data\n",
        "    X_train, X_test, y_train, y_test = load_and_preprocess()\n",
        "    tracker.update()\n",
        "\n",
        "    # Add temporal features\n",
        "    X_train = add_temporal_features(X_train)\n",
        "    X_test = add_temporal_features(X_test)\n",
        "    tracker.update()\n",
        "\n",
        "    # Build and train model\n",
        "    model = build_model((X_train.shape[1], X_train.shape[2]))\n",
        "\n",
        "    early_stopping = EarlyStopping(\n",
        "        monitor='val_precision',\n",
        "        patience=5,\n",
        "        mode='max',\n",
        "        restore_best_weights=True\n",
        "    )\n",
        "\n",
        "    history = model.fit(\n",
        "        X_train, y_train,\n",
        "        validation_split=0.2,\n",
        "        epochs=50,\n",
        "        batch_size=512,\n",
        "        class_weight={0: 1, 1: 10},\n",
        "        callbacks=[early_stopping],\n",
        "        verbose=1\n",
        "    )\n",
        "\n",
        "    # Get performance stats\n",
        "    perf_stats = tracker.get_stats()\n",
        "\n",
        "    # Evaluate model\n",
        "    metrics = evaluate_model_with_plots(model, X_test, y_test)\n",
        "\n",
        "    # Save results\n",
        "    def save_results(model, metrics, folder=\"/content/drive/MyDrive/MasterThesis/04_results\"):\n",
        "        os.makedirs(folder, exist_ok=True)\n",
        "        timestamp = datetime.now().strftime(\"%Y%m%d_%H%M%S\")\n",
        "\n",
        "        # Save model\n",
        "        model_path = os.path.join(folder, f\"bi-lstm_improved_{timestamp}.h5\")\n",
        "        model.save(model_path)\n",
        "\n",
        "        # Save metrics\n",
        "        metrics_path = os.path.join(folder, f\"bi-lstm_improved_metrics_{timestamp}.json\")\n",
        "        with open(metrics_path, 'w') as f:\n",
        "            json.dump({**metrics, **perf_stats}, f, indent=2, default=lambda x: float(x) if isinstance(x, (np.float32, np.float64)) else x)\n",
        "\n",
        "        # Save plots\n",
        "        plot_path = os.path.join(folder, f\"bi-lstm_improved_plots_{timestamp}.png\")\n",
        "        plt.savefig(plot_path)\n",
        "\n",
        "        return model_path, metrics_path, plot_path\n",
        "\n",
        "    model_path, metrics_path, plot_path = save_results(model, metrics)\n",
        "\n",
        "    print(\"\\nResults saved to:\")\n",
        "    print(f\"- Model: {model_path}\")\n",
        "    print(f\"- Metrics: {metrics_path}\")\n",
        "    print(f\"- Plots: {plot_path}\")"
      ],
      "metadata": {
        "colab": {
          "base_uri": "https://localhost:8080/",
          "height": 1000
        },
        "id": "sZk21Pp6zf6V",
        "outputId": "fa00e97f-c2ae-4374-8442-e5d40e460f91"
      },
      "execution_count": null,
      "outputs": [
        {
          "output_type": "stream",
          "name": "stdout",
          "text": [
            "Drive already mounted at /content/drive; to attempt to forcibly remount, call drive.mount(\"/content/drive\", force_remount=True).\n",
            "Epoch 1/50\n",
            "\u001b[1m691/691\u001b[0m \u001b[32m━━━━━━━━━━━━━━━━━━━━\u001b[0m\u001b[37m\u001b[0m \u001b[1m12s\u001b[0m 12ms/step - Precision: 0.0784 - Recall: 0.3493 - loss: 0.1118 - pr_auc: 0.2295 - val_Precision: 0.5640 - val_Recall: 0.8561 - val_loss: 0.0050 - val_pr_auc: 0.7409\n",
            "Epoch 2/50\n",
            "\u001b[1m 13/691\u001b[0m \u001b[37m━━━━━━━━━━━━━━━━━━━━\u001b[0m \u001b[1m6s\u001b[0m 9ms/step - Precision: 0.3560 - Recall: 0.6923 - loss: 0.0049 - pr_auc: 0.6814"
          ]
        },
        {
          "output_type": "stream",
          "name": "stderr",
          "text": [
            "/usr/local/lib/python3.11/dist-packages/keras/src/callbacks/early_stopping.py:153: UserWarning: Early stopping conditioned on metric `val_precision` which is not available. Available metrics are: Precision,Recall,loss,pr_auc,val_Precision,val_Recall,val_loss,val_pr_auc\n",
            "  current = self.get_monitor_value(logs)\n"
          ]
        },
        {
          "output_type": "stream",
          "name": "stdout",
          "text": [
            "\u001b[1m691/691\u001b[0m \u001b[32m━━━━━━━━━━━━━━━━━━━━\u001b[0m\u001b[37m\u001b[0m \u001b[1m7s\u001b[0m 11ms/step - Precision: 0.6858 - Recall: 0.8711 - loss: 0.0109 - pr_auc: 0.8153 - val_Precision: 0.7815 - val_Recall: 0.8489 - val_loss: 0.0030 - val_pr_auc: 0.8437\n",
            "Epoch 3/50\n",
            "\u001b[1m 13/691\u001b[0m \u001b[37m━━━━━━━━━━━━━━━━━━━━\u001b[0m \u001b[1m6s\u001b[0m 9ms/step - Precision: 0.9331 - Recall: 0.8152 - loss: 0.0101 - pr_auc: 0.9916"
          ]
        },
        {
          "output_type": "stream",
          "name": "stderr",
          "text": [
            "/usr/local/lib/python3.11/dist-packages/keras/src/callbacks/early_stopping.py:153: UserWarning: Early stopping conditioned on metric `val_precision` which is not available. Available metrics are: Precision,Recall,loss,pr_auc,val_Precision,val_Recall,val_loss,val_pr_auc\n",
            "  current = self.get_monitor_value(logs)\n"
          ]
        },
        {
          "output_type": "stream",
          "name": "stdout",
          "text": [
            "\u001b[1m691/691\u001b[0m \u001b[32m━━━━━━━━━━━━━━━━━━━━\u001b[0m\u001b[37m\u001b[0m \u001b[1m7s\u001b[0m 11ms/step - Precision: 0.7648 - Recall: 0.8994 - loss: 0.0097 - pr_auc: 0.8480 - val_Precision: 0.6800 - val_Recall: 0.8561 - val_loss: 0.0030 - val_pr_auc: 0.8292\n",
            "Epoch 4/50\n",
            "\u001b[1m 13/691\u001b[0m \u001b[37m━━━━━━━━━━━━━━━━━━━━\u001b[0m \u001b[1m6s\u001b[0m 9ms/step - Precision: 0.8101 - Recall: 0.9514 - loss: 0.0081 - pr_auc: 0.9349"
          ]
        },
        {
          "output_type": "stream",
          "name": "stderr",
          "text": [
            "/usr/local/lib/python3.11/dist-packages/keras/src/callbacks/early_stopping.py:153: UserWarning: Early stopping conditioned on metric `val_precision` which is not available. Available metrics are: Precision,Recall,loss,pr_auc,val_Precision,val_Recall,val_loss,val_pr_auc\n",
            "  current = self.get_monitor_value(logs)\n"
          ]
        },
        {
          "output_type": "stream",
          "name": "stdout",
          "text": [
            "\u001b[1m691/691\u001b[0m \u001b[32m━━━━━━━━━━━━━━━━━━━━\u001b[0m\u001b[37m\u001b[0m \u001b[1m7s\u001b[0m 11ms/step - Precision: 0.7333 - Recall: 0.8859 - loss: 0.0099 - pr_auc: 0.8558 - val_Precision: 0.6778 - val_Recall: 0.8777 - val_loss: 0.0032 - val_pr_auc: 0.8019\n",
            "Epoch 5/50\n",
            "\u001b[1m 13/691\u001b[0m \u001b[37m━━━━━━━━━━━━━━━━━━━━\u001b[0m \u001b[1m6s\u001b[0m 9ms/step - Precision: 0.7133 - Recall: 0.9231 - loss: 0.0029 - pr_auc: 0.8284"
          ]
        },
        {
          "output_type": "stream",
          "name": "stderr",
          "text": [
            "/usr/local/lib/python3.11/dist-packages/keras/src/callbacks/early_stopping.py:153: UserWarning: Early stopping conditioned on metric `val_precision` which is not available. Available metrics are: Precision,Recall,loss,pr_auc,val_Precision,val_Recall,val_loss,val_pr_auc\n",
            "  current = self.get_monitor_value(logs)\n"
          ]
        },
        {
          "output_type": "stream",
          "name": "stdout",
          "text": [
            "\u001b[1m691/691\u001b[0m \u001b[32m━━━━━━━━━━━━━━━━━━━━\u001b[0m\u001b[37m\u001b[0m \u001b[1m7s\u001b[0m 11ms/step - Precision: 0.7362 - Recall: 0.9130 - loss: 0.0075 - pr_auc: 0.8534 - val_Precision: 0.6813 - val_Recall: 0.8921 - val_loss: 0.0032 - val_pr_auc: 0.8491\n",
            "Epoch 6/50\n",
            "\u001b[1m 13/691\u001b[0m \u001b[37m━━━━━━━━━━━━━━━━━━━━\u001b[0m \u001b[1m6s\u001b[0m 9ms/step - Precision: 0.7123 - Recall: 0.9791 - loss: 0.0056 - pr_auc: 0.9688"
          ]
        },
        {
          "output_type": "stream",
          "name": "stderr",
          "text": [
            "/usr/local/lib/python3.11/dist-packages/keras/src/callbacks/early_stopping.py:153: UserWarning: Early stopping conditioned on metric `val_precision` which is not available. Available metrics are: Precision,Recall,loss,pr_auc,val_Precision,val_Recall,val_loss,val_pr_auc\n",
            "  current = self.get_monitor_value(logs)\n"
          ]
        },
        {
          "output_type": "stream",
          "name": "stdout",
          "text": [
            "\u001b[1m691/691\u001b[0m \u001b[32m━━━━━━━━━━━━━━━━━━━━\u001b[0m\u001b[37m\u001b[0m \u001b[1m7s\u001b[0m 10ms/step - Precision: 0.7560 - Recall: 0.9109 - loss: 0.0091 - pr_auc: 0.8403 - val_Precision: 0.6009 - val_Recall: 0.9209 - val_loss: 0.0046 - val_pr_auc: 0.8476\n",
            "Epoch 7/50\n",
            "\u001b[1m 13/691\u001b[0m \u001b[37m━━━━━━━━━━━━━━━━━━━━\u001b[0m \u001b[1m6s\u001b[0m 9ms/step - Precision: 0.5556 - Recall: 0.8462 - loss: 0.0062 - pr_auc: 0.6001"
          ]
        },
        {
          "output_type": "stream",
          "name": "stderr",
          "text": [
            "/usr/local/lib/python3.11/dist-packages/keras/src/callbacks/early_stopping.py:153: UserWarning: Early stopping conditioned on metric `val_precision` which is not available. Available metrics are: Precision,Recall,loss,pr_auc,val_Precision,val_Recall,val_loss,val_pr_auc\n",
            "  current = self.get_monitor_value(logs)\n"
          ]
        },
        {
          "output_type": "stream",
          "name": "stdout",
          "text": [
            "\u001b[1m691/691\u001b[0m \u001b[32m━━━━━━━━━━━━━━━━━━━━\u001b[0m\u001b[37m\u001b[0m \u001b[1m7s\u001b[0m 11ms/step - Precision: 0.7399 - Recall: 0.9249 - loss: 0.0079 - pr_auc: 0.8395 - val_Precision: 0.7283 - val_Recall: 0.9065 - val_loss: 0.0027 - val_pr_auc: 0.8609\n",
            "Epoch 8/50\n",
            "\u001b[1m 13/691\u001b[0m \u001b[37m━━━━━━━━━━━━━━━━━━━━\u001b[0m \u001b[1m6s\u001b[0m 9ms/step - Precision: 0.6587 - Recall: 0.7446 - loss: 0.0350 - pr_auc: 0.5271"
          ]
        },
        {
          "output_type": "stream",
          "name": "stderr",
          "text": [
            "/usr/local/lib/python3.11/dist-packages/keras/src/callbacks/early_stopping.py:153: UserWarning: Early stopping conditioned on metric `val_precision` which is not available. Available metrics are: Precision,Recall,loss,pr_auc,val_Precision,val_Recall,val_loss,val_pr_auc\n",
            "  current = self.get_monitor_value(logs)\n"
          ]
        },
        {
          "output_type": "stream",
          "name": "stdout",
          "text": [
            "\u001b[1m691/691\u001b[0m \u001b[32m━━━━━━━━━━━━━━━━━━━━\u001b[0m\u001b[37m\u001b[0m \u001b[1m7s\u001b[0m 11ms/step - Precision: 0.7746 - Recall: 0.9199 - loss: 0.0081 - pr_auc: 0.8714 - val_Precision: 0.6811 - val_Recall: 0.9065 - val_loss: 0.0033 - val_pr_auc: 0.8360\n",
            "Epoch 9/50\n",
            "\u001b[1m 13/691\u001b[0m \u001b[37m━━━━━━━━━━━━━━━━━━━━\u001b[0m \u001b[1m6s\u001b[0m 9ms/step - Precision: 0.8500 - Recall: 0.9461 - loss: 0.0083 - pr_auc: 0.9464"
          ]
        },
        {
          "output_type": "stream",
          "name": "stderr",
          "text": [
            "/usr/local/lib/python3.11/dist-packages/keras/src/callbacks/early_stopping.py:153: UserWarning: Early stopping conditioned on metric `val_precision` which is not available. Available metrics are: Precision,Recall,loss,pr_auc,val_Precision,val_Recall,val_loss,val_pr_auc\n",
            "  current = self.get_monitor_value(logs)\n"
          ]
        },
        {
          "output_type": "stream",
          "name": "stdout",
          "text": [
            "\u001b[1m691/691\u001b[0m \u001b[32m━━━━━━━━━━━━━━━━━━━━\u001b[0m\u001b[37m\u001b[0m \u001b[1m7s\u001b[0m 11ms/step - Precision: 0.7450 - Recall: 0.9263 - loss: 0.0077 - pr_auc: 0.8398 - val_Precision: 0.6649 - val_Recall: 0.9281 - val_loss: 0.0035 - val_pr_auc: 0.8838\n",
            "Epoch 10/50\n",
            "\u001b[1m 11/691\u001b[0m \u001b[37m━━━━━━━━━━━━━━━━━━━━\u001b[0m \u001b[1m7s\u001b[0m 11ms/step - Precision: 0.6751 - Recall: 0.8977 - loss: 0.0038 - pr_auc: 0.8458"
          ]
        },
        {
          "output_type": "stream",
          "name": "stderr",
          "text": [
            "/usr/local/lib/python3.11/dist-packages/keras/src/callbacks/early_stopping.py:153: UserWarning: Early stopping conditioned on metric `val_precision` which is not available. Available metrics are: Precision,Recall,loss,pr_auc,val_Precision,val_Recall,val_loss,val_pr_auc\n",
            "  current = self.get_monitor_value(logs)\n"
          ]
        },
        {
          "output_type": "stream",
          "name": "stdout",
          "text": [
            "\u001b[1m691/691\u001b[0m \u001b[32m━━━━━━━━━━━━━━━━━━━━\u001b[0m\u001b[37m\u001b[0m \u001b[1m7s\u001b[0m 11ms/step - Precision: 0.7703 - Recall: 0.9367 - loss: 0.0065 - pr_auc: 0.8855 - val_Precision: 0.7485 - val_Recall: 0.9209 - val_loss: 0.0035 - val_pr_auc: 0.8965\n",
            "Epoch 11/50\n",
            "\u001b[1m 13/691\u001b[0m \u001b[37m━━━━━━━━━━━━━━━━━━━━\u001b[0m \u001b[1m6s\u001b[0m 9ms/step - Precision: 0.8791 - Recall: 1.0000 - loss: 0.0036 - pr_auc: 0.9820"
          ]
        },
        {
          "output_type": "stream",
          "name": "stderr",
          "text": [
            "/usr/local/lib/python3.11/dist-packages/keras/src/callbacks/early_stopping.py:153: UserWarning: Early stopping conditioned on metric `val_precision` which is not available. Available metrics are: Precision,Recall,loss,pr_auc,val_Precision,val_Recall,val_loss,val_pr_auc\n",
            "  current = self.get_monitor_value(logs)\n"
          ]
        },
        {
          "output_type": "stream",
          "name": "stdout",
          "text": [
            "\u001b[1m691/691\u001b[0m \u001b[32m━━━━━━━━━━━━━━━━━━━━\u001b[0m\u001b[37m\u001b[0m \u001b[1m7s\u001b[0m 10ms/step - Precision: 0.7363 - Recall: 0.9219 - loss: 0.0080 - pr_auc: 0.8492 - val_Precision: 0.7898 - val_Recall: 0.8921 - val_loss: 0.0020 - val_pr_auc: 0.8706\n",
            "Epoch 12/50\n",
            "\u001b[1m 11/691\u001b[0m \u001b[37m━━━━━━━━━━━━━━━━━━━━\u001b[0m \u001b[1m7s\u001b[0m 11ms/step - Precision: 0.9614 - Recall: 1.0000 - loss: 0.0019 - pr_auc: 0.9875"
          ]
        },
        {
          "output_type": "stream",
          "name": "stderr",
          "text": [
            "/usr/local/lib/python3.11/dist-packages/keras/src/callbacks/early_stopping.py:153: UserWarning: Early stopping conditioned on metric `val_precision` which is not available. Available metrics are: Precision,Recall,loss,pr_auc,val_Precision,val_Recall,val_loss,val_pr_auc\n",
            "  current = self.get_monitor_value(logs)\n"
          ]
        },
        {
          "output_type": "stream",
          "name": "stdout",
          "text": [
            "\u001b[1m691/691\u001b[0m \u001b[32m━━━━━━━━━━━━━━━━━━━━\u001b[0m\u001b[37m\u001b[0m \u001b[1m7s\u001b[0m 11ms/step - Precision: 0.7731 - Recall: 0.9488 - loss: 0.0064 - pr_auc: 0.8733 - val_Precision: 0.6684 - val_Recall: 0.9137 - val_loss: 0.0030 - val_pr_auc: 0.8424\n",
            "Epoch 13/50\n",
            "\u001b[1m 13/691\u001b[0m \u001b[37m━━━━━━━━━━━━━━━━━━━━\u001b[0m \u001b[1m6s\u001b[0m 9ms/step - Precision: 0.8462 - Recall: 0.8205 - loss: 0.0014 - pr_auc: 0.8261"
          ]
        },
        {
          "output_type": "stream",
          "name": "stderr",
          "text": [
            "/usr/local/lib/python3.11/dist-packages/keras/src/callbacks/early_stopping.py:153: UserWarning: Early stopping conditioned on metric `val_precision` which is not available. Available metrics are: Precision,Recall,loss,pr_auc,val_Precision,val_Recall,val_loss,val_pr_auc\n",
            "  current = self.get_monitor_value(logs)\n"
          ]
        },
        {
          "output_type": "stream",
          "name": "stdout",
          "text": [
            "\u001b[1m691/691\u001b[0m \u001b[32m━━━━━━━━━━━━━━━━━━━━\u001b[0m\u001b[37m\u001b[0m \u001b[1m7s\u001b[0m 10ms/step - Precision: 0.7590 - Recall: 0.9472 - loss: 0.0046 - pr_auc: 0.8866 - val_Precision: 0.6919 - val_Recall: 0.9209 - val_loss: 0.0031 - val_pr_auc: 0.8849\n",
            "Epoch 14/50\n",
            "\u001b[1m 13/691\u001b[0m \u001b[37m━━━━━━━━━━━━━━━━━━━━\u001b[0m \u001b[1m6s\u001b[0m 9ms/step - Precision: 0.5073 - Recall: 1.0000 - loss: 0.0072 - pr_auc: 0.8386"
          ]
        },
        {
          "output_type": "stream",
          "name": "stderr",
          "text": [
            "/usr/local/lib/python3.11/dist-packages/keras/src/callbacks/early_stopping.py:153: UserWarning: Early stopping conditioned on metric `val_precision` which is not available. Available metrics are: Precision,Recall,loss,pr_auc,val_Precision,val_Recall,val_loss,val_pr_auc\n",
            "  current = self.get_monitor_value(logs)\n"
          ]
        },
        {
          "output_type": "stream",
          "name": "stdout",
          "text": [
            "\u001b[1m691/691\u001b[0m \u001b[32m━━━━━━━━━━━━━━━━━━━━\u001b[0m\u001b[37m\u001b[0m \u001b[1m7s\u001b[0m 11ms/step - Precision: 0.7586 - Recall: 0.9533 - loss: 0.0059 - pr_auc: 0.8771 - val_Precision: 0.7826 - val_Recall: 0.9065 - val_loss: 0.0022 - val_pr_auc: 0.8803\n",
            "Epoch 15/50\n",
            "\u001b[1m 13/691\u001b[0m \u001b[37m━━━━━━━━━━━━━━━━━━━━\u001b[0m \u001b[1m6s\u001b[0m 9ms/step - Precision: 0.7966 - Recall: 0.6905 - loss: 0.0180 - pr_auc: 0.6669"
          ]
        },
        {
          "output_type": "stream",
          "name": "stderr",
          "text": [
            "/usr/local/lib/python3.11/dist-packages/keras/src/callbacks/early_stopping.py:153: UserWarning: Early stopping conditioned on metric `val_precision` which is not available. Available metrics are: Precision,Recall,loss,pr_auc,val_Precision,val_Recall,val_loss,val_pr_auc\n",
            "  current = self.get_monitor_value(logs)\n"
          ]
        },
        {
          "output_type": "stream",
          "name": "stdout",
          "text": [
            "\u001b[1m691/691\u001b[0m \u001b[32m━━━━━━━━━━━━━━━━━━━━\u001b[0m\u001b[37m\u001b[0m \u001b[1m7s\u001b[0m 11ms/step - Precision: 0.7084 - Recall: 0.9169 - loss: 0.0080 - pr_auc: 0.8468 - val_Precision: 0.7442 - val_Recall: 0.9209 - val_loss: 0.0025 - val_pr_auc: 0.8578\n",
            "Epoch 16/50\n",
            "\u001b[1m 13/691\u001b[0m \u001b[37m━━━━━━━━━━━━━━━━━━━━\u001b[0m \u001b[1m6s\u001b[0m 9ms/step - Precision: 0.7046 - Recall: 0.9231 - loss: 0.0029 - pr_auc: 0.7866"
          ]
        },
        {
          "output_type": "stream",
          "name": "stderr",
          "text": [
            "/usr/local/lib/python3.11/dist-packages/keras/src/callbacks/early_stopping.py:153: UserWarning: Early stopping conditioned on metric `val_precision` which is not available. Available metrics are: Precision,Recall,loss,pr_auc,val_Precision,val_Recall,val_loss,val_pr_auc\n",
            "  current = self.get_monitor_value(logs)\n"
          ]
        },
        {
          "output_type": "stream",
          "name": "stdout",
          "text": [
            "\u001b[1m691/691\u001b[0m \u001b[32m━━━━━━━━━━━━━━━━━━━━\u001b[0m\u001b[37m\u001b[0m \u001b[1m7s\u001b[0m 10ms/step - Precision: 0.7569 - Recall: 0.9435 - loss: 0.0052 - pr_auc: 0.8682 - val_Precision: 0.7273 - val_Recall: 0.9209 - val_loss: 0.0026 - val_pr_auc: 0.8719\n",
            "Epoch 17/50\n",
            "\u001b[1m 13/691\u001b[0m \u001b[37m━━━━━━━━━━━━━━━━━━━━\u001b[0m \u001b[1m5s\u001b[0m 9ms/step - Precision: 0.8955 - Recall: 0.9135 - loss: 0.0024 - pr_auc: 0.9055"
          ]
        },
        {
          "output_type": "stream",
          "name": "stderr",
          "text": [
            "/usr/local/lib/python3.11/dist-packages/keras/src/callbacks/early_stopping.py:153: UserWarning: Early stopping conditioned on metric `val_precision` which is not available. Available metrics are: Precision,Recall,loss,pr_auc,val_Precision,val_Recall,val_loss,val_pr_auc\n",
            "  current = self.get_monitor_value(logs)\n"
          ]
        },
        {
          "output_type": "stream",
          "name": "stdout",
          "text": [
            "\u001b[1m691/691\u001b[0m \u001b[32m━━━━━━━━━━━━━━━━━━━━\u001b[0m\u001b[37m\u001b[0m \u001b[1m7s\u001b[0m 10ms/step - Precision: 0.7699 - Recall: 0.9390 - loss: 0.0061 - pr_auc: 0.8916 - val_Precision: 0.6845 - val_Recall: 0.9209 - val_loss: 0.0033 - val_pr_auc: 0.8486\n",
            "Epoch 18/50\n",
            "\u001b[1m 13/691\u001b[0m \u001b[37m━━━━━━━━━━━━━━━━━━━━\u001b[0m \u001b[1m6s\u001b[0m 9ms/step - Precision: 0.4013 - Recall: 0.6359 - loss: 0.0051 - pr_auc: 0.7107"
          ]
        },
        {
          "output_type": "stream",
          "name": "stderr",
          "text": [
            "/usr/local/lib/python3.11/dist-packages/keras/src/callbacks/early_stopping.py:153: UserWarning: Early stopping conditioned on metric `val_precision` which is not available. Available metrics are: Precision,Recall,loss,pr_auc,val_Precision,val_Recall,val_loss,val_pr_auc\n",
            "  current = self.get_monitor_value(logs)\n"
          ]
        },
        {
          "output_type": "stream",
          "name": "stdout",
          "text": [
            "\u001b[1m691/691\u001b[0m \u001b[32m━━━━━━━━━━━━━━━━━━━━\u001b[0m\u001b[37m\u001b[0m \u001b[1m7s\u001b[0m 10ms/step - Precision: 0.7466 - Recall: 0.9256 - loss: 0.0063 - pr_auc: 0.8772 - val_Precision: 0.7207 - val_Recall: 0.9281 - val_loss: 0.0024 - val_pr_auc: 0.8697\n",
            "Epoch 19/50\n",
            "\u001b[1m 11/691\u001b[0m \u001b[37m━━━━━━━━━━━━━━━━━━━━\u001b[0m \u001b[1m7s\u001b[0m 11ms/step - Precision: 0.7837 - Recall: 0.8217 - loss: 0.0176 - pr_auc: 0.7013"
          ]
        },
        {
          "output_type": "stream",
          "name": "stderr",
          "text": [
            "/usr/local/lib/python3.11/dist-packages/keras/src/callbacks/early_stopping.py:153: UserWarning: Early stopping conditioned on metric `val_precision` which is not available. Available metrics are: Precision,Recall,loss,pr_auc,val_Precision,val_Recall,val_loss,val_pr_auc\n",
            "  current = self.get_monitor_value(logs)\n"
          ]
        },
        {
          "output_type": "stream",
          "name": "stdout",
          "text": [
            "\u001b[1m691/691\u001b[0m \u001b[32m━━━━━━━━━━━━━━━━━━━━\u001b[0m\u001b[37m\u001b[0m \u001b[1m7s\u001b[0m 10ms/step - Precision: 0.7651 - Recall: 0.9358 - loss: 0.0069 - pr_auc: 0.8531 - val_Precision: 0.8089 - val_Recall: 0.9137 - val_loss: 0.0018 - val_pr_auc: 0.9035\n",
            "Epoch 20/50\n",
            "\u001b[1m 12/691\u001b[0m \u001b[37m━━━━━━━━━━━━━━━━━━━━\u001b[0m \u001b[1m6s\u001b[0m 10ms/step - Precision: 0.8833 - Recall: 0.9167 - loss: 7.9023e-04 - pr_auc: 0.9167"
          ]
        },
        {
          "output_type": "stream",
          "name": "stderr",
          "text": [
            "/usr/local/lib/python3.11/dist-packages/keras/src/callbacks/early_stopping.py:153: UserWarning: Early stopping conditioned on metric `val_precision` which is not available. Available metrics are: Precision,Recall,loss,pr_auc,val_Precision,val_Recall,val_loss,val_pr_auc\n",
            "  current = self.get_monitor_value(logs)\n"
          ]
        },
        {
          "output_type": "stream",
          "name": "stdout",
          "text": [
            "\u001b[1m691/691\u001b[0m \u001b[32m━━━━━━━━━━━━━━━━━━━━\u001b[0m\u001b[37m\u001b[0m \u001b[1m7s\u001b[0m 11ms/step - Precision: 0.7506 - Recall: 0.9406 - loss: 0.0050 - pr_auc: 0.8997 - val_Precision: 0.7711 - val_Recall: 0.9209 - val_loss: 0.0022 - val_pr_auc: 0.8633\n",
            "Epoch 21/50\n",
            "\u001b[1m 13/691\u001b[0m \u001b[37m━━━━━━━━━━━━━━━━━━━━\u001b[0m \u001b[1m6s\u001b[0m 9ms/step - Precision: 1.0000 - Recall: 0.9362 - loss: 0.0040 - pr_auc: 0.9710"
          ]
        },
        {
          "output_type": "stream",
          "name": "stderr",
          "text": [
            "/usr/local/lib/python3.11/dist-packages/keras/src/callbacks/early_stopping.py:153: UserWarning: Early stopping conditioned on metric `val_precision` which is not available. Available metrics are: Precision,Recall,loss,pr_auc,val_Precision,val_Recall,val_loss,val_pr_auc\n",
            "  current = self.get_monitor_value(logs)\n"
          ]
        },
        {
          "output_type": "stream",
          "name": "stdout",
          "text": [
            "\u001b[1m691/691\u001b[0m \u001b[32m━━━━━━━━━━━━━━━━━━━━\u001b[0m\u001b[37m\u001b[0m \u001b[1m7s\u001b[0m 10ms/step - Precision: 0.7985 - Recall: 0.9460 - loss: 0.0048 - pr_auc: 0.8845 - val_Precision: 0.7222 - val_Recall: 0.9353 - val_loss: 0.0025 - val_pr_auc: 0.8705\n",
            "Epoch 22/50\n",
            "\u001b[1m 13/691\u001b[0m \u001b[37m━━━━━━━━━━━━━━━━━━━━\u001b[0m \u001b[1m6s\u001b[0m 9ms/step - Precision: 0.9240 - Recall: 1.0000 - loss: 0.0015 - pr_auc: 0.9778"
          ]
        },
        {
          "output_type": "stream",
          "name": "stderr",
          "text": [
            "/usr/local/lib/python3.11/dist-packages/keras/src/callbacks/early_stopping.py:153: UserWarning: Early stopping conditioned on metric `val_precision` which is not available. Available metrics are: Precision,Recall,loss,pr_auc,val_Precision,val_Recall,val_loss,val_pr_auc\n",
            "  current = self.get_monitor_value(logs)\n"
          ]
        },
        {
          "output_type": "stream",
          "name": "stdout",
          "text": [
            "\u001b[1m691/691\u001b[0m \u001b[32m━━━━━━━━━━━━━━━━━━━━\u001b[0m\u001b[37m\u001b[0m \u001b[1m7s\u001b[0m 11ms/step - Precision: 0.7798 - Recall: 0.9446 - loss: 0.0045 - pr_auc: 0.9025 - val_Precision: 0.6786 - val_Recall: 0.9568 - val_loss: 0.0031 - val_pr_auc: 0.8729\n",
            "Epoch 23/50\n",
            "\u001b[1m 13/691\u001b[0m \u001b[37m━━━━━━━━━━━━━━━━━━━━\u001b[0m \u001b[1m6s\u001b[0m 9ms/step - Precision: 0.9113 - Recall: 1.0000 - loss: 0.0019 - pr_auc: 0.9975"
          ]
        },
        {
          "output_type": "stream",
          "name": "stderr",
          "text": [
            "/usr/local/lib/python3.11/dist-packages/keras/src/callbacks/early_stopping.py:153: UserWarning: Early stopping conditioned on metric `val_precision` which is not available. Available metrics are: Precision,Recall,loss,pr_auc,val_Precision,val_Recall,val_loss,val_pr_auc\n",
            "  current = self.get_monitor_value(logs)\n"
          ]
        },
        {
          "output_type": "stream",
          "name": "stdout",
          "text": [
            "\u001b[1m691/691\u001b[0m \u001b[32m━━━━━━━━━━━━━━━━━━━━\u001b[0m\u001b[37m\u001b[0m \u001b[1m7s\u001b[0m 11ms/step - Precision: 0.7440 - Recall: 0.9429 - loss: 0.0051 - pr_auc: 0.8981 - val_Precision: 0.7602 - val_Recall: 0.9353 - val_loss: 0.0022 - val_pr_auc: 0.8867\n",
            "Epoch 24/50\n",
            "\u001b[1m 13/691\u001b[0m \u001b[37m━━━━━━━━━━━━━━━━━━━━\u001b[0m \u001b[1m6s\u001b[0m 9ms/step - Precision: 0.7413 - Recall: 0.9231 - loss: 0.0021 - pr_auc: 0.8903"
          ]
        },
        {
          "output_type": "stream",
          "name": "stderr",
          "text": [
            "/usr/local/lib/python3.11/dist-packages/keras/src/callbacks/early_stopping.py:153: UserWarning: Early stopping conditioned on metric `val_precision` which is not available. Available metrics are: Precision,Recall,loss,pr_auc,val_Precision,val_Recall,val_loss,val_pr_auc\n",
            "  current = self.get_monitor_value(logs)\n"
          ]
        },
        {
          "output_type": "stream",
          "name": "stdout",
          "text": [
            "\u001b[1m691/691\u001b[0m \u001b[32m━━━━━━━━━━━━━━━━━━━━\u001b[0m\u001b[37m\u001b[0m \u001b[1m7s\u001b[0m 11ms/step - Precision: 0.7409 - Recall: 0.9404 - loss: 0.0052 - pr_auc: 0.8968 - val_Precision: 0.7558 - val_Recall: 0.9353 - val_loss: 0.0022 - val_pr_auc: 0.8982\n",
            "Epoch 25/50\n",
            "\u001b[1m 12/691\u001b[0m \u001b[37m━━━━━━━━━━━━━━━━━━━━\u001b[0m \u001b[1m6s\u001b[0m 10ms/step - Precision: 0.6423 - Recall: 0.5317 - loss: 0.0185 - pr_auc: 0.6891"
          ]
        },
        {
          "output_type": "stream",
          "name": "stderr",
          "text": [
            "/usr/local/lib/python3.11/dist-packages/keras/src/callbacks/early_stopping.py:153: UserWarning: Early stopping conditioned on metric `val_precision` which is not available. Available metrics are: Precision,Recall,loss,pr_auc,val_Precision,val_Recall,val_loss,val_pr_auc\n",
            "  current = self.get_monitor_value(logs)\n"
          ]
        },
        {
          "output_type": "stream",
          "name": "stdout",
          "text": [
            "\u001b[1m691/691\u001b[0m \u001b[32m━━━━━━━━━━━━━━━━━━━━\u001b[0m\u001b[37m\u001b[0m \u001b[1m7s\u001b[0m 11ms/step - Precision: 0.7676 - Recall: 0.9350 - loss: 0.0058 - pr_auc: 0.8780 - val_Precision: 0.7486 - val_Recall: 0.9424 - val_loss: 0.0022 - val_pr_auc: 0.8914\n",
            "Epoch 26/50\n",
            "\u001b[1m 13/691\u001b[0m \u001b[37m━━━━━━━━━━━━━━━━━━━━\u001b[0m \u001b[1m6s\u001b[0m 9ms/step - Precision: 1.0000 - Recall: 0.8710 - loss: 0.0053 - pr_auc: 0.9919"
          ]
        },
        {
          "output_type": "stream",
          "name": "stderr",
          "text": [
            "/usr/local/lib/python3.11/dist-packages/keras/src/callbacks/early_stopping.py:153: UserWarning: Early stopping conditioned on metric `val_precision` which is not available. Available metrics are: Precision,Recall,loss,pr_auc,val_Precision,val_Recall,val_loss,val_pr_auc\n",
            "  current = self.get_monitor_value(logs)\n"
          ]
        },
        {
          "output_type": "stream",
          "name": "stdout",
          "text": [
            "\u001b[1m691/691\u001b[0m \u001b[32m━━━━━━━━━━━━━━━━━━━━\u001b[0m\u001b[37m\u001b[0m \u001b[1m7s\u001b[0m 11ms/step - Precision: 0.8083 - Recall: 0.9555 - loss: 0.0040 - pr_auc: 0.9131 - val_Precision: 0.7544 - val_Recall: 0.9281 - val_loss: 0.0021 - val_pr_auc: 0.8943\n",
            "Epoch 27/50\n",
            "\u001b[1m 13/691\u001b[0m \u001b[37m━━━━━━━━━━━━━━━━━━━━\u001b[0m \u001b[1m6s\u001b[0m 9ms/step - Precision: 0.8274 - Recall: 0.8744 - loss: 0.0051 - pr_auc: 0.8909"
          ]
        },
        {
          "output_type": "stream",
          "name": "stderr",
          "text": [
            "/usr/local/lib/python3.11/dist-packages/keras/src/callbacks/early_stopping.py:153: UserWarning: Early stopping conditioned on metric `val_precision` which is not available. Available metrics are: Precision,Recall,loss,pr_auc,val_Precision,val_Recall,val_loss,val_pr_auc\n",
            "  current = self.get_monitor_value(logs)\n"
          ]
        },
        {
          "output_type": "stream",
          "name": "stdout",
          "text": [
            "\u001b[1m691/691\u001b[0m \u001b[32m━━━━━━━━━━━━━━━━━━━━\u001b[0m\u001b[37m\u001b[0m \u001b[1m7s\u001b[0m 11ms/step - Precision: 0.7579 - Recall: 0.9429 - loss: 0.0050 - pr_auc: 0.8909 - val_Precision: 0.6786 - val_Recall: 0.9568 - val_loss: 0.0028 - val_pr_auc: 0.8856\n",
            "Epoch 28/50\n",
            "\u001b[1m 13/691\u001b[0m \u001b[37m━━━━━━━━━━━━━━━━━━━━\u001b[0m \u001b[1m6s\u001b[0m 9ms/step - Precision: 0.5772 - Recall: 0.9231 - loss: 0.0028 - pr_auc: 0.9183"
          ]
        },
        {
          "output_type": "stream",
          "name": "stderr",
          "text": [
            "/usr/local/lib/python3.11/dist-packages/keras/src/callbacks/early_stopping.py:153: UserWarning: Early stopping conditioned on metric `val_precision` which is not available. Available metrics are: Precision,Recall,loss,pr_auc,val_Precision,val_Recall,val_loss,val_pr_auc\n",
            "  current = self.get_monitor_value(logs)\n"
          ]
        },
        {
          "output_type": "stream",
          "name": "stdout",
          "text": [
            "\u001b[1m691/691\u001b[0m \u001b[32m━━━━━━━━━━━━━━━━━━━━\u001b[0m\u001b[37m\u001b[0m \u001b[1m7s\u001b[0m 11ms/step - Precision: 0.7841 - Recall: 0.9755 - loss: 0.0034 - pr_auc: 0.9193 - val_Precision: 0.7253 - val_Recall: 0.9496 - val_loss: 0.0027 - val_pr_auc: 0.8842\n",
            "Epoch 29/50\n",
            "\u001b[1m 13/691\u001b[0m \u001b[37m━━━━━━━━━━━━━━━━━━━━\u001b[0m \u001b[1m6s\u001b[0m 9ms/step - Precision: 0.8504 - Recall: 0.9231 - loss: 0.0022 - pr_auc: 0.9190 "
          ]
        },
        {
          "output_type": "stream",
          "name": "stderr",
          "text": [
            "/usr/local/lib/python3.11/dist-packages/keras/src/callbacks/early_stopping.py:153: UserWarning: Early stopping conditioned on metric `val_precision` which is not available. Available metrics are: Precision,Recall,loss,pr_auc,val_Precision,val_Recall,val_loss,val_pr_auc\n",
            "  current = self.get_monitor_value(logs)\n"
          ]
        },
        {
          "output_type": "stream",
          "name": "stdout",
          "text": [
            "\u001b[1m691/691\u001b[0m \u001b[32m━━━━━━━━━━━━━━━━━━━━\u001b[0m\u001b[37m\u001b[0m \u001b[1m7s\u001b[0m 11ms/step - Precision: 0.7779 - Recall: 0.9572 - loss: 0.0040 - pr_auc: 0.9130 - val_Precision: 0.7471 - val_Recall: 0.9353 - val_loss: 0.0022 - val_pr_auc: 0.8745\n",
            "Epoch 30/50\n",
            "\u001b[1m 13/691\u001b[0m \u001b[37m━━━━━━━━━━━━━━━━━━━━\u001b[0m \u001b[1m6s\u001b[0m 9ms/step - Precision: 0.6394 - Recall: 0.7692 - loss: 8.6879e-04 - pr_auc: 0.7652"
          ]
        },
        {
          "output_type": "stream",
          "name": "stderr",
          "text": [
            "/usr/local/lib/python3.11/dist-packages/keras/src/callbacks/early_stopping.py:153: UserWarning: Early stopping conditioned on metric `val_precision` which is not available. Available metrics are: Precision,Recall,loss,pr_auc,val_Precision,val_Recall,val_loss,val_pr_auc\n",
            "  current = self.get_monitor_value(logs)\n"
          ]
        },
        {
          "output_type": "stream",
          "name": "stdout",
          "text": [
            "\u001b[1m691/691\u001b[0m \u001b[32m━━━━━━━━━━━━━━━━━━━━\u001b[0m\u001b[37m\u001b[0m \u001b[1m7s\u001b[0m 11ms/step - Precision: 0.7475 - Recall: 0.9536 - loss: 0.0040 - pr_auc: 0.9083 - val_Precision: 0.7679 - val_Recall: 0.9281 - val_loss: 0.0022 - val_pr_auc: 0.8732\n",
            "Epoch 31/50\n",
            "\u001b[1m 13/691\u001b[0m \u001b[37m━━━━━━━━━━━━━━━━━━━━\u001b[0m \u001b[1m6s\u001b[0m 9ms/step - Precision: 0.8071 - Recall: 0.8705 - loss: 0.0023 - pr_auc: 0.9049"
          ]
        },
        {
          "output_type": "stream",
          "name": "stderr",
          "text": [
            "/usr/local/lib/python3.11/dist-packages/keras/src/callbacks/early_stopping.py:153: UserWarning: Early stopping conditioned on metric `val_precision` which is not available. Available metrics are: Precision,Recall,loss,pr_auc,val_Precision,val_Recall,val_loss,val_pr_auc\n",
            "  current = self.get_monitor_value(logs)\n"
          ]
        },
        {
          "output_type": "stream",
          "name": "stdout",
          "text": [
            "\u001b[1m691/691\u001b[0m \u001b[32m━━━━━━━━━━━━━━━━━━━━\u001b[0m\u001b[37m\u001b[0m \u001b[1m7s\u001b[0m 11ms/step - Precision: 0.7522 - Recall: 0.9535 - loss: 0.0044 - pr_auc: 0.8810 - val_Precision: 0.7644 - val_Recall: 0.9568 - val_loss: 0.0021 - val_pr_auc: 0.8825\n",
            "Epoch 32/50\n",
            "\u001b[1m 13/691\u001b[0m \u001b[37m━━━━━━━━━━━━━━━━━━━━\u001b[0m \u001b[1m6s\u001b[0m 9ms/step - Precision: 0.5794 - Recall: 1.0000 - loss: 0.0028 - pr_auc: 0.8558"
          ]
        },
        {
          "output_type": "stream",
          "name": "stderr",
          "text": [
            "/usr/local/lib/python3.11/dist-packages/keras/src/callbacks/early_stopping.py:153: UserWarning: Early stopping conditioned on metric `val_precision` which is not available. Available metrics are: Precision,Recall,loss,pr_auc,val_Precision,val_Recall,val_loss,val_pr_auc\n",
            "  current = self.get_monitor_value(logs)\n"
          ]
        },
        {
          "output_type": "stream",
          "name": "stdout",
          "text": [
            "\u001b[1m691/691\u001b[0m \u001b[32m━━━━━━━━━━━━━━━━━━━━\u001b[0m\u001b[37m\u001b[0m \u001b[1m7s\u001b[0m 11ms/step - Precision: 0.7857 - Recall: 0.9754 - loss: 0.0029 - pr_auc: 0.9123 - val_Precision: 0.7674 - val_Recall: 0.9496 - val_loss: 0.0017 - val_pr_auc: 0.8997\n",
            "Epoch 33/50\n",
            "\u001b[1m 13/691\u001b[0m \u001b[37m━━━━━━━━━━━━━━━━━━━━\u001b[0m \u001b[1m6s\u001b[0m 9ms/step - Precision: 0.6276 - Recall: 0.6978 - loss: 0.0048 - pr_auc: 0.8188"
          ]
        },
        {
          "output_type": "stream",
          "name": "stderr",
          "text": [
            "/usr/local/lib/python3.11/dist-packages/keras/src/callbacks/early_stopping.py:153: UserWarning: Early stopping conditioned on metric `val_precision` which is not available. Available metrics are: Precision,Recall,loss,pr_auc,val_Precision,val_Recall,val_loss,val_pr_auc\n",
            "  current = self.get_monitor_value(logs)\n"
          ]
        },
        {
          "output_type": "stream",
          "name": "stdout",
          "text": [
            "\u001b[1m691/691\u001b[0m \u001b[32m━━━━━━━━━━━━━━━━━━━━\u001b[0m\u001b[37m\u001b[0m \u001b[1m7s\u001b[0m 11ms/step - Precision: 0.7988 - Recall: 0.9567 - loss: 0.0030 - pr_auc: 0.9395 - val_Precision: 0.7288 - val_Recall: 0.9281 - val_loss: 0.0026 - val_pr_auc: 0.8584\n",
            "Epoch 34/50\n",
            "\u001b[1m 13/691\u001b[0m \u001b[37m━━━━━━━━━━━━━━━━━━━━\u001b[0m \u001b[1m6s\u001b[0m 10ms/step - Precision: 0.8096 - Recall: 0.9231 - loss: 0.0012 - pr_auc: 0.9080"
          ]
        },
        {
          "output_type": "stream",
          "name": "stderr",
          "text": [
            "/usr/local/lib/python3.11/dist-packages/keras/src/callbacks/early_stopping.py:153: UserWarning: Early stopping conditioned on metric `val_precision` which is not available. Available metrics are: Precision,Recall,loss,pr_auc,val_Precision,val_Recall,val_loss,val_pr_auc\n",
            "  current = self.get_monitor_value(logs)\n"
          ]
        },
        {
          "output_type": "stream",
          "name": "stdout",
          "text": [
            "\u001b[1m691/691\u001b[0m \u001b[32m━━━━━━━━━━━━━━━━━━━━\u001b[0m\u001b[37m\u001b[0m \u001b[1m7s\u001b[0m 11ms/step - Precision: 0.7619 - Recall: 0.9574 - loss: 0.0047 - pr_auc: 0.9085 - val_Precision: 0.6567 - val_Recall: 0.9496 - val_loss: 0.0031 - val_pr_auc: 0.8824\n",
            "Epoch 35/50\n",
            "\u001b[1m 13/691\u001b[0m \u001b[37m━━━━━━━━━━━━━━━━━━━━\u001b[0m \u001b[1m6s\u001b[0m 9ms/step - Precision: 0.6625 - Recall: 0.9231 - loss: 0.0022 - pr_auc: 0.9136"
          ]
        },
        {
          "output_type": "stream",
          "name": "stderr",
          "text": [
            "/usr/local/lib/python3.11/dist-packages/keras/src/callbacks/early_stopping.py:153: UserWarning: Early stopping conditioned on metric `val_precision` which is not available. Available metrics are: Precision,Recall,loss,pr_auc,val_Precision,val_Recall,val_loss,val_pr_auc\n",
            "  current = self.get_monitor_value(logs)\n"
          ]
        },
        {
          "output_type": "stream",
          "name": "stdout",
          "text": [
            "\u001b[1m691/691\u001b[0m \u001b[32m━━━━━━━━━━━━━━━━━━━━\u001b[0m\u001b[37m\u001b[0m \u001b[1m7s\u001b[0m 11ms/step - Precision: 0.7551 - Recall: 0.9572 - loss: 0.0037 - pr_auc: 0.9184 - val_Precision: 0.7318 - val_Recall: 0.9424 - val_loss: 0.0022 - val_pr_auc: 0.8819\n",
            "Epoch 36/50\n",
            "\u001b[1m 12/691\u001b[0m \u001b[37m━━━━━━━━━━━━━━━━━━━━\u001b[0m \u001b[1m6s\u001b[0m 10ms/step - Precision: 0.6583 - Recall: 1.0000 - loss: 0.0045 - pr_auc: 0.6606"
          ]
        },
        {
          "output_type": "stream",
          "name": "stderr",
          "text": [
            "/usr/local/lib/python3.11/dist-packages/keras/src/callbacks/early_stopping.py:153: UserWarning: Early stopping conditioned on metric `val_precision` which is not available. Available metrics are: Precision,Recall,loss,pr_auc,val_Precision,val_Recall,val_loss,val_pr_auc\n",
            "  current = self.get_monitor_value(logs)\n"
          ]
        },
        {
          "output_type": "stream",
          "name": "stdout",
          "text": [
            "\u001b[1m691/691\u001b[0m \u001b[32m━━━━━━━━━━━━━━━━━━━━\u001b[0m\u001b[37m\u001b[0m \u001b[1m7s\u001b[0m 10ms/step - Precision: 0.8060 - Recall: 0.9739 - loss: 0.0028 - pr_auc: 0.9227 - val_Precision: 0.7529 - val_Recall: 0.9424 - val_loss: 0.0021 - val_pr_auc: 0.8920\n",
            "Epoch 37/50\n",
            "\u001b[1m 13/691\u001b[0m \u001b[37m━━━━━━━━━━━━━━━━━━━━\u001b[0m \u001b[1m6s\u001b[0m 9ms/step - Precision: 0.6598 - Recall: 0.9231 - loss: 0.0012 - pr_auc: 0.9231    "
          ]
        },
        {
          "output_type": "stream",
          "name": "stderr",
          "text": [
            "/usr/local/lib/python3.11/dist-packages/keras/src/callbacks/early_stopping.py:153: UserWarning: Early stopping conditioned on metric `val_precision` which is not available. Available metrics are: Precision,Recall,loss,pr_auc,val_Precision,val_Recall,val_loss,val_pr_auc\n",
            "  current = self.get_monitor_value(logs)\n"
          ]
        },
        {
          "output_type": "stream",
          "name": "stdout",
          "text": [
            "\u001b[1m691/691\u001b[0m \u001b[32m━━━━━━━━━━━━━━━━━━━━\u001b[0m\u001b[37m\u001b[0m \u001b[1m7s\u001b[0m 11ms/step - Precision: 0.7834 - Recall: 0.9752 - loss: 0.0028 - pr_auc: 0.9254 - val_Precision: 0.7303 - val_Recall: 0.9353 - val_loss: 0.0022 - val_pr_auc: 0.8802\n",
            "Epoch 38/50\n",
            "\u001b[1m 13/691\u001b[0m \u001b[37m━━━━━━━━━━━━━━━━━━━━\u001b[0m \u001b[1m6s\u001b[0m 9ms/step - Precision: 0.8357 - Recall: 1.0000 - loss: 0.0026 - pr_auc: 0.9199"
          ]
        },
        {
          "output_type": "stream",
          "name": "stderr",
          "text": [
            "/usr/local/lib/python3.11/dist-packages/keras/src/callbacks/early_stopping.py:153: UserWarning: Early stopping conditioned on metric `val_precision` which is not available. Available metrics are: Precision,Recall,loss,pr_auc,val_Precision,val_Recall,val_loss,val_pr_auc\n",
            "  current = self.get_monitor_value(logs)\n"
          ]
        },
        {
          "output_type": "stream",
          "name": "stdout",
          "text": [
            "\u001b[1m691/691\u001b[0m \u001b[32m━━━━━━━━━━━━━━━━━━━━\u001b[0m\u001b[37m\u001b[0m \u001b[1m7s\u001b[0m 11ms/step - Precision: 0.8030 - Recall: 0.9804 - loss: 0.0029 - pr_auc: 0.9369 - val_Precision: 0.7500 - val_Recall: 0.9281 - val_loss: 0.0020 - val_pr_auc: 0.8868\n",
            "Epoch 39/50\n",
            "\u001b[1m 13/691\u001b[0m \u001b[37m━━━━━━━━━━━━━━━━━━━━\u001b[0m \u001b[1m6s\u001b[0m 10ms/step - Precision: 0.6766 - Recall: 0.9231 - loss: 0.0033 - pr_auc: 0.7401"
          ]
        },
        {
          "output_type": "stream",
          "name": "stderr",
          "text": [
            "/usr/local/lib/python3.11/dist-packages/keras/src/callbacks/early_stopping.py:153: UserWarning: Early stopping conditioned on metric `val_precision` which is not available. Available metrics are: Precision,Recall,loss,pr_auc,val_Precision,val_Recall,val_loss,val_pr_auc\n",
            "  current = self.get_monitor_value(logs)\n"
          ]
        },
        {
          "output_type": "stream",
          "name": "stdout",
          "text": [
            "\u001b[1m691/691\u001b[0m \u001b[32m━━━━━━━━━━━━━━━━━━━━\u001b[0m\u001b[37m\u001b[0m \u001b[1m7s\u001b[0m 11ms/step - Precision: 0.7665 - Recall: 0.9709 - loss: 0.0030 - pr_auc: 0.9173 - val_Precision: 0.7857 - val_Recall: 0.9496 - val_loss: 0.0019 - val_pr_auc: 0.8958\n",
            "Epoch 40/50\n",
            "\u001b[1m 13/691\u001b[0m \u001b[37m━━━━━━━━━━━━━━━━━━━━\u001b[0m \u001b[1m6s\u001b[0m 9ms/step - Precision: 0.8618 - Recall: 1.0000 - loss: 0.0015 - pr_auc: 0.9932"
          ]
        },
        {
          "output_type": "stream",
          "name": "stderr",
          "text": [
            "/usr/local/lib/python3.11/dist-packages/keras/src/callbacks/early_stopping.py:153: UserWarning: Early stopping conditioned on metric `val_precision` which is not available. Available metrics are: Precision,Recall,loss,pr_auc,val_Precision,val_Recall,val_loss,val_pr_auc\n",
            "  current = self.get_monitor_value(logs)\n"
          ]
        },
        {
          "output_type": "stream",
          "name": "stdout",
          "text": [
            "\u001b[1m691/691\u001b[0m \u001b[32m━━━━━━━━━━━━━━━━━━━━\u001b[0m\u001b[37m\u001b[0m \u001b[1m7s\u001b[0m 11ms/step - Precision: 0.7893 - Recall: 0.9693 - loss: 0.0032 - pr_auc: 0.9533 - val_Precision: 0.7784 - val_Recall: 0.9353 - val_loss: 0.0017 - val_pr_auc: 0.8999\n",
            "Epoch 41/50\n",
            "\u001b[1m 13/691\u001b[0m \u001b[37m━━━━━━━━━━━━━━━━━━━━\u001b[0m \u001b[1m6s\u001b[0m 9ms/step - Precision: 0.8124 - Recall: 1.0000 - loss: 0.0024 - pr_auc: 0.6961"
          ]
        },
        {
          "output_type": "stream",
          "name": "stderr",
          "text": [
            "/usr/local/lib/python3.11/dist-packages/keras/src/callbacks/early_stopping.py:153: UserWarning: Early stopping conditioned on metric `val_precision` which is not available. Available metrics are: Precision,Recall,loss,pr_auc,val_Precision,val_Recall,val_loss,val_pr_auc\n",
            "  current = self.get_monitor_value(logs)\n"
          ]
        },
        {
          "output_type": "stream",
          "name": "stdout",
          "text": [
            "\u001b[1m691/691\u001b[0m \u001b[32m━━━━━━━━━━━━━━━━━━━━\u001b[0m\u001b[37m\u001b[0m \u001b[1m7s\u001b[0m 11ms/step - Precision: 0.7776 - Recall: 0.9616 - loss: 0.0032 - pr_auc: 0.9216 - val_Precision: 0.6837 - val_Recall: 0.9640 - val_loss: 0.0027 - val_pr_auc: 0.8845\n",
            "Epoch 42/50\n",
            "\u001b[1m 13/691\u001b[0m \u001b[37m━━━━━━━━━━━━━━━━━━━━\u001b[0m \u001b[1m6s\u001b[0m 9ms/step - Precision: 0.6875 - Recall: 0.9231 - loss: 0.0015 - pr_auc: 0.9231"
          ]
        },
        {
          "output_type": "stream",
          "name": "stderr",
          "text": [
            "/usr/local/lib/python3.11/dist-packages/keras/src/callbacks/early_stopping.py:153: UserWarning: Early stopping conditioned on metric `val_precision` which is not available. Available metrics are: Precision,Recall,loss,pr_auc,val_Precision,val_Recall,val_loss,val_pr_auc\n",
            "  current = self.get_monitor_value(logs)\n"
          ]
        },
        {
          "output_type": "stream",
          "name": "stdout",
          "text": [
            "\u001b[1m691/691\u001b[0m \u001b[32m━━━━━━━━━━━━━━━━━━━━\u001b[0m\u001b[37m\u001b[0m \u001b[1m7s\u001b[0m 11ms/step - Precision: 0.8177 - Recall: 0.9702 - loss: 0.0026 - pr_auc: 0.9370 - val_Precision: 0.7000 - val_Recall: 0.9568 - val_loss: 0.0023 - val_pr_auc: 0.8953\n",
            "Epoch 43/50\n",
            "\u001b[1m 13/691\u001b[0m \u001b[37m━━━━━━━━━━━━━━━━━━━━\u001b[0m \u001b[1m6s\u001b[0m 9ms/step - Precision: 0.5471 - Recall: 0.6557 - loss: 0.0195 - pr_auc: 0.5368"
          ]
        },
        {
          "output_type": "stream",
          "name": "stderr",
          "text": [
            "/usr/local/lib/python3.11/dist-packages/keras/src/callbacks/early_stopping.py:153: UserWarning: Early stopping conditioned on metric `val_precision` which is not available. Available metrics are: Precision,Recall,loss,pr_auc,val_Precision,val_Recall,val_loss,val_pr_auc\n",
            "  current = self.get_monitor_value(logs)\n"
          ]
        },
        {
          "output_type": "stream",
          "name": "stdout",
          "text": [
            "\u001b[1m691/691\u001b[0m \u001b[32m━━━━━━━━━━━━━━━━━━━━\u001b[0m\u001b[37m\u001b[0m \u001b[1m7s\u001b[0m 11ms/step - Precision: 0.8138 - Recall: 0.9805 - loss: 0.0033 - pr_auc: 0.9361 - val_Precision: 0.7471 - val_Recall: 0.9353 - val_loss: 0.0020 - val_pr_auc: 0.8986\n",
            "Epoch 44/50\n",
            "\u001b[1m 13/691\u001b[0m \u001b[37m━━━━━━━━━━━━━━━━━━━━\u001b[0m \u001b[1m6s\u001b[0m 9ms/step - Precision: 0.8591 - Recall: 0.9231 - loss: 0.0018 - pr_auc: 0.9070"
          ]
        },
        {
          "output_type": "stream",
          "name": "stderr",
          "text": [
            "/usr/local/lib/python3.11/dist-packages/keras/src/callbacks/early_stopping.py:153: UserWarning: Early stopping conditioned on metric `val_precision` which is not available. Available metrics are: Precision,Recall,loss,pr_auc,val_Precision,val_Recall,val_loss,val_pr_auc\n",
            "  current = self.get_monitor_value(logs)\n"
          ]
        },
        {
          "output_type": "stream",
          "name": "stdout",
          "text": [
            "\u001b[1m691/691\u001b[0m \u001b[32m━━━━━━━━━━━━━━━━━━━━\u001b[0m\u001b[37m\u001b[0m \u001b[1m7s\u001b[0m 11ms/step - Precision: 0.8334 - Recall: 0.9762 - loss: 0.0027 - pr_auc: 0.9333 - val_Precision: 0.7572 - val_Recall: 0.9424 - val_loss: 0.0020 - val_pr_auc: 0.8860\n",
            "Epoch 45/50\n",
            "\u001b[1m 13/691\u001b[0m \u001b[37m━━━━━━━━━━━━━━━━━━━━\u001b[0m \u001b[1m6s\u001b[0m 9ms/step - Precision: 0.7607 - Recall: 0.7692 - loss: 4.1087e-04 - pr_auc: 0.7692"
          ]
        },
        {
          "output_type": "stream",
          "name": "stderr",
          "text": [
            "/usr/local/lib/python3.11/dist-packages/keras/src/callbacks/early_stopping.py:153: UserWarning: Early stopping conditioned on metric `val_precision` which is not available. Available metrics are: Precision,Recall,loss,pr_auc,val_Precision,val_Recall,val_loss,val_pr_auc\n",
            "  current = self.get_monitor_value(logs)\n"
          ]
        },
        {
          "output_type": "stream",
          "name": "stdout",
          "text": [
            "\u001b[1m691/691\u001b[0m \u001b[32m━━━━━━━━━━━━━━━━━━━━\u001b[0m\u001b[37m\u001b[0m \u001b[1m7s\u001b[0m 11ms/step - Precision: 0.8070 - Recall: 0.9729 - loss: 0.0027 - pr_auc: 0.9503 - val_Precision: 0.7725 - val_Recall: 0.9281 - val_loss: 0.0018 - val_pr_auc: 0.8999\n",
            "Epoch 46/50\n",
            "\u001b[1m 13/691\u001b[0m \u001b[37m━━━━━━━━━━━━━━━━━━━━\u001b[0m \u001b[1m6s\u001b[0m 9ms/step - Precision: 0.6528 - Recall: 0.7692 - loss: 0.0015 - pr_auc: 0.7692    "
          ]
        },
        {
          "output_type": "stream",
          "name": "stderr",
          "text": [
            "/usr/local/lib/python3.11/dist-packages/keras/src/callbacks/early_stopping.py:153: UserWarning: Early stopping conditioned on metric `val_precision` which is not available. Available metrics are: Precision,Recall,loss,pr_auc,val_Precision,val_Recall,val_loss,val_pr_auc\n",
            "  current = self.get_monitor_value(logs)\n"
          ]
        },
        {
          "output_type": "stream",
          "name": "stdout",
          "text": [
            "\u001b[1m691/691\u001b[0m \u001b[32m━━━━━━━━━━━━━━━━━━━━\u001b[0m\u001b[37m\u001b[0m \u001b[1m7s\u001b[0m 10ms/step - Precision: 0.8195 - Recall: 0.9715 - loss: 0.0024 - pr_auc: 0.9272 - val_Precision: 0.5870 - val_Recall: 0.9712 - val_loss: 0.0036 - val_pr_auc: 0.8735\n",
            "Epoch 47/50\n",
            "\u001b[1m 13/691\u001b[0m \u001b[37m━━━━━━━━━━━━━━━━━━━━\u001b[0m \u001b[1m6s\u001b[0m 9ms/step - Precision: 0.3982 - Recall: 0.6923 - loss: 0.0027 - pr_auc: 0.6665"
          ]
        },
        {
          "output_type": "stream",
          "name": "stderr",
          "text": [
            "/usr/local/lib/python3.11/dist-packages/keras/src/callbacks/early_stopping.py:153: UserWarning: Early stopping conditioned on metric `val_precision` which is not available. Available metrics are: Precision,Recall,loss,pr_auc,val_Precision,val_Recall,val_loss,val_pr_auc\n",
            "  current = self.get_monitor_value(logs)\n"
          ]
        },
        {
          "output_type": "stream",
          "name": "stdout",
          "text": [
            "\u001b[1m691/691\u001b[0m \u001b[32m━━━━━━━━━━━━━━━━━━━━\u001b[0m\u001b[37m\u001b[0m \u001b[1m7s\u001b[0m 11ms/step - Precision: 0.7839 - Recall: 0.9657 - loss: 0.0025 - pr_auc: 0.9481 - val_Precision: 0.7688 - val_Recall: 0.9568 - val_loss: 0.0020 - val_pr_auc: 0.9033\n",
            "Epoch 48/50\n",
            "\u001b[1m 13/691\u001b[0m \u001b[37m━━━━━━━━━━━━━━━━━━━━\u001b[0m \u001b[1m6s\u001b[0m 9ms/step - Precision: 0.8702 - Recall: 0.9231 - loss: 0.0020 - pr_auc: 0.9155"
          ]
        },
        {
          "output_type": "stream",
          "name": "stderr",
          "text": [
            "/usr/local/lib/python3.11/dist-packages/keras/src/callbacks/early_stopping.py:153: UserWarning: Early stopping conditioned on metric `val_precision` which is not available. Available metrics are: Precision,Recall,loss,pr_auc,val_Precision,val_Recall,val_loss,val_pr_auc\n",
            "  current = self.get_monitor_value(logs)\n"
          ]
        },
        {
          "output_type": "stream",
          "name": "stdout",
          "text": [
            "\u001b[1m691/691\u001b[0m \u001b[32m━━━━━━━━━━━━━━━━━━━━\u001b[0m\u001b[37m\u001b[0m \u001b[1m7s\u001b[0m 10ms/step - Precision: 0.8161 - Recall: 0.9806 - loss: 0.0022 - pr_auc: 0.9550 - val_Precision: 0.7914 - val_Recall: 0.9281 - val_loss: 0.0020 - val_pr_auc: 0.8978\n",
            "Epoch 49/50\n",
            "\u001b[1m 13/691\u001b[0m \u001b[37m━━━━━━━━━━━━━━━━━━━━\u001b[0m \u001b[1m6s\u001b[0m 9ms/step - Precision: 0.8392 - Recall: 0.8238 - loss: 0.0035 - pr_auc: 0.8240    "
          ]
        },
        {
          "output_type": "stream",
          "name": "stderr",
          "text": [
            "/usr/local/lib/python3.11/dist-packages/keras/src/callbacks/early_stopping.py:153: UserWarning: Early stopping conditioned on metric `val_precision` which is not available. Available metrics are: Precision,Recall,loss,pr_auc,val_Precision,val_Recall,val_loss,val_pr_auc\n",
            "  current = self.get_monitor_value(logs)\n"
          ]
        },
        {
          "output_type": "stream",
          "name": "stdout",
          "text": [
            "\u001b[1m691/691\u001b[0m \u001b[32m━━━━━━━━━━━━━━━━━━━━\u001b[0m\u001b[37m\u001b[0m \u001b[1m7s\u001b[0m 10ms/step - Precision: 0.8352 - Recall: 0.9680 - loss: 0.0027 - pr_auc: 0.9538 - val_Precision: 0.7228 - val_Recall: 0.9568 - val_loss: 0.0031 - val_pr_auc: 0.8303\n",
            "Epoch 50/50\n",
            "\u001b[1m 13/691\u001b[0m \u001b[37m━━━━━━━━━━━━━━━━━━━━\u001b[0m \u001b[1m6s\u001b[0m 9ms/step - Precision: 0.4761 - Recall: 0.7975 - loss: 0.0064 - pr_auc: 0.6178"
          ]
        },
        {
          "output_type": "stream",
          "name": "stderr",
          "text": [
            "/usr/local/lib/python3.11/dist-packages/keras/src/callbacks/early_stopping.py:153: UserWarning: Early stopping conditioned on metric `val_precision` which is not available. Available metrics are: Precision,Recall,loss,pr_auc,val_Precision,val_Recall,val_loss,val_pr_auc\n",
            "  current = self.get_monitor_value(logs)\n"
          ]
        },
        {
          "output_type": "stream",
          "name": "stdout",
          "text": [
            "\u001b[1m691/691\u001b[0m \u001b[32m━━━━━━━━━━━━━━━━━━━━\u001b[0m\u001b[37m\u001b[0m \u001b[1m7s\u001b[0m 11ms/step - Precision: 0.7551 - Recall: 0.9677 - loss: 0.0033 - pr_auc: 0.9225 - val_Precision: 0.8037 - val_Recall: 0.9424 - val_loss: 0.0018 - val_pr_auc: 0.9018\n"
          ]
        },
        {
          "output_type": "stream",
          "name": "stderr",
          "text": [
            "/usr/local/lib/python3.11/dist-packages/keras/src/callbacks/early_stopping.py:153: UserWarning: Early stopping conditioned on metric `val_precision` which is not available. Available metrics are: Precision,Recall,loss,pr_auc,val_Precision,val_Recall,val_loss,val_pr_auc\n",
            "  current = self.get_monitor_value(logs)\n"
          ]
        },
        {
          "output_type": "stream",
          "name": "stdout",
          "text": [
            "\u001b[1m3451/3451\u001b[0m \u001b[32m━━━━━━━━━━━━━━━━━━━━\u001b[0m\u001b[37m\u001b[0m \u001b[1m10s\u001b[0m 3ms/step\n"
          ]
        },
        {
          "output_type": "display_data",
          "data": {
            "text/plain": [
              "<Figure size 1500x500 with 2 Axes>"
            ],
            "image/png": "[encoded data removed]"
          },
          "metadata": {}
        },
        {
          "output_type": "display_data",
          "data": {
            "text/plain": [
              "<Figure size 640x480 with 1 Axes>"
            ],
            "image/png": "[encoded data removed]"
          },
          "metadata": {}
        },
        {
          "output_type": "display_data",
          "data": {
            "text/plain": [
              "<IPython.core.display.Markdown object>"
            ],
            "text/markdown": "## Deforestation Detection Model Performance"
          },
          "metadata": {}
        },
        {
          "output_type": "stream",
          "name": "stderr",
          "text": [
            "WARNING:absl:You are saving your model as an HDF5 file via `model.save()` or `keras.saving.save_model(model)`. This file format is considered legacy. We recommend using instead the native Keras format, e.g. `model.save('my_model.keras')` or `keras.saving.save_model(model, 'my_model.keras')`. \n"
          ]
        },
        {
          "output_type": "stream",
          "name": "stdout",
          "text": [
            "========================================\n",
            "Training Time: 446.79 seconds\n",
            "Peak RAM Usage: 10.59 GB\n",
            "CPU Usage: 8.0% (avg), 11.8% (max)\n",
            "\n",
            "PR-AUC: 0.9378 (Critical for Imbalance)\n",
            "Inference Speed: 0.1069 ms/sample\n",
            "\n",
            "Classification Report:\n",
            "                  precision    recall  f1-score   support\n",
            "\n",
            "No Deforestation       1.00      1.00      1.00    110239\n",
            "   Deforestation       0.86      0.94      0.90       171\n",
            "\n",
            "        accuracy                           1.00    110410\n",
            "       macro avg       0.93      0.97      0.95    110410\n",
            "    weighted avg       1.00      1.00      1.00    110410\n",
            "\n",
            "\n",
            "Results saved to:\n",
            "- Model: /content/drive/MyDrive/MasterThesis/04_results/bi-lstm_improved_20250626_013739.h5\n",
            "- Metrics: /content/drive/MyDrive/MasterThesis/04_results/bi-lstm_improved_metrics_20250626_013739.json\n",
            "- Plots: /content/drive/MyDrive/MasterThesis/04_results/bi-lstm_improved_plots_20250626_013739.png\n"
          ]
        },
        {
          "output_type": "display_data",
          "data": {
            "text/plain": [
              "<Figure size 640x480 with 0 Axes>"
            ]
          },
          "metadata": {}
        }
      ]
    }
  ]
}